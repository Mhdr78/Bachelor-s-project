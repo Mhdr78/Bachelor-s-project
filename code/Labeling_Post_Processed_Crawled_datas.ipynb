{
  "nbformat": 4,
  "nbformat_minor": 0,
  "metadata": {
    "colab": {
      "provenance": [],
      "collapsed_sections": [
        "PwsoLtLHt0u6",
        "A-nTFUoSt6W9",
        "b4IQ_xVstTdJ"
      ]
    },
    "kernelspec": {
      "name": "python3",
      "display_name": "Python 3"
    },
    "language_info": {
      "name": "python"
    },
    "accelerator": "TPU",
    "gpuClass": "standard",
    "widgets": {
      "application/vnd.jupyter.widget-state+json": {
        "dd13e8e0aeec4805b23593c3c500bfa1": {
          "model_module": "@jupyter-widgets/controls",
          "model_name": "HBoxModel",
          "model_module_version": "1.5.0",
          "state": {
            "_dom_classes": [],
            "_model_module": "@jupyter-widgets/controls",
            "_model_module_version": "1.5.0",
            "_model_name": "HBoxModel",
            "_view_count": null,
            "_view_module": "@jupyter-widgets/controls",
            "_view_module_version": "1.5.0",
            "_view_name": "HBoxView",
            "box_style": "",
            "children": [
              "IPY_MODEL_95438885d9ad4d6c972629538e6d5df8",
              "IPY_MODEL_49e6e145e0d34ef8ab9b00c757a8e008",
              "IPY_MODEL_46b562c8cacf4a3b9b14740d11bc2c34"
            ],
            "layout": "IPY_MODEL_b0a8fecf20ca4d6eb4535eacc7d92749"
          }
        },
        "95438885d9ad4d6c972629538e6d5df8": {
          "model_module": "@jupyter-widgets/controls",
          "model_name": "HTMLModel",
          "model_module_version": "1.5.0",
          "state": {
            "_dom_classes": [],
            "_model_module": "@jupyter-widgets/controls",
            "_model_module_version": "1.5.0",
            "_model_name": "HTMLModel",
            "_view_count": null,
            "_view_module": "@jupyter-widgets/controls",
            "_view_module_version": "1.5.0",
            "_view_name": "HTMLView",
            "description": "",
            "description_tooltip": null,
            "layout": "IPY_MODEL_1f8c34e30c4f4e1090fc49bfcc766edd",
            "placeholder": "​",
            "style": "IPY_MODEL_042e0ef9a77e45e982adbad848c6d815",
            "value": "Downloading: 100%"
          }
        },
        "49e6e145e0d34ef8ab9b00c757a8e008": {
          "model_module": "@jupyter-widgets/controls",
          "model_name": "FloatProgressModel",
          "model_module_version": "1.5.0",
          "state": {
            "_dom_classes": [],
            "_model_module": "@jupyter-widgets/controls",
            "_model_module_version": "1.5.0",
            "_model_name": "FloatProgressModel",
            "_view_count": null,
            "_view_module": "@jupyter-widgets/controls",
            "_view_module_version": "1.5.0",
            "_view_name": "ProgressView",
            "bar_style": "success",
            "description": "",
            "description_tooltip": null,
            "layout": "IPY_MODEL_7e3c7e41f3cf4aa590b4bd4920f1fecc",
            "max": 426422,
            "min": 0,
            "orientation": "horizontal",
            "style": "IPY_MODEL_21b9a44de75544cca51c7b21f2df1d32",
            "value": 426422
          }
        },
        "46b562c8cacf4a3b9b14740d11bc2c34": {
          "model_module": "@jupyter-widgets/controls",
          "model_name": "HTMLModel",
          "model_module_version": "1.5.0",
          "state": {
            "_dom_classes": [],
            "_model_module": "@jupyter-widgets/controls",
            "_model_module_version": "1.5.0",
            "_model_name": "HTMLModel",
            "_view_count": null,
            "_view_module": "@jupyter-widgets/controls",
            "_view_module_version": "1.5.0",
            "_view_name": "HTMLView",
            "description": "",
            "description_tooltip": null,
            "layout": "IPY_MODEL_0818f173702741f884a3a5e3bab32946",
            "placeholder": "​",
            "style": "IPY_MODEL_4fa0aa2af9fd421eb76f6381c654ca9a",
            "value": " 426k/426k [00:00&lt;00:00, 845kB/s]"
          }
        },
        "b0a8fecf20ca4d6eb4535eacc7d92749": {
          "model_module": "@jupyter-widgets/base",
          "model_name": "LayoutModel",
          "model_module_version": "1.2.0",
          "state": {
            "_model_module": "@jupyter-widgets/base",
            "_model_module_version": "1.2.0",
            "_model_name": "LayoutModel",
            "_view_count": null,
            "_view_module": "@jupyter-widgets/base",
            "_view_module_version": "1.2.0",
            "_view_name": "LayoutView",
            "align_content": null,
            "align_items": null,
            "align_self": null,
            "border": null,
            "bottom": null,
            "display": null,
            "flex": null,
            "flex_flow": null,
            "grid_area": null,
            "grid_auto_columns": null,
            "grid_auto_flow": null,
            "grid_auto_rows": null,
            "grid_column": null,
            "grid_gap": null,
            "grid_row": null,
            "grid_template_areas": null,
            "grid_template_columns": null,
            "grid_template_rows": null,
            "height": null,
            "justify_content": null,
            "justify_items": null,
            "left": null,
            "margin": null,
            "max_height": null,
            "max_width": null,
            "min_height": null,
            "min_width": null,
            "object_fit": null,
            "object_position": null,
            "order": null,
            "overflow": null,
            "overflow_x": null,
            "overflow_y": null,
            "padding": null,
            "right": null,
            "top": null,
            "visibility": null,
            "width": null
          }
        },
        "1f8c34e30c4f4e1090fc49bfcc766edd": {
          "model_module": "@jupyter-widgets/base",
          "model_name": "LayoutModel",
          "model_module_version": "1.2.0",
          "state": {
            "_model_module": "@jupyter-widgets/base",
            "_model_module_version": "1.2.0",
            "_model_name": "LayoutModel",
            "_view_count": null,
            "_view_module": "@jupyter-widgets/base",
            "_view_module_version": "1.2.0",
            "_view_name": "LayoutView",
            "align_content": null,
            "align_items": null,
            "align_self": null,
            "border": null,
            "bottom": null,
            "display": null,
            "flex": null,
            "flex_flow": null,
            "grid_area": null,
            "grid_auto_columns": null,
            "grid_auto_flow": null,
            "grid_auto_rows": null,
            "grid_column": null,
            "grid_gap": null,
            "grid_row": null,
            "grid_template_areas": null,
            "grid_template_columns": null,
            "grid_template_rows": null,
            "height": null,
            "justify_content": null,
            "justify_items": null,
            "left": null,
            "margin": null,
            "max_height": null,
            "max_width": null,
            "min_height": null,
            "min_width": null,
            "object_fit": null,
            "object_position": null,
            "order": null,
            "overflow": null,
            "overflow_x": null,
            "overflow_y": null,
            "padding": null,
            "right": null,
            "top": null,
            "visibility": null,
            "width": null
          }
        },
        "042e0ef9a77e45e982adbad848c6d815": {
          "model_module": "@jupyter-widgets/controls",
          "model_name": "DescriptionStyleModel",
          "model_module_version": "1.5.0",
          "state": {
            "_model_module": "@jupyter-widgets/controls",
            "_model_module_version": "1.5.0",
            "_model_name": "DescriptionStyleModel",
            "_view_count": null,
            "_view_module": "@jupyter-widgets/base",
            "_view_module_version": "1.2.0",
            "_view_name": "StyleView",
            "description_width": ""
          }
        },
        "7e3c7e41f3cf4aa590b4bd4920f1fecc": {
          "model_module": "@jupyter-widgets/base",
          "model_name": "LayoutModel",
          "model_module_version": "1.2.0",
          "state": {
            "_model_module": "@jupyter-widgets/base",
            "_model_module_version": "1.2.0",
            "_model_name": "LayoutModel",
            "_view_count": null,
            "_view_module": "@jupyter-widgets/base",
            "_view_module_version": "1.2.0",
            "_view_name": "LayoutView",
            "align_content": null,
            "align_items": null,
            "align_self": null,
            "border": null,
            "bottom": null,
            "display": null,
            "flex": null,
            "flex_flow": null,
            "grid_area": null,
            "grid_auto_columns": null,
            "grid_auto_flow": null,
            "grid_auto_rows": null,
            "grid_column": null,
            "grid_gap": null,
            "grid_row": null,
            "grid_template_areas": null,
            "grid_template_columns": null,
            "grid_template_rows": null,
            "height": null,
            "justify_content": null,
            "justify_items": null,
            "left": null,
            "margin": null,
            "max_height": null,
            "max_width": null,
            "min_height": null,
            "min_width": null,
            "object_fit": null,
            "object_position": null,
            "order": null,
            "overflow": null,
            "overflow_x": null,
            "overflow_y": null,
            "padding": null,
            "right": null,
            "top": null,
            "visibility": null,
            "width": null
          }
        },
        "21b9a44de75544cca51c7b21f2df1d32": {
          "model_module": "@jupyter-widgets/controls",
          "model_name": "ProgressStyleModel",
          "model_module_version": "1.5.0",
          "state": {
            "_model_module": "@jupyter-widgets/controls",
            "_model_module_version": "1.5.0",
            "_model_name": "ProgressStyleModel",
            "_view_count": null,
            "_view_module": "@jupyter-widgets/base",
            "_view_module_version": "1.2.0",
            "_view_name": "StyleView",
            "bar_color": null,
            "description_width": ""
          }
        },
        "0818f173702741f884a3a5e3bab32946": {
          "model_module": "@jupyter-widgets/base",
          "model_name": "LayoutModel",
          "model_module_version": "1.2.0",
          "state": {
            "_model_module": "@jupyter-widgets/base",
            "_model_module_version": "1.2.0",
            "_model_name": "LayoutModel",
            "_view_count": null,
            "_view_module": "@jupyter-widgets/base",
            "_view_module_version": "1.2.0",
            "_view_name": "LayoutView",
            "align_content": null,
            "align_items": null,
            "align_self": null,
            "border": null,
            "bottom": null,
            "display": null,
            "flex": null,
            "flex_flow": null,
            "grid_area": null,
            "grid_auto_columns": null,
            "grid_auto_flow": null,
            "grid_auto_rows": null,
            "grid_column": null,
            "grid_gap": null,
            "grid_row": null,
            "grid_template_areas": null,
            "grid_template_columns": null,
            "grid_template_rows": null,
            "height": null,
            "justify_content": null,
            "justify_items": null,
            "left": null,
            "margin": null,
            "max_height": null,
            "max_width": null,
            "min_height": null,
            "min_width": null,
            "object_fit": null,
            "object_position": null,
            "order": null,
            "overflow": null,
            "overflow_x": null,
            "overflow_y": null,
            "padding": null,
            "right": null,
            "top": null,
            "visibility": null,
            "width": null
          }
        },
        "4fa0aa2af9fd421eb76f6381c654ca9a": {
          "model_module": "@jupyter-widgets/controls",
          "model_name": "DescriptionStyleModel",
          "model_module_version": "1.5.0",
          "state": {
            "_model_module": "@jupyter-widgets/controls",
            "_model_module_version": "1.5.0",
            "_model_name": "DescriptionStyleModel",
            "_view_count": null,
            "_view_module": "@jupyter-widgets/base",
            "_view_module_version": "1.2.0",
            "_view_name": "StyleView",
            "description_width": ""
          }
        },
        "822cad0e9f5146dfae7807fa11e5ced4": {
          "model_module": "@jupyter-widgets/controls",
          "model_name": "HBoxModel",
          "model_module_version": "1.5.0",
          "state": {
            "_dom_classes": [],
            "_model_module": "@jupyter-widgets/controls",
            "_model_module_version": "1.5.0",
            "_model_name": "HBoxModel",
            "_view_count": null,
            "_view_module": "@jupyter-widgets/controls",
            "_view_module_version": "1.5.0",
            "_view_name": "HBoxView",
            "box_style": "",
            "children": [
              "IPY_MODEL_a480bd2850ea4dc0a76f31ba2aa52d6d",
              "IPY_MODEL_d5b5748478df425386177b888b70dad6",
              "IPY_MODEL_0ea26913e13a462e8d9e719be43cf290"
            ],
            "layout": "IPY_MODEL_ec21948f3b8c4eeca9c0b2325c6084f1"
          }
        },
        "a480bd2850ea4dc0a76f31ba2aa52d6d": {
          "model_module": "@jupyter-widgets/controls",
          "model_name": "HTMLModel",
          "model_module_version": "1.5.0",
          "state": {
            "_dom_classes": [],
            "_model_module": "@jupyter-widgets/controls",
            "_model_module_version": "1.5.0",
            "_model_name": "HTMLModel",
            "_view_count": null,
            "_view_module": "@jupyter-widgets/controls",
            "_view_module_version": "1.5.0",
            "_view_name": "HTMLView",
            "description": "",
            "description_tooltip": null,
            "layout": "IPY_MODEL_dd03806e636d47f4b95d5934596a63de",
            "placeholder": "​",
            "style": "IPY_MODEL_76715383b936479083d483a79d108db7",
            "value": "Downloading: 100%"
          }
        },
        "d5b5748478df425386177b888b70dad6": {
          "model_module": "@jupyter-widgets/controls",
          "model_name": "FloatProgressModel",
          "model_module_version": "1.5.0",
          "state": {
            "_dom_classes": [],
            "_model_module": "@jupyter-widgets/controls",
            "_model_module_version": "1.5.0",
            "_model_name": "FloatProgressModel",
            "_view_count": null,
            "_view_module": "@jupyter-widgets/controls",
            "_view_module_version": "1.5.0",
            "_view_name": "ProgressView",
            "bar_style": "success",
            "description": "",
            "description_tooltip": null,
            "layout": "IPY_MODEL_3bf906a7344846b1ace7a125ee0884f3",
            "max": 134,
            "min": 0,
            "orientation": "horizontal",
            "style": "IPY_MODEL_0cbc5c90741d43b284c4b99e6934f9d3",
            "value": 134
          }
        },
        "0ea26913e13a462e8d9e719be43cf290": {
          "model_module": "@jupyter-widgets/controls",
          "model_name": "HTMLModel",
          "model_module_version": "1.5.0",
          "state": {
            "_dom_classes": [],
            "_model_module": "@jupyter-widgets/controls",
            "_model_module_version": "1.5.0",
            "_model_name": "HTMLModel",
            "_view_count": null,
            "_view_module": "@jupyter-widgets/controls",
            "_view_module_version": "1.5.0",
            "_view_name": "HTMLView",
            "description": "",
            "description_tooltip": null,
            "layout": "IPY_MODEL_c326db8c445e4fdda3c2e3b9f4820457",
            "placeholder": "​",
            "style": "IPY_MODEL_446f6086f7b945858f431b4b3c03b731",
            "value": " 134/134 [00:00&lt;00:00, 1.67kB/s]"
          }
        },
        "ec21948f3b8c4eeca9c0b2325c6084f1": {
          "model_module": "@jupyter-widgets/base",
          "model_name": "LayoutModel",
          "model_module_version": "1.2.0",
          "state": {
            "_model_module": "@jupyter-widgets/base",
            "_model_module_version": "1.2.0",
            "_model_name": "LayoutModel",
            "_view_count": null,
            "_view_module": "@jupyter-widgets/base",
            "_view_module_version": "1.2.0",
            "_view_name": "LayoutView",
            "align_content": null,
            "align_items": null,
            "align_self": null,
            "border": null,
            "bottom": null,
            "display": null,
            "flex": null,
            "flex_flow": null,
            "grid_area": null,
            "grid_auto_columns": null,
            "grid_auto_flow": null,
            "grid_auto_rows": null,
            "grid_column": null,
            "grid_gap": null,
            "grid_row": null,
            "grid_template_areas": null,
            "grid_template_columns": null,
            "grid_template_rows": null,
            "height": null,
            "justify_content": null,
            "justify_items": null,
            "left": null,
            "margin": null,
            "max_height": null,
            "max_width": null,
            "min_height": null,
            "min_width": null,
            "object_fit": null,
            "object_position": null,
            "order": null,
            "overflow": null,
            "overflow_x": null,
            "overflow_y": null,
            "padding": null,
            "right": null,
            "top": null,
            "visibility": null,
            "width": null
          }
        },
        "dd03806e636d47f4b95d5934596a63de": {
          "model_module": "@jupyter-widgets/base",
          "model_name": "LayoutModel",
          "model_module_version": "1.2.0",
          "state": {
            "_model_module": "@jupyter-widgets/base",
            "_model_module_version": "1.2.0",
            "_model_name": "LayoutModel",
            "_view_count": null,
            "_view_module": "@jupyter-widgets/base",
            "_view_module_version": "1.2.0",
            "_view_name": "LayoutView",
            "align_content": null,
            "align_items": null,
            "align_self": null,
            "border": null,
            "bottom": null,
            "display": null,
            "flex": null,
            "flex_flow": null,
            "grid_area": null,
            "grid_auto_columns": null,
            "grid_auto_flow": null,
            "grid_auto_rows": null,
            "grid_column": null,
            "grid_gap": null,
            "grid_row": null,
            "grid_template_areas": null,
            "grid_template_columns": null,
            "grid_template_rows": null,
            "height": null,
            "justify_content": null,
            "justify_items": null,
            "left": null,
            "margin": null,
            "max_height": null,
            "max_width": null,
            "min_height": null,
            "min_width": null,
            "object_fit": null,
            "object_position": null,
            "order": null,
            "overflow": null,
            "overflow_x": null,
            "overflow_y": null,
            "padding": null,
            "right": null,
            "top": null,
            "visibility": null,
            "width": null
          }
        },
        "76715383b936479083d483a79d108db7": {
          "model_module": "@jupyter-widgets/controls",
          "model_name": "DescriptionStyleModel",
          "model_module_version": "1.5.0",
          "state": {
            "_model_module": "@jupyter-widgets/controls",
            "_model_module_version": "1.5.0",
            "_model_name": "DescriptionStyleModel",
            "_view_count": null,
            "_view_module": "@jupyter-widgets/base",
            "_view_module_version": "1.2.0",
            "_view_name": "StyleView",
            "description_width": ""
          }
        },
        "3bf906a7344846b1ace7a125ee0884f3": {
          "model_module": "@jupyter-widgets/base",
          "model_name": "LayoutModel",
          "model_module_version": "1.2.0",
          "state": {
            "_model_module": "@jupyter-widgets/base",
            "_model_module_version": "1.2.0",
            "_model_name": "LayoutModel",
            "_view_count": null,
            "_view_module": "@jupyter-widgets/base",
            "_view_module_version": "1.2.0",
            "_view_name": "LayoutView",
            "align_content": null,
            "align_items": null,
            "align_self": null,
            "border": null,
            "bottom": null,
            "display": null,
            "flex": null,
            "flex_flow": null,
            "grid_area": null,
            "grid_auto_columns": null,
            "grid_auto_flow": null,
            "grid_auto_rows": null,
            "grid_column": null,
            "grid_gap": null,
            "grid_row": null,
            "grid_template_areas": null,
            "grid_template_columns": null,
            "grid_template_rows": null,
            "height": null,
            "justify_content": null,
            "justify_items": null,
            "left": null,
            "margin": null,
            "max_height": null,
            "max_width": null,
            "min_height": null,
            "min_width": null,
            "object_fit": null,
            "object_position": null,
            "order": null,
            "overflow": null,
            "overflow_x": null,
            "overflow_y": null,
            "padding": null,
            "right": null,
            "top": null,
            "visibility": null,
            "width": null
          }
        },
        "0cbc5c90741d43b284c4b99e6934f9d3": {
          "model_module": "@jupyter-widgets/controls",
          "model_name": "ProgressStyleModel",
          "model_module_version": "1.5.0",
          "state": {
            "_model_module": "@jupyter-widgets/controls",
            "_model_module_version": "1.5.0",
            "_model_name": "ProgressStyleModel",
            "_view_count": null,
            "_view_module": "@jupyter-widgets/base",
            "_view_module_version": "1.2.0",
            "_view_name": "StyleView",
            "bar_color": null,
            "description_width": ""
          }
        },
        "c326db8c445e4fdda3c2e3b9f4820457": {
          "model_module": "@jupyter-widgets/base",
          "model_name": "LayoutModel",
          "model_module_version": "1.2.0",
          "state": {
            "_model_module": "@jupyter-widgets/base",
            "_model_module_version": "1.2.0",
            "_model_name": "LayoutModel",
            "_view_count": null,
            "_view_module": "@jupyter-widgets/base",
            "_view_module_version": "1.2.0",
            "_view_name": "LayoutView",
            "align_content": null,
            "align_items": null,
            "align_self": null,
            "border": null,
            "bottom": null,
            "display": null,
            "flex": null,
            "flex_flow": null,
            "grid_area": null,
            "grid_auto_columns": null,
            "grid_auto_flow": null,
            "grid_auto_rows": null,
            "grid_column": null,
            "grid_gap": null,
            "grid_row": null,
            "grid_template_areas": null,
            "grid_template_columns": null,
            "grid_template_rows": null,
            "height": null,
            "justify_content": null,
            "justify_items": null,
            "left": null,
            "margin": null,
            "max_height": null,
            "max_width": null,
            "min_height": null,
            "min_width": null,
            "object_fit": null,
            "object_position": null,
            "order": null,
            "overflow": null,
            "overflow_x": null,
            "overflow_y": null,
            "padding": null,
            "right": null,
            "top": null,
            "visibility": null,
            "width": null
          }
        },
        "446f6086f7b945858f431b4b3c03b731": {
          "model_module": "@jupyter-widgets/controls",
          "model_name": "DescriptionStyleModel",
          "model_module_version": "1.5.0",
          "state": {
            "_model_module": "@jupyter-widgets/controls",
            "_model_module_version": "1.5.0",
            "_model_name": "DescriptionStyleModel",
            "_view_count": null,
            "_view_module": "@jupyter-widgets/base",
            "_view_module_version": "1.2.0",
            "_view_name": "StyleView",
            "description_width": ""
          }
        },
        "0b263d115a8a445f8d8a20f7e90001ca": {
          "model_module": "@jupyter-widgets/controls",
          "model_name": "HBoxModel",
          "model_module_version": "1.5.0",
          "state": {
            "_dom_classes": [],
            "_model_module": "@jupyter-widgets/controls",
            "_model_module_version": "1.5.0",
            "_model_name": "HBoxModel",
            "_view_count": null,
            "_view_module": "@jupyter-widgets/controls",
            "_view_module_version": "1.5.0",
            "_view_name": "HBoxView",
            "box_style": "",
            "children": [
              "IPY_MODEL_2b68583878664ac68f01bfc16a44ee0b",
              "IPY_MODEL_b0e8e167453e44ffa3a504bc2457b612",
              "IPY_MODEL_8e58a02ea8d847dc9118c4704a7638b1"
            ],
            "layout": "IPY_MODEL_29f4a1abfd9a46b9aac92c8865890908"
          }
        },
        "2b68583878664ac68f01bfc16a44ee0b": {
          "model_module": "@jupyter-widgets/controls",
          "model_name": "HTMLModel",
          "model_module_version": "1.5.0",
          "state": {
            "_dom_classes": [],
            "_model_module": "@jupyter-widgets/controls",
            "_model_module_version": "1.5.0",
            "_model_name": "HTMLModel",
            "_view_count": null,
            "_view_module": "@jupyter-widgets/controls",
            "_view_module_version": "1.5.0",
            "_view_name": "HTMLView",
            "description": "",
            "description_tooltip": null,
            "layout": "IPY_MODEL_3b4832a3131a48bcabf04237f17f6ccf",
            "placeholder": "​",
            "style": "IPY_MODEL_cfb64511d0844d51921f60bb3c691ac2",
            "value": "Downloading: 100%"
          }
        },
        "b0e8e167453e44ffa3a504bc2457b612": {
          "model_module": "@jupyter-widgets/controls",
          "model_name": "FloatProgressModel",
          "model_module_version": "1.5.0",
          "state": {
            "_dom_classes": [],
            "_model_module": "@jupyter-widgets/controls",
            "_model_module_version": "1.5.0",
            "_model_name": "FloatProgressModel",
            "_view_count": null,
            "_view_module": "@jupyter-widgets/controls",
            "_view_module_version": "1.5.0",
            "_view_name": "ProgressView",
            "bar_style": "success",
            "description": "",
            "description_tooltip": null,
            "layout": "IPY_MODEL_8df27eb8ef504fa0aae15b746148408e",
            "max": 292,
            "min": 0,
            "orientation": "horizontal",
            "style": "IPY_MODEL_3afe0af1167f4d59bb69da11af080d63",
            "value": 292
          }
        },
        "8e58a02ea8d847dc9118c4704a7638b1": {
          "model_module": "@jupyter-widgets/controls",
          "model_name": "HTMLModel",
          "model_module_version": "1.5.0",
          "state": {
            "_dom_classes": [],
            "_model_module": "@jupyter-widgets/controls",
            "_model_module_version": "1.5.0",
            "_model_name": "HTMLModel",
            "_view_count": null,
            "_view_module": "@jupyter-widgets/controls",
            "_view_module_version": "1.5.0",
            "_view_name": "HTMLView",
            "description": "",
            "description_tooltip": null,
            "layout": "IPY_MODEL_ee4fcdc4c3384412acd5af7d892fdf30",
            "placeholder": "​",
            "style": "IPY_MODEL_fd479d327f6f4d1f9a542d0f9677af6b",
            "value": " 292/292 [00:00&lt;00:00, 7.45kB/s]"
          }
        },
        "29f4a1abfd9a46b9aac92c8865890908": {
          "model_module": "@jupyter-widgets/base",
          "model_name": "LayoutModel",
          "model_module_version": "1.2.0",
          "state": {
            "_model_module": "@jupyter-widgets/base",
            "_model_module_version": "1.2.0",
            "_model_name": "LayoutModel",
            "_view_count": null,
            "_view_module": "@jupyter-widgets/base",
            "_view_module_version": "1.2.0",
            "_view_name": "LayoutView",
            "align_content": null,
            "align_items": null,
            "align_self": null,
            "border": null,
            "bottom": null,
            "display": null,
            "flex": null,
            "flex_flow": null,
            "grid_area": null,
            "grid_auto_columns": null,
            "grid_auto_flow": null,
            "grid_auto_rows": null,
            "grid_column": null,
            "grid_gap": null,
            "grid_row": null,
            "grid_template_areas": null,
            "grid_template_columns": null,
            "grid_template_rows": null,
            "height": null,
            "justify_content": null,
            "justify_items": null,
            "left": null,
            "margin": null,
            "max_height": null,
            "max_width": null,
            "min_height": null,
            "min_width": null,
            "object_fit": null,
            "object_position": null,
            "order": null,
            "overflow": null,
            "overflow_x": null,
            "overflow_y": null,
            "padding": null,
            "right": null,
            "top": null,
            "visibility": null,
            "width": null
          }
        },
        "3b4832a3131a48bcabf04237f17f6ccf": {
          "model_module": "@jupyter-widgets/base",
          "model_name": "LayoutModel",
          "model_module_version": "1.2.0",
          "state": {
            "_model_module": "@jupyter-widgets/base",
            "_model_module_version": "1.2.0",
            "_model_name": "LayoutModel",
            "_view_count": null,
            "_view_module": "@jupyter-widgets/base",
            "_view_module_version": "1.2.0",
            "_view_name": "LayoutView",
            "align_content": null,
            "align_items": null,
            "align_self": null,
            "border": null,
            "bottom": null,
            "display": null,
            "flex": null,
            "flex_flow": null,
            "grid_area": null,
            "grid_auto_columns": null,
            "grid_auto_flow": null,
            "grid_auto_rows": null,
            "grid_column": null,
            "grid_gap": null,
            "grid_row": null,
            "grid_template_areas": null,
            "grid_template_columns": null,
            "grid_template_rows": null,
            "height": null,
            "justify_content": null,
            "justify_items": null,
            "left": null,
            "margin": null,
            "max_height": null,
            "max_width": null,
            "min_height": null,
            "min_width": null,
            "object_fit": null,
            "object_position": null,
            "order": null,
            "overflow": null,
            "overflow_x": null,
            "overflow_y": null,
            "padding": null,
            "right": null,
            "top": null,
            "visibility": null,
            "width": null
          }
        },
        "cfb64511d0844d51921f60bb3c691ac2": {
          "model_module": "@jupyter-widgets/controls",
          "model_name": "DescriptionStyleModel",
          "model_module_version": "1.5.0",
          "state": {
            "_model_module": "@jupyter-widgets/controls",
            "_model_module_version": "1.5.0",
            "_model_name": "DescriptionStyleModel",
            "_view_count": null,
            "_view_module": "@jupyter-widgets/base",
            "_view_module_version": "1.2.0",
            "_view_name": "StyleView",
            "description_width": ""
          }
        },
        "8df27eb8ef504fa0aae15b746148408e": {
          "model_module": "@jupyter-widgets/base",
          "model_name": "LayoutModel",
          "model_module_version": "1.2.0",
          "state": {
            "_model_module": "@jupyter-widgets/base",
            "_model_module_version": "1.2.0",
            "_model_name": "LayoutModel",
            "_view_count": null,
            "_view_module": "@jupyter-widgets/base",
            "_view_module_version": "1.2.0",
            "_view_name": "LayoutView",
            "align_content": null,
            "align_items": null,
            "align_self": null,
            "border": null,
            "bottom": null,
            "display": null,
            "flex": null,
            "flex_flow": null,
            "grid_area": null,
            "grid_auto_columns": null,
            "grid_auto_flow": null,
            "grid_auto_rows": null,
            "grid_column": null,
            "grid_gap": null,
            "grid_row": null,
            "grid_template_areas": null,
            "grid_template_columns": null,
            "grid_template_rows": null,
            "height": null,
            "justify_content": null,
            "justify_items": null,
            "left": null,
            "margin": null,
            "max_height": null,
            "max_width": null,
            "min_height": null,
            "min_width": null,
            "object_fit": null,
            "object_position": null,
            "order": null,
            "overflow": null,
            "overflow_x": null,
            "overflow_y": null,
            "padding": null,
            "right": null,
            "top": null,
            "visibility": null,
            "width": null
          }
        },
        "3afe0af1167f4d59bb69da11af080d63": {
          "model_module": "@jupyter-widgets/controls",
          "model_name": "ProgressStyleModel",
          "model_module_version": "1.5.0",
          "state": {
            "_model_module": "@jupyter-widgets/controls",
            "_model_module_version": "1.5.0",
            "_model_name": "ProgressStyleModel",
            "_view_count": null,
            "_view_module": "@jupyter-widgets/base",
            "_view_module_version": "1.2.0",
            "_view_name": "StyleView",
            "bar_color": null,
            "description_width": ""
          }
        },
        "ee4fcdc4c3384412acd5af7d892fdf30": {
          "model_module": "@jupyter-widgets/base",
          "model_name": "LayoutModel",
          "model_module_version": "1.2.0",
          "state": {
            "_model_module": "@jupyter-widgets/base",
            "_model_module_version": "1.2.0",
            "_model_name": "LayoutModel",
            "_view_count": null,
            "_view_module": "@jupyter-widgets/base",
            "_view_module_version": "1.2.0",
            "_view_name": "LayoutView",
            "align_content": null,
            "align_items": null,
            "align_self": null,
            "border": null,
            "bottom": null,
            "display": null,
            "flex": null,
            "flex_flow": null,
            "grid_area": null,
            "grid_auto_columns": null,
            "grid_auto_flow": null,
            "grid_auto_rows": null,
            "grid_column": null,
            "grid_gap": null,
            "grid_row": null,
            "grid_template_areas": null,
            "grid_template_columns": null,
            "grid_template_rows": null,
            "height": null,
            "justify_content": null,
            "justify_items": null,
            "left": null,
            "margin": null,
            "max_height": null,
            "max_width": null,
            "min_height": null,
            "min_width": null,
            "object_fit": null,
            "object_position": null,
            "order": null,
            "overflow": null,
            "overflow_x": null,
            "overflow_y": null,
            "padding": null,
            "right": null,
            "top": null,
            "visibility": null,
            "width": null
          }
        },
        "fd479d327f6f4d1f9a542d0f9677af6b": {
          "model_module": "@jupyter-widgets/controls",
          "model_name": "DescriptionStyleModel",
          "model_module_version": "1.5.0",
          "state": {
            "_model_module": "@jupyter-widgets/controls",
            "_model_module_version": "1.5.0",
            "_model_name": "DescriptionStyleModel",
            "_view_count": null,
            "_view_module": "@jupyter-widgets/base",
            "_view_module_version": "1.2.0",
            "_view_name": "StyleView",
            "description_width": ""
          }
        },
        "ed2acaafae334ca4a5d9c49c2bedc01d": {
          "model_module": "@jupyter-widgets/controls",
          "model_name": "HBoxModel",
          "model_module_version": "1.5.0",
          "state": {
            "_dom_classes": [],
            "_model_module": "@jupyter-widgets/controls",
            "_model_module_version": "1.5.0",
            "_model_name": "HBoxModel",
            "_view_count": null,
            "_view_module": "@jupyter-widgets/controls",
            "_view_module_version": "1.5.0",
            "_view_name": "HBoxView",
            "box_style": "",
            "children": [
              "IPY_MODEL_9ea902df6e6e4b2f9452dc8fc15913e3",
              "IPY_MODEL_3c96427b424745069752948384645777",
              "IPY_MODEL_2234345e20fb45adb47394017f807f2f"
            ],
            "layout": "IPY_MODEL_f4819949991c4ade81c1f3a360bb752b"
          }
        },
        "9ea902df6e6e4b2f9452dc8fc15913e3": {
          "model_module": "@jupyter-widgets/controls",
          "model_name": "HTMLModel",
          "model_module_version": "1.5.0",
          "state": {
            "_dom_classes": [],
            "_model_module": "@jupyter-widgets/controls",
            "_model_module_version": "1.5.0",
            "_model_name": "HTMLModel",
            "_view_count": null,
            "_view_module": "@jupyter-widgets/controls",
            "_view_module_version": "1.5.0",
            "_view_name": "HTMLView",
            "description": "",
            "description_tooltip": null,
            "layout": "IPY_MODEL_235c71b81a154db3b7b33984c1ea47b5",
            "placeholder": "​",
            "style": "IPY_MODEL_6a926bd6d02945caabc4c3f3b8667c88",
            "value": "Downloading: 100%"
          }
        },
        "3c96427b424745069752948384645777": {
          "model_module": "@jupyter-widgets/controls",
          "model_name": "FloatProgressModel",
          "model_module_version": "1.5.0",
          "state": {
            "_dom_classes": [],
            "_model_module": "@jupyter-widgets/controls",
            "_model_module_version": "1.5.0",
            "_model_name": "FloatProgressModel",
            "_view_count": null,
            "_view_module": "@jupyter-widgets/controls",
            "_view_module_version": "1.5.0",
            "_view_name": "ProgressView",
            "bar_style": "success",
            "description": "",
            "description_tooltip": null,
            "layout": "IPY_MODEL_60b9fa2feaa14dd2b29fa2abee39d7f9",
            "max": 565,
            "min": 0,
            "orientation": "horizontal",
            "style": "IPY_MODEL_3b67b07066c4466ebc47fc7bab0ec594",
            "value": 565
          }
        },
        "2234345e20fb45adb47394017f807f2f": {
          "model_module": "@jupyter-widgets/controls",
          "model_name": "HTMLModel",
          "model_module_version": "1.5.0",
          "state": {
            "_dom_classes": [],
            "_model_module": "@jupyter-widgets/controls",
            "_model_module_version": "1.5.0",
            "_model_name": "HTMLModel",
            "_view_count": null,
            "_view_module": "@jupyter-widgets/controls",
            "_view_module_version": "1.5.0",
            "_view_name": "HTMLView",
            "description": "",
            "description_tooltip": null,
            "layout": "IPY_MODEL_b240c674c29941f0a4e9ff6560fd5b4c",
            "placeholder": "​",
            "style": "IPY_MODEL_c36943dbaf474bc4908683152b32c464",
            "value": " 565/565 [00:00&lt;00:00, 3.88kB/s]"
          }
        },
        "f4819949991c4ade81c1f3a360bb752b": {
          "model_module": "@jupyter-widgets/base",
          "model_name": "LayoutModel",
          "model_module_version": "1.2.0",
          "state": {
            "_model_module": "@jupyter-widgets/base",
            "_model_module_version": "1.2.0",
            "_model_name": "LayoutModel",
            "_view_count": null,
            "_view_module": "@jupyter-widgets/base",
            "_view_module_version": "1.2.0",
            "_view_name": "LayoutView",
            "align_content": null,
            "align_items": null,
            "align_self": null,
            "border": null,
            "bottom": null,
            "display": null,
            "flex": null,
            "flex_flow": null,
            "grid_area": null,
            "grid_auto_columns": null,
            "grid_auto_flow": null,
            "grid_auto_rows": null,
            "grid_column": null,
            "grid_gap": null,
            "grid_row": null,
            "grid_template_areas": null,
            "grid_template_columns": null,
            "grid_template_rows": null,
            "height": null,
            "justify_content": null,
            "justify_items": null,
            "left": null,
            "margin": null,
            "max_height": null,
            "max_width": null,
            "min_height": null,
            "min_width": null,
            "object_fit": null,
            "object_position": null,
            "order": null,
            "overflow": null,
            "overflow_x": null,
            "overflow_y": null,
            "padding": null,
            "right": null,
            "top": null,
            "visibility": null,
            "width": null
          }
        },
        "235c71b81a154db3b7b33984c1ea47b5": {
          "model_module": "@jupyter-widgets/base",
          "model_name": "LayoutModel",
          "model_module_version": "1.2.0",
          "state": {
            "_model_module": "@jupyter-widgets/base",
            "_model_module_version": "1.2.0",
            "_model_name": "LayoutModel",
            "_view_count": null,
            "_view_module": "@jupyter-widgets/base",
            "_view_module_version": "1.2.0",
            "_view_name": "LayoutView",
            "align_content": null,
            "align_items": null,
            "align_self": null,
            "border": null,
            "bottom": null,
            "display": null,
            "flex": null,
            "flex_flow": null,
            "grid_area": null,
            "grid_auto_columns": null,
            "grid_auto_flow": null,
            "grid_auto_rows": null,
            "grid_column": null,
            "grid_gap": null,
            "grid_row": null,
            "grid_template_areas": null,
            "grid_template_columns": null,
            "grid_template_rows": null,
            "height": null,
            "justify_content": null,
            "justify_items": null,
            "left": null,
            "margin": null,
            "max_height": null,
            "max_width": null,
            "min_height": null,
            "min_width": null,
            "object_fit": null,
            "object_position": null,
            "order": null,
            "overflow": null,
            "overflow_x": null,
            "overflow_y": null,
            "padding": null,
            "right": null,
            "top": null,
            "visibility": null,
            "width": null
          }
        },
        "6a926bd6d02945caabc4c3f3b8667c88": {
          "model_module": "@jupyter-widgets/controls",
          "model_name": "DescriptionStyleModel",
          "model_module_version": "1.5.0",
          "state": {
            "_model_module": "@jupyter-widgets/controls",
            "_model_module_version": "1.5.0",
            "_model_name": "DescriptionStyleModel",
            "_view_count": null,
            "_view_module": "@jupyter-widgets/base",
            "_view_module_version": "1.2.0",
            "_view_name": "StyleView",
            "description_width": ""
          }
        },
        "60b9fa2feaa14dd2b29fa2abee39d7f9": {
          "model_module": "@jupyter-widgets/base",
          "model_name": "LayoutModel",
          "model_module_version": "1.2.0",
          "state": {
            "_model_module": "@jupyter-widgets/base",
            "_model_module_version": "1.2.0",
            "_model_name": "LayoutModel",
            "_view_count": null,
            "_view_module": "@jupyter-widgets/base",
            "_view_module_version": "1.2.0",
            "_view_name": "LayoutView",
            "align_content": null,
            "align_items": null,
            "align_self": null,
            "border": null,
            "bottom": null,
            "display": null,
            "flex": null,
            "flex_flow": null,
            "grid_area": null,
            "grid_auto_columns": null,
            "grid_auto_flow": null,
            "grid_auto_rows": null,
            "grid_column": null,
            "grid_gap": null,
            "grid_row": null,
            "grid_template_areas": null,
            "grid_template_columns": null,
            "grid_template_rows": null,
            "height": null,
            "justify_content": null,
            "justify_items": null,
            "left": null,
            "margin": null,
            "max_height": null,
            "max_width": null,
            "min_height": null,
            "min_width": null,
            "object_fit": null,
            "object_position": null,
            "order": null,
            "overflow": null,
            "overflow_x": null,
            "overflow_y": null,
            "padding": null,
            "right": null,
            "top": null,
            "visibility": null,
            "width": null
          }
        },
        "3b67b07066c4466ebc47fc7bab0ec594": {
          "model_module": "@jupyter-widgets/controls",
          "model_name": "ProgressStyleModel",
          "model_module_version": "1.5.0",
          "state": {
            "_model_module": "@jupyter-widgets/controls",
            "_model_module_version": "1.5.0",
            "_model_name": "ProgressStyleModel",
            "_view_count": null,
            "_view_module": "@jupyter-widgets/base",
            "_view_module_version": "1.2.0",
            "_view_name": "StyleView",
            "bar_color": null,
            "description_width": ""
          }
        },
        "b240c674c29941f0a4e9ff6560fd5b4c": {
          "model_module": "@jupyter-widgets/base",
          "model_name": "LayoutModel",
          "model_module_version": "1.2.0",
          "state": {
            "_model_module": "@jupyter-widgets/base",
            "_model_module_version": "1.2.0",
            "_model_name": "LayoutModel",
            "_view_count": null,
            "_view_module": "@jupyter-widgets/base",
            "_view_module_version": "1.2.0",
            "_view_name": "LayoutView",
            "align_content": null,
            "align_items": null,
            "align_self": null,
            "border": null,
            "bottom": null,
            "display": null,
            "flex": null,
            "flex_flow": null,
            "grid_area": null,
            "grid_auto_columns": null,
            "grid_auto_flow": null,
            "grid_auto_rows": null,
            "grid_column": null,
            "grid_gap": null,
            "grid_row": null,
            "grid_template_areas": null,
            "grid_template_columns": null,
            "grid_template_rows": null,
            "height": null,
            "justify_content": null,
            "justify_items": null,
            "left": null,
            "margin": null,
            "max_height": null,
            "max_width": null,
            "min_height": null,
            "min_width": null,
            "object_fit": null,
            "object_position": null,
            "order": null,
            "overflow": null,
            "overflow_x": null,
            "overflow_y": null,
            "padding": null,
            "right": null,
            "top": null,
            "visibility": null,
            "width": null
          }
        },
        "c36943dbaf474bc4908683152b32c464": {
          "model_module": "@jupyter-widgets/controls",
          "model_name": "DescriptionStyleModel",
          "model_module_version": "1.5.0",
          "state": {
            "_model_module": "@jupyter-widgets/controls",
            "_model_module_version": "1.5.0",
            "_model_name": "DescriptionStyleModel",
            "_view_count": null,
            "_view_module": "@jupyter-widgets/base",
            "_view_module_version": "1.2.0",
            "_view_name": "StyleView",
            "description_width": ""
          }
        },
        "5eff7e29deb642e89b4f9b3dca0e9b42": {
          "model_module": "@jupyter-widgets/controls",
          "model_name": "HBoxModel",
          "model_module_version": "1.5.0",
          "state": {
            "_dom_classes": [],
            "_model_module": "@jupyter-widgets/controls",
            "_model_module_version": "1.5.0",
            "_model_name": "HBoxModel",
            "_view_count": null,
            "_view_module": "@jupyter-widgets/controls",
            "_view_module_version": "1.5.0",
            "_view_name": "HBoxView",
            "box_style": "",
            "children": [
              "IPY_MODEL_027f46a520344fc7a30c1bfeb4b1bb61",
              "IPY_MODEL_a8fb68e5029a47f3b9ea6e311b875efd",
              "IPY_MODEL_24c3ae46fd0b472d86b9986f56930ae4"
            ],
            "layout": "IPY_MODEL_70679258dd404a2185b03fe810fc68f5"
          }
        },
        "027f46a520344fc7a30c1bfeb4b1bb61": {
          "model_module": "@jupyter-widgets/controls",
          "model_name": "HTMLModel",
          "model_module_version": "1.5.0",
          "state": {
            "_dom_classes": [],
            "_model_module": "@jupyter-widgets/controls",
            "_model_module_version": "1.5.0",
            "_model_name": "HTMLModel",
            "_view_count": null,
            "_view_module": "@jupyter-widgets/controls",
            "_view_module_version": "1.5.0",
            "_view_name": "HTMLView",
            "description": "",
            "description_tooltip": null,
            "layout": "IPY_MODEL_ca2bbd8a3fae44989b8e74ed218b98b1",
            "placeholder": "​",
            "style": "IPY_MODEL_8e719796b8104d889b01661460c244ad",
            "value": "100%"
          }
        },
        "a8fb68e5029a47f3b9ea6e311b875efd": {
          "model_module": "@jupyter-widgets/controls",
          "model_name": "FloatProgressModel",
          "model_module_version": "1.5.0",
          "state": {
            "_dom_classes": [],
            "_model_module": "@jupyter-widgets/controls",
            "_model_module_version": "1.5.0",
            "_model_name": "FloatProgressModel",
            "_view_count": null,
            "_view_module": "@jupyter-widgets/controls",
            "_view_module_version": "1.5.0",
            "_view_name": "ProgressView",
            "bar_style": "success",
            "description": "",
            "description_tooltip": null,
            "layout": "IPY_MODEL_94acdd3e9e9d45eeb4c0b1a723395058",
            "max": 1,
            "min": 0,
            "orientation": "horizontal",
            "style": "IPY_MODEL_9b7627e542484572b73ae5bcea90c597",
            "value": 1
          }
        },
        "24c3ae46fd0b472d86b9986f56930ae4": {
          "model_module": "@jupyter-widgets/controls",
          "model_name": "HTMLModel",
          "model_module_version": "1.5.0",
          "state": {
            "_dom_classes": [],
            "_model_module": "@jupyter-widgets/controls",
            "_model_module_version": "1.5.0",
            "_model_name": "HTMLModel",
            "_view_count": null,
            "_view_module": "@jupyter-widgets/controls",
            "_view_module_version": "1.5.0",
            "_view_name": "HTMLView",
            "description": "",
            "description_tooltip": null,
            "layout": "IPY_MODEL_ad46ef6134db4b8d8c5a162406981c34",
            "placeholder": "​",
            "style": "IPY_MODEL_567eafe215054e5d851062f6a31a365c",
            "value": " 1/1 [00:00&lt;00:00,  2.00it/s]"
          }
        },
        "70679258dd404a2185b03fe810fc68f5": {
          "model_module": "@jupyter-widgets/base",
          "model_name": "LayoutModel",
          "model_module_version": "1.2.0",
          "state": {
            "_model_module": "@jupyter-widgets/base",
            "_model_module_version": "1.2.0",
            "_model_name": "LayoutModel",
            "_view_count": null,
            "_view_module": "@jupyter-widgets/base",
            "_view_module_version": "1.2.0",
            "_view_name": "LayoutView",
            "align_content": null,
            "align_items": null,
            "align_self": null,
            "border": null,
            "bottom": null,
            "display": null,
            "flex": null,
            "flex_flow": null,
            "grid_area": null,
            "grid_auto_columns": null,
            "grid_auto_flow": null,
            "grid_auto_rows": null,
            "grid_column": null,
            "grid_gap": null,
            "grid_row": null,
            "grid_template_areas": null,
            "grid_template_columns": null,
            "grid_template_rows": null,
            "height": null,
            "justify_content": null,
            "justify_items": null,
            "left": null,
            "margin": null,
            "max_height": null,
            "max_width": null,
            "min_height": null,
            "min_width": null,
            "object_fit": null,
            "object_position": null,
            "order": null,
            "overflow": null,
            "overflow_x": null,
            "overflow_y": null,
            "padding": null,
            "right": null,
            "top": null,
            "visibility": null,
            "width": null
          }
        },
        "ca2bbd8a3fae44989b8e74ed218b98b1": {
          "model_module": "@jupyter-widgets/base",
          "model_name": "LayoutModel",
          "model_module_version": "1.2.0",
          "state": {
            "_model_module": "@jupyter-widgets/base",
            "_model_module_version": "1.2.0",
            "_model_name": "LayoutModel",
            "_view_count": null,
            "_view_module": "@jupyter-widgets/base",
            "_view_module_version": "1.2.0",
            "_view_name": "LayoutView",
            "align_content": null,
            "align_items": null,
            "align_self": null,
            "border": null,
            "bottom": null,
            "display": null,
            "flex": null,
            "flex_flow": null,
            "grid_area": null,
            "grid_auto_columns": null,
            "grid_auto_flow": null,
            "grid_auto_rows": null,
            "grid_column": null,
            "grid_gap": null,
            "grid_row": null,
            "grid_template_areas": null,
            "grid_template_columns": null,
            "grid_template_rows": null,
            "height": null,
            "justify_content": null,
            "justify_items": null,
            "left": null,
            "margin": null,
            "max_height": null,
            "max_width": null,
            "min_height": null,
            "min_width": null,
            "object_fit": null,
            "object_position": null,
            "order": null,
            "overflow": null,
            "overflow_x": null,
            "overflow_y": null,
            "padding": null,
            "right": null,
            "top": null,
            "visibility": null,
            "width": null
          }
        },
        "8e719796b8104d889b01661460c244ad": {
          "model_module": "@jupyter-widgets/controls",
          "model_name": "DescriptionStyleModel",
          "model_module_version": "1.5.0",
          "state": {
            "_model_module": "@jupyter-widgets/controls",
            "_model_module_version": "1.5.0",
            "_model_name": "DescriptionStyleModel",
            "_view_count": null,
            "_view_module": "@jupyter-widgets/base",
            "_view_module_version": "1.2.0",
            "_view_name": "StyleView",
            "description_width": ""
          }
        },
        "94acdd3e9e9d45eeb4c0b1a723395058": {
          "model_module": "@jupyter-widgets/base",
          "model_name": "LayoutModel",
          "model_module_version": "1.2.0",
          "state": {
            "_model_module": "@jupyter-widgets/base",
            "_model_module_version": "1.2.0",
            "_model_name": "LayoutModel",
            "_view_count": null,
            "_view_module": "@jupyter-widgets/base",
            "_view_module_version": "1.2.0",
            "_view_name": "LayoutView",
            "align_content": null,
            "align_items": null,
            "align_self": null,
            "border": null,
            "bottom": null,
            "display": null,
            "flex": null,
            "flex_flow": null,
            "grid_area": null,
            "grid_auto_columns": null,
            "grid_auto_flow": null,
            "grid_auto_rows": null,
            "grid_column": null,
            "grid_gap": null,
            "grid_row": null,
            "grid_template_areas": null,
            "grid_template_columns": null,
            "grid_template_rows": null,
            "height": null,
            "justify_content": null,
            "justify_items": null,
            "left": null,
            "margin": null,
            "max_height": null,
            "max_width": null,
            "min_height": null,
            "min_width": null,
            "object_fit": null,
            "object_position": null,
            "order": null,
            "overflow": null,
            "overflow_x": null,
            "overflow_y": null,
            "padding": null,
            "right": null,
            "top": null,
            "visibility": null,
            "width": null
          }
        },
        "9b7627e542484572b73ae5bcea90c597": {
          "model_module": "@jupyter-widgets/controls",
          "model_name": "ProgressStyleModel",
          "model_module_version": "1.5.0",
          "state": {
            "_model_module": "@jupyter-widgets/controls",
            "_model_module_version": "1.5.0",
            "_model_name": "ProgressStyleModel",
            "_view_count": null,
            "_view_module": "@jupyter-widgets/base",
            "_view_module_version": "1.2.0",
            "_view_name": "StyleView",
            "bar_color": null,
            "description_width": ""
          }
        },
        "ad46ef6134db4b8d8c5a162406981c34": {
          "model_module": "@jupyter-widgets/base",
          "model_name": "LayoutModel",
          "model_module_version": "1.2.0",
          "state": {
            "_model_module": "@jupyter-widgets/base",
            "_model_module_version": "1.2.0",
            "_model_name": "LayoutModel",
            "_view_count": null,
            "_view_module": "@jupyter-widgets/base",
            "_view_module_version": "1.2.0",
            "_view_name": "LayoutView",
            "align_content": null,
            "align_items": null,
            "align_self": null,
            "border": null,
            "bottom": null,
            "display": null,
            "flex": null,
            "flex_flow": null,
            "grid_area": null,
            "grid_auto_columns": null,
            "grid_auto_flow": null,
            "grid_auto_rows": null,
            "grid_column": null,
            "grid_gap": null,
            "grid_row": null,
            "grid_template_areas": null,
            "grid_template_columns": null,
            "grid_template_rows": null,
            "height": null,
            "justify_content": null,
            "justify_items": null,
            "left": null,
            "margin": null,
            "max_height": null,
            "max_width": null,
            "min_height": null,
            "min_width": null,
            "object_fit": null,
            "object_position": null,
            "order": null,
            "overflow": null,
            "overflow_x": null,
            "overflow_y": null,
            "padding": null,
            "right": null,
            "top": null,
            "visibility": null,
            "width": null
          }
        },
        "567eafe215054e5d851062f6a31a365c": {
          "model_module": "@jupyter-widgets/controls",
          "model_name": "DescriptionStyleModel",
          "model_module_version": "1.5.0",
          "state": {
            "_model_module": "@jupyter-widgets/controls",
            "_model_module_version": "1.5.0",
            "_model_name": "DescriptionStyleModel",
            "_view_count": null,
            "_view_module": "@jupyter-widgets/base",
            "_view_module_version": "1.2.0",
            "_view_name": "StyleView",
            "description_width": ""
          }
        },
        "35fa7a073b60434f9d82e90f546ce945": {
          "model_module": "@jupyter-widgets/controls",
          "model_name": "HBoxModel",
          "model_module_version": "1.5.0",
          "state": {
            "_dom_classes": [],
            "_model_module": "@jupyter-widgets/controls",
            "_model_module_version": "1.5.0",
            "_model_name": "HBoxModel",
            "_view_count": null,
            "_view_module": "@jupyter-widgets/controls",
            "_view_module_version": "1.5.0",
            "_view_name": "HBoxView",
            "box_style": "",
            "children": [
              "IPY_MODEL_c6d314aedeaf4b3b8325d03e7b8ea893",
              "IPY_MODEL_188a0347b0bf4716bb6c7926cfbbad9e",
              "IPY_MODEL_845eb2059c54418cb864ee2198627270"
            ],
            "layout": "IPY_MODEL_7adecaa7e06045ffa3785a536e10c205"
          }
        },
        "c6d314aedeaf4b3b8325d03e7b8ea893": {
          "model_module": "@jupyter-widgets/controls",
          "model_name": "HTMLModel",
          "model_module_version": "1.5.0",
          "state": {
            "_dom_classes": [],
            "_model_module": "@jupyter-widgets/controls",
            "_model_module_version": "1.5.0",
            "_model_name": "HTMLModel",
            "_view_count": null,
            "_view_module": "@jupyter-widgets/controls",
            "_view_module_version": "1.5.0",
            "_view_name": "HTMLView",
            "description": "",
            "description_tooltip": null,
            "layout": "IPY_MODEL_38dadd220d2c4cb986987f10f7ee57ff",
            "placeholder": "​",
            "style": "IPY_MODEL_2a6e9f560a2f4b12bc6dd875dbd6b230",
            "value": "100%"
          }
        },
        "188a0347b0bf4716bb6c7926cfbbad9e": {
          "model_module": "@jupyter-widgets/controls",
          "model_name": "FloatProgressModel",
          "model_module_version": "1.5.0",
          "state": {
            "_dom_classes": [],
            "_model_module": "@jupyter-widgets/controls",
            "_model_module_version": "1.5.0",
            "_model_name": "FloatProgressModel",
            "_view_count": null,
            "_view_module": "@jupyter-widgets/controls",
            "_view_module_version": "1.5.0",
            "_view_name": "ProgressView",
            "bar_style": "success",
            "description": "",
            "description_tooltip": null,
            "layout": "IPY_MODEL_66d17dbb5edb4c328e9c54d4be55e6d2",
            "max": 54,
            "min": 0,
            "orientation": "horizontal",
            "style": "IPY_MODEL_ddcef2769fd34d5495dda716b74ab486",
            "value": 54
          }
        },
        "845eb2059c54418cb864ee2198627270": {
          "model_module": "@jupyter-widgets/controls",
          "model_name": "HTMLModel",
          "model_module_version": "1.5.0",
          "state": {
            "_dom_classes": [],
            "_model_module": "@jupyter-widgets/controls",
            "_model_module_version": "1.5.0",
            "_model_name": "HTMLModel",
            "_view_count": null,
            "_view_module": "@jupyter-widgets/controls",
            "_view_module_version": "1.5.0",
            "_view_name": "HTMLView",
            "description": "",
            "description_tooltip": null,
            "layout": "IPY_MODEL_3fadd1b3b64e479b8d3039d4abbfa487",
            "placeholder": "​",
            "style": "IPY_MODEL_45ca6065df49434aa505879e8cc367c3",
            "value": " 54/54 [46:20&lt;00:00, 43.28s/it]"
          }
        },
        "7adecaa7e06045ffa3785a536e10c205": {
          "model_module": "@jupyter-widgets/base",
          "model_name": "LayoutModel",
          "model_module_version": "1.2.0",
          "state": {
            "_model_module": "@jupyter-widgets/base",
            "_model_module_version": "1.2.0",
            "_model_name": "LayoutModel",
            "_view_count": null,
            "_view_module": "@jupyter-widgets/base",
            "_view_module_version": "1.2.0",
            "_view_name": "LayoutView",
            "align_content": null,
            "align_items": null,
            "align_self": null,
            "border": null,
            "bottom": null,
            "display": null,
            "flex": null,
            "flex_flow": null,
            "grid_area": null,
            "grid_auto_columns": null,
            "grid_auto_flow": null,
            "grid_auto_rows": null,
            "grid_column": null,
            "grid_gap": null,
            "grid_row": null,
            "grid_template_areas": null,
            "grid_template_columns": null,
            "grid_template_rows": null,
            "height": null,
            "justify_content": null,
            "justify_items": null,
            "left": null,
            "margin": null,
            "max_height": null,
            "max_width": null,
            "min_height": null,
            "min_width": null,
            "object_fit": null,
            "object_position": null,
            "order": null,
            "overflow": null,
            "overflow_x": null,
            "overflow_y": null,
            "padding": null,
            "right": null,
            "top": null,
            "visibility": null,
            "width": null
          }
        },
        "38dadd220d2c4cb986987f10f7ee57ff": {
          "model_module": "@jupyter-widgets/base",
          "model_name": "LayoutModel",
          "model_module_version": "1.2.0",
          "state": {
            "_model_module": "@jupyter-widgets/base",
            "_model_module_version": "1.2.0",
            "_model_name": "LayoutModel",
            "_view_count": null,
            "_view_module": "@jupyter-widgets/base",
            "_view_module_version": "1.2.0",
            "_view_name": "LayoutView",
            "align_content": null,
            "align_items": null,
            "align_self": null,
            "border": null,
            "bottom": null,
            "display": null,
            "flex": null,
            "flex_flow": null,
            "grid_area": null,
            "grid_auto_columns": null,
            "grid_auto_flow": null,
            "grid_auto_rows": null,
            "grid_column": null,
            "grid_gap": null,
            "grid_row": null,
            "grid_template_areas": null,
            "grid_template_columns": null,
            "grid_template_rows": null,
            "height": null,
            "justify_content": null,
            "justify_items": null,
            "left": null,
            "margin": null,
            "max_height": null,
            "max_width": null,
            "min_height": null,
            "min_width": null,
            "object_fit": null,
            "object_position": null,
            "order": null,
            "overflow": null,
            "overflow_x": null,
            "overflow_y": null,
            "padding": null,
            "right": null,
            "top": null,
            "visibility": null,
            "width": null
          }
        },
        "2a6e9f560a2f4b12bc6dd875dbd6b230": {
          "model_module": "@jupyter-widgets/controls",
          "model_name": "DescriptionStyleModel",
          "model_module_version": "1.5.0",
          "state": {
            "_model_module": "@jupyter-widgets/controls",
            "_model_module_version": "1.5.0",
            "_model_name": "DescriptionStyleModel",
            "_view_count": null,
            "_view_module": "@jupyter-widgets/base",
            "_view_module_version": "1.2.0",
            "_view_name": "StyleView",
            "description_width": ""
          }
        },
        "66d17dbb5edb4c328e9c54d4be55e6d2": {
          "model_module": "@jupyter-widgets/base",
          "model_name": "LayoutModel",
          "model_module_version": "1.2.0",
          "state": {
            "_model_module": "@jupyter-widgets/base",
            "_model_module_version": "1.2.0",
            "_model_name": "LayoutModel",
            "_view_count": null,
            "_view_module": "@jupyter-widgets/base",
            "_view_module_version": "1.2.0",
            "_view_name": "LayoutView",
            "align_content": null,
            "align_items": null,
            "align_self": null,
            "border": null,
            "bottom": null,
            "display": null,
            "flex": null,
            "flex_flow": null,
            "grid_area": null,
            "grid_auto_columns": null,
            "grid_auto_flow": null,
            "grid_auto_rows": null,
            "grid_column": null,
            "grid_gap": null,
            "grid_row": null,
            "grid_template_areas": null,
            "grid_template_columns": null,
            "grid_template_rows": null,
            "height": null,
            "justify_content": null,
            "justify_items": null,
            "left": null,
            "margin": null,
            "max_height": null,
            "max_width": null,
            "min_height": null,
            "min_width": null,
            "object_fit": null,
            "object_position": null,
            "order": null,
            "overflow": null,
            "overflow_x": null,
            "overflow_y": null,
            "padding": null,
            "right": null,
            "top": null,
            "visibility": null,
            "width": null
          }
        },
        "ddcef2769fd34d5495dda716b74ab486": {
          "model_module": "@jupyter-widgets/controls",
          "model_name": "ProgressStyleModel",
          "model_module_version": "1.5.0",
          "state": {
            "_model_module": "@jupyter-widgets/controls",
            "_model_module_version": "1.5.0",
            "_model_name": "ProgressStyleModel",
            "_view_count": null,
            "_view_module": "@jupyter-widgets/base",
            "_view_module_version": "1.2.0",
            "_view_name": "StyleView",
            "bar_color": null,
            "description_width": ""
          }
        },
        "3fadd1b3b64e479b8d3039d4abbfa487": {
          "model_module": "@jupyter-widgets/base",
          "model_name": "LayoutModel",
          "model_module_version": "1.2.0",
          "state": {
            "_model_module": "@jupyter-widgets/base",
            "_model_module_version": "1.2.0",
            "_model_name": "LayoutModel",
            "_view_count": null,
            "_view_module": "@jupyter-widgets/base",
            "_view_module_version": "1.2.0",
            "_view_name": "LayoutView",
            "align_content": null,
            "align_items": null,
            "align_self": null,
            "border": null,
            "bottom": null,
            "display": null,
            "flex": null,
            "flex_flow": null,
            "grid_area": null,
            "grid_auto_columns": null,
            "grid_auto_flow": null,
            "grid_auto_rows": null,
            "grid_column": null,
            "grid_gap": null,
            "grid_row": null,
            "grid_template_areas": null,
            "grid_template_columns": null,
            "grid_template_rows": null,
            "height": null,
            "justify_content": null,
            "justify_items": null,
            "left": null,
            "margin": null,
            "max_height": null,
            "max_width": null,
            "min_height": null,
            "min_width": null,
            "object_fit": null,
            "object_position": null,
            "order": null,
            "overflow": null,
            "overflow_x": null,
            "overflow_y": null,
            "padding": null,
            "right": null,
            "top": null,
            "visibility": null,
            "width": null
          }
        },
        "45ca6065df49434aa505879e8cc367c3": {
          "model_module": "@jupyter-widgets/controls",
          "model_name": "DescriptionStyleModel",
          "model_module_version": "1.5.0",
          "state": {
            "_model_module": "@jupyter-widgets/controls",
            "_model_module_version": "1.5.0",
            "_model_name": "DescriptionStyleModel",
            "_view_count": null,
            "_view_module": "@jupyter-widgets/base",
            "_view_module_version": "1.2.0",
            "_view_name": "StyleView",
            "description_width": ""
          }
        },
        "26345c38cafa4c6c81ec3b99cc135428": {
          "model_module": "@jupyter-widgets/controls",
          "model_name": "HBoxModel",
          "model_module_version": "1.5.0",
          "state": {
            "_dom_classes": [],
            "_model_module": "@jupyter-widgets/controls",
            "_model_module_version": "1.5.0",
            "_model_name": "HBoxModel",
            "_view_count": null,
            "_view_module": "@jupyter-widgets/controls",
            "_view_module_version": "1.5.0",
            "_view_name": "HBoxView",
            "box_style": "",
            "children": [
              "IPY_MODEL_55ec52834b00409fbed349ed11787332",
              "IPY_MODEL_e99eb19fb1b744c4b380e622a3408cc6",
              "IPY_MODEL_f8f119b065e5482784da46b862d2361a"
            ],
            "layout": "IPY_MODEL_3d1d091b05a5489e84372200ad00e123"
          }
        },
        "55ec52834b00409fbed349ed11787332": {
          "model_module": "@jupyter-widgets/controls",
          "model_name": "HTMLModel",
          "model_module_version": "1.5.0",
          "state": {
            "_dom_classes": [],
            "_model_module": "@jupyter-widgets/controls",
            "_model_module_version": "1.5.0",
            "_model_name": "HTMLModel",
            "_view_count": null,
            "_view_module": "@jupyter-widgets/controls",
            "_view_module_version": "1.5.0",
            "_view_name": "HTMLView",
            "description": "",
            "description_tooltip": null,
            "layout": "IPY_MODEL_65e5b05da0b64092b79b8b90b8805c5b",
            "placeholder": "​",
            "style": "IPY_MODEL_7783c08ca4394dd68bb2471825392fb7",
            "value": ""
          }
        },
        "e99eb19fb1b744c4b380e622a3408cc6": {
          "model_module": "@jupyter-widgets/controls",
          "model_name": "FloatProgressModel",
          "model_module_version": "1.5.0",
          "state": {
            "_dom_classes": [],
            "_model_module": "@jupyter-widgets/controls",
            "_model_module_version": "1.5.0",
            "_model_name": "FloatProgressModel",
            "_view_count": null,
            "_view_module": "@jupyter-widgets/controls",
            "_view_module_version": "1.5.0",
            "_view_name": "ProgressView",
            "bar_style": "success",
            "description": "",
            "description_tooltip": null,
            "layout": "IPY_MODEL_cc56be2616c1418ea16a6993dc9faf30",
            "max": 1,
            "min": 0,
            "orientation": "horizontal",
            "style": "IPY_MODEL_1ee2957a98cb4f5f812bc55e31262e80",
            "value": 0
          }
        },
        "f8f119b065e5482784da46b862d2361a": {
          "model_module": "@jupyter-widgets/controls",
          "model_name": "HTMLModel",
          "model_module_version": "1.5.0",
          "state": {
            "_dom_classes": [],
            "_model_module": "@jupyter-widgets/controls",
            "_model_module_version": "1.5.0",
            "_model_name": "HTMLModel",
            "_view_count": null,
            "_view_module": "@jupyter-widgets/controls",
            "_view_module_version": "1.5.0",
            "_view_name": "HTMLView",
            "description": "",
            "description_tooltip": null,
            "layout": "IPY_MODEL_f972e267676c4c9391e92fc9f87d2ba8",
            "placeholder": "​",
            "style": "IPY_MODEL_7472831b15c949e9bb35702965984dc9",
            "value": " 0/0 [00:00&lt;?, ?it/s]"
          }
        },
        "3d1d091b05a5489e84372200ad00e123": {
          "model_module": "@jupyter-widgets/base",
          "model_name": "LayoutModel",
          "model_module_version": "1.2.0",
          "state": {
            "_model_module": "@jupyter-widgets/base",
            "_model_module_version": "1.2.0",
            "_model_name": "LayoutModel",
            "_view_count": null,
            "_view_module": "@jupyter-widgets/base",
            "_view_module_version": "1.2.0",
            "_view_name": "LayoutView",
            "align_content": null,
            "align_items": null,
            "align_self": null,
            "border": null,
            "bottom": null,
            "display": null,
            "flex": null,
            "flex_flow": null,
            "grid_area": null,
            "grid_auto_columns": null,
            "grid_auto_flow": null,
            "grid_auto_rows": null,
            "grid_column": null,
            "grid_gap": null,
            "grid_row": null,
            "grid_template_areas": null,
            "grid_template_columns": null,
            "grid_template_rows": null,
            "height": null,
            "justify_content": null,
            "justify_items": null,
            "left": null,
            "margin": null,
            "max_height": null,
            "max_width": null,
            "min_height": null,
            "min_width": null,
            "object_fit": null,
            "object_position": null,
            "order": null,
            "overflow": null,
            "overflow_x": null,
            "overflow_y": null,
            "padding": null,
            "right": null,
            "top": null,
            "visibility": null,
            "width": null
          }
        },
        "65e5b05da0b64092b79b8b90b8805c5b": {
          "model_module": "@jupyter-widgets/base",
          "model_name": "LayoutModel",
          "model_module_version": "1.2.0",
          "state": {
            "_model_module": "@jupyter-widgets/base",
            "_model_module_version": "1.2.0",
            "_model_name": "LayoutModel",
            "_view_count": null,
            "_view_module": "@jupyter-widgets/base",
            "_view_module_version": "1.2.0",
            "_view_name": "LayoutView",
            "align_content": null,
            "align_items": null,
            "align_self": null,
            "border": null,
            "bottom": null,
            "display": null,
            "flex": null,
            "flex_flow": null,
            "grid_area": null,
            "grid_auto_columns": null,
            "grid_auto_flow": null,
            "grid_auto_rows": null,
            "grid_column": null,
            "grid_gap": null,
            "grid_row": null,
            "grid_template_areas": null,
            "grid_template_columns": null,
            "grid_template_rows": null,
            "height": null,
            "justify_content": null,
            "justify_items": null,
            "left": null,
            "margin": null,
            "max_height": null,
            "max_width": null,
            "min_height": null,
            "min_width": null,
            "object_fit": null,
            "object_position": null,
            "order": null,
            "overflow": null,
            "overflow_x": null,
            "overflow_y": null,
            "padding": null,
            "right": null,
            "top": null,
            "visibility": null,
            "width": null
          }
        },
        "7783c08ca4394dd68bb2471825392fb7": {
          "model_module": "@jupyter-widgets/controls",
          "model_name": "DescriptionStyleModel",
          "model_module_version": "1.5.0",
          "state": {
            "_model_module": "@jupyter-widgets/controls",
            "_model_module_version": "1.5.0",
            "_model_name": "DescriptionStyleModel",
            "_view_count": null,
            "_view_module": "@jupyter-widgets/base",
            "_view_module_version": "1.2.0",
            "_view_name": "StyleView",
            "description_width": ""
          }
        },
        "cc56be2616c1418ea16a6993dc9faf30": {
          "model_module": "@jupyter-widgets/base",
          "model_name": "LayoutModel",
          "model_module_version": "1.2.0",
          "state": {
            "_model_module": "@jupyter-widgets/base",
            "_model_module_version": "1.2.0",
            "_model_name": "LayoutModel",
            "_view_count": null,
            "_view_module": "@jupyter-widgets/base",
            "_view_module_version": "1.2.0",
            "_view_name": "LayoutView",
            "align_content": null,
            "align_items": null,
            "align_self": null,
            "border": null,
            "bottom": null,
            "display": null,
            "flex": null,
            "flex_flow": null,
            "grid_area": null,
            "grid_auto_columns": null,
            "grid_auto_flow": null,
            "grid_auto_rows": null,
            "grid_column": null,
            "grid_gap": null,
            "grid_row": null,
            "grid_template_areas": null,
            "grid_template_columns": null,
            "grid_template_rows": null,
            "height": null,
            "justify_content": null,
            "justify_items": null,
            "left": null,
            "margin": null,
            "max_height": null,
            "max_width": null,
            "min_height": null,
            "min_width": null,
            "object_fit": null,
            "object_position": null,
            "order": null,
            "overflow": null,
            "overflow_x": null,
            "overflow_y": null,
            "padding": null,
            "right": null,
            "top": null,
            "visibility": null,
            "width": "20px"
          }
        },
        "1ee2957a98cb4f5f812bc55e31262e80": {
          "model_module": "@jupyter-widgets/controls",
          "model_name": "ProgressStyleModel",
          "model_module_version": "1.5.0",
          "state": {
            "_model_module": "@jupyter-widgets/controls",
            "_model_module_version": "1.5.0",
            "_model_name": "ProgressStyleModel",
            "_view_count": null,
            "_view_module": "@jupyter-widgets/base",
            "_view_module_version": "1.2.0",
            "_view_name": "StyleView",
            "bar_color": null,
            "description_width": ""
          }
        },
        "f972e267676c4c9391e92fc9f87d2ba8": {
          "model_module": "@jupyter-widgets/base",
          "model_name": "LayoutModel",
          "model_module_version": "1.2.0",
          "state": {
            "_model_module": "@jupyter-widgets/base",
            "_model_module_version": "1.2.0",
            "_model_name": "LayoutModel",
            "_view_count": null,
            "_view_module": "@jupyter-widgets/base",
            "_view_module_version": "1.2.0",
            "_view_name": "LayoutView",
            "align_content": null,
            "align_items": null,
            "align_self": null,
            "border": null,
            "bottom": null,
            "display": null,
            "flex": null,
            "flex_flow": null,
            "grid_area": null,
            "grid_auto_columns": null,
            "grid_auto_flow": null,
            "grid_auto_rows": null,
            "grid_column": null,
            "grid_gap": null,
            "grid_row": null,
            "grid_template_areas": null,
            "grid_template_columns": null,
            "grid_template_rows": null,
            "height": null,
            "justify_content": null,
            "justify_items": null,
            "left": null,
            "margin": null,
            "max_height": null,
            "max_width": null,
            "min_height": null,
            "min_width": null,
            "object_fit": null,
            "object_position": null,
            "order": null,
            "overflow": null,
            "overflow_x": null,
            "overflow_y": null,
            "padding": null,
            "right": null,
            "top": null,
            "visibility": null,
            "width": null
          }
        },
        "7472831b15c949e9bb35702965984dc9": {
          "model_module": "@jupyter-widgets/controls",
          "model_name": "DescriptionStyleModel",
          "model_module_version": "1.5.0",
          "state": {
            "_model_module": "@jupyter-widgets/controls",
            "_model_module_version": "1.5.0",
            "_model_name": "DescriptionStyleModel",
            "_view_count": null,
            "_view_module": "@jupyter-widgets/base",
            "_view_module_version": "1.2.0",
            "_view_name": "StyleView",
            "description_width": ""
          }
        }
      }
    }
  },
  "cells": [
    {
      "cell_type": "markdown",
      "source": [
        "# Labeling Post-Processed Crawled datas"
      ],
      "metadata": {
        "id": "8RfpKxrEbIPt"
      }
    },
    {
      "cell_type": "markdown",
      "source": [
        "## Install and Import Libraries"
      ],
      "metadata": {
        "id": "PwsoLtLHt0u6"
      }
    },
    {
      "cell_type": "code",
      "source": [
        "# Install required packages\n",
        "!pip install pyyaml==5.4.1\n",
        "\n",
        "!pip install -q transformers\n",
        "!pip install -q hazm\n",
        "!pip install -q clean-text[gpl]"
      ],
      "metadata": {
        "colab": {
          "base_uri": "https://localhost:8080/"
        },
        "id": "Jn96TJSn0uZ4",
        "outputId": "eea48d8f-eaaf-4a6d-9c96-7f4da57bd819"
      },
      "execution_count": null,
      "outputs": [
        {
          "output_type": "stream",
          "name": "stdout",
          "text": [
            "Looking in indexes: https://pypi.org/simple, https://us-python.pkg.dev/colab-wheels/public/simple/\n",
            "Collecting pyyaml==5.4.1\n",
            "  Downloading PyYAML-5.4.1-cp37-cp37m-manylinux1_x86_64.whl (636 kB)\n",
            "\u001b[K     |████████████████████████████████| 636 kB 4.9 MB/s \n",
            "\u001b[?25hInstalling collected packages: pyyaml\n",
            "  Attempting uninstall: pyyaml\n",
            "    Found existing installation: PyYAML 6.0\n",
            "    Uninstalling PyYAML-6.0:\n",
            "      Successfully uninstalled PyYAML-6.0\n",
            "Successfully installed pyyaml-5.4.1\n",
            "\u001b[K     |████████████████████████████████| 4.9 MB 5.4 MB/s \n",
            "\u001b[K     |████████████████████████████████| 120 kB 45.2 MB/s \n",
            "\u001b[K     |████████████████████████████████| 6.6 MB 38.5 MB/s \n",
            "\u001b[K     |████████████████████████████████| 316 kB 5.3 MB/s \n",
            "\u001b[K     |████████████████████████████████| 233 kB 64.9 MB/s \n",
            "\u001b[K     |████████████████████████████████| 1.4 MB 57.9 MB/s \n",
            "\u001b[?25h  Building wheel for nltk (setup.py) ... \u001b[?25l\u001b[?25hdone\n",
            "  Building wheel for libwapiti (setup.py) ... \u001b[?25l\u001b[?25hdone\n",
            "\u001b[K     |████████████████████████████████| 175 kB 5.1 MB/s \n",
            "\u001b[K     |████████████████████████████████| 53 kB 1.7 MB/s \n",
            "\u001b[K     |████████████████████████████████| 235 kB 52.4 MB/s \n",
            "\u001b[?25h  Building wheel for emoji (setup.py) ... \u001b[?25l\u001b[?25hdone\n"
          ]
        }
      ]
    },
    {
      "cell_type": "code",
      "execution_count": null,
      "metadata": {
        "id": "-HYSrenMxs_I",
        "colab": {
          "base_uri": "https://localhost:8080/",
          "height": 84,
          "referenced_widgets": [
            "26345c38cafa4c6c81ec3b99cc135428",
            "55ec52834b00409fbed349ed11787332",
            "e99eb19fb1b744c4b380e622a3408cc6",
            "f8f119b065e5482784da46b862d2361a",
            "3d1d091b05a5489e84372200ad00e123",
            "65e5b05da0b64092b79b8b90b8805c5b",
            "7783c08ca4394dd68bb2471825392fb7",
            "cc56be2616c1418ea16a6993dc9faf30",
            "1ee2957a98cb4f5f812bc55e31262e80",
            "f972e267676c4c9391e92fc9f87d2ba8",
            "7472831b15c949e9bb35702965984dc9"
          ]
        },
        "outputId": "43bfaf2e-73ed-4479-a1d9-f2721e7cf312"
      },
      "outputs": [
        {
          "output_type": "stream",
          "name": "stderr",
          "text": [
            "The cache for model files in Transformers v4.22.0 has been updated. Migrating your old cache. This is a one-time only operation. You can interrupt this and resume the migration later on by calling `transformers.utils.move_cache()`.\n"
          ]
        },
        {
          "output_type": "stream",
          "name": "stdout",
          "text": [
            "Moving 0 files to the new cache system\n"
          ]
        },
        {
          "output_type": "display_data",
          "data": {
            "text/plain": [
              "0it [00:00, ?it/s]"
            ],
            "application/vnd.jupyter.widget-view+json": {
              "version_major": 2,
              "version_minor": 0,
              "model_id": "26345c38cafa4c6c81ec3b99cc135428"
            }
          },
          "metadata": {}
        }
      ],
      "source": [
        "from transformers import BertConfig, BertTokenizer\n",
        "from transformers import BertModel\n",
        "\n",
        "from transformers import AdamW\n",
        "from transformers import get_linear_schedule_with_warmup\n",
        "\n",
        "from tqdm.notebook import tqdm\n",
        "\n",
        "import hazm\n",
        "import pandas as pd\n",
        "import numpy as np\n",
        "import os\n",
        "import torch\n",
        "import torch.nn as nn\n",
        "import torch.nn.functional as F"
      ]
    },
    {
      "cell_type": "markdown",
      "source": [
        "## Functions for Model Usage"
      ],
      "metadata": {
        "id": "A-nTFUoSt6W9"
      }
    },
    {
      "cell_type": "code",
      "source": [
        "class Dataset(torch.utils.data.Dataset):\n",
        "    \"\"\" Create a PyTorch dataset. \"\"\"\n",
        "\n",
        "    def __init__(self, tokenizer, comments, targets=None, label_list=None, max_len=128):\n",
        "        self.comments = comments\n",
        "        self.targets = targets\n",
        "        self.has_target = isinstance(targets, list) or isinstance(targets, np.ndarray)\n",
        "\n",
        "        self.tokenizer = tokenizer\n",
        "        self.max_len = max_len\n",
        "\n",
        "        \n",
        "        self.label_map = {label: i for i, label in enumerate(label_list)} if isinstance(label_list, list) else {}\n",
        "    \n",
        "    def __len__(self):\n",
        "        return len(self.comments)\n",
        "\n",
        "    def __getitem__(self, item):\n",
        "        comment = str(self.comments[item])\n",
        "\n",
        "        if self.has_target:\n",
        "            target = self.label_map.get(str(self.targets[item]), str(self.targets[item]))\n",
        "\n",
        "        encoding = self.tokenizer.encode_plus(\n",
        "            comment,\n",
        "            add_special_tokens=True,\n",
        "            truncation=True,\n",
        "            max_length=self.max_len,\n",
        "            return_token_type_ids=True,\n",
        "            padding='max_length',\n",
        "            return_attention_mask=True,\n",
        "            return_tensors='pt')\n",
        "        \n",
        "        inputs = {\n",
        "            'comment': comment,\n",
        "            'input_ids': encoding['input_ids'].flatten(),\n",
        "            'attention_mask': encoding['attention_mask'].flatten(),\n",
        "            'token_type_ids': encoding['token_type_ids'].flatten(),\n",
        "        }\n",
        "\n",
        "        if self.has_target:\n",
        "            inputs['targets'] = torch.tensor(target, dtype=torch.long)\n",
        "        \n",
        "        return inputs\n",
        "\n",
        "\n",
        "def create_data_loader(x, y, tokenizer, max_len, batch_size, label_list):\n",
        "    dataset = Dataset(\n",
        "        comments=x,\n",
        "        targets=y,\n",
        "        tokenizer=tokenizer,\n",
        "        max_len=max_len, \n",
        "        label_list=label_list)\n",
        "    \n",
        "    return torch.utils.data.DataLoader(dataset, batch_size=batch_size)"
      ],
      "metadata": {
        "id": "WzHSuXe4yi3v"
      },
      "execution_count": null,
      "outputs": []
    },
    {
      "cell_type": "code",
      "source": [
        "class Model(nn.Module):\n",
        "\n",
        "    def __init__(self, config):\n",
        "        super(Model, self).__init__()\n",
        "\n",
        "        self.bert = BertModel.from_pretrained(MODEL_NAME_OR_PATH)\n",
        "        self.dropout = nn.Dropout(config.hidden_dropout_prob)\n",
        "        self.classifier = nn.Linear(config.hidden_size, config.num_labels)\n",
        "    \n",
        "    def forward(self, input_ids, attention_mask, token_type_ids):\n",
        "        _, pooled_output = self.bert(\n",
        "            input_ids=input_ids, \n",
        "            attention_mask=attention_mask, \n",
        "            token_type_ids=token_type_ids,\n",
        "            return_dict=False)\n",
        "        \n",
        "        pooled_output = self.dropout(pooled_output)\n",
        "        logits = self.classifier(pooled_output)\n",
        "        return logits "
      ],
      "metadata": {
        "id": "SYciwdklzPXk"
      },
      "execution_count": null,
      "outputs": []
    },
    {
      "cell_type": "code",
      "source": [
        "def predict(model, comments, tokenizer, max_len=128, batch_size=32):\n",
        "    data_loader = create_data_loader(comments, None, tokenizer, max_len, batch_size, None)\n",
        "    \n",
        "    predictions = []\n",
        "    prediction_probs = []\n",
        "\n",
        "    \n",
        "    model.eval()\n",
        "    with torch.no_grad():\n",
        "        for dl in tqdm(data_loader, position=0):\n",
        "            input_ids = dl['input_ids']\n",
        "            attention_mask = dl['attention_mask']\n",
        "            token_type_ids = dl['token_type_ids']\n",
        "\n",
        "            # move tensors to GPU if CUDA is available\n",
        "            input_ids = input_ids.to(device)\n",
        "            attention_mask = attention_mask.to(device)\n",
        "            token_type_ids = token_type_ids.to(device)\n",
        "            \n",
        "            # compute predicted outputs by passing inputs to the model\n",
        "            outputs = model(\n",
        "                input_ids=input_ids,\n",
        "                attention_mask=attention_mask,\n",
        "                token_type_ids=token_type_ids)\n",
        "            \n",
        "            # convert output probabilities to predicted class\n",
        "            _, preds = torch.max(outputs, dim=1)\n",
        "\n",
        "            predictions.extend(preds)\n",
        "            prediction_probs.extend(F.softmax(outputs, dim=1))\n",
        "\n",
        "    predictions = torch.stack(predictions).cpu().detach().numpy()\n",
        "    prediction_probs = torch.stack(prediction_probs).cpu().detach().numpy()\n",
        "\n",
        "    return predictions, prediction_probs"
      ],
      "metadata": {
        "id": "KMxJ3vk9zRJa"
      },
      "execution_count": null,
      "outputs": []
    },
    {
      "cell_type": "code",
      "source": [
        "device = torch.device(\"cuda:0\" if torch.cuda.is_available() else \"cpu\")\n",
        "print(f'device: {device}')\n",
        "\n",
        "train_on_gpu = torch.cuda.is_available()\n",
        "\n",
        "if not train_on_gpu:\n",
        "    print('CUDA is not available.  Training on CPU ...')\n",
        "else:\n",
        "    print('CUDA is available!  Training on GPU ...')"
      ],
      "metadata": {
        "colab": {
          "base_uri": "https://localhost:8080/"
        },
        "id": "RI3ezdYpyb9Q",
        "outputId": "13874a40-7d2b-4115-d80e-e460418beade"
      },
      "execution_count": null,
      "outputs": [
        {
          "output_type": "stream",
          "name": "stdout",
          "text": [
            "device: cpu\n",
            "CUDA is not available.  Training on CPU ...\n"
          ]
        }
      ]
    },
    {
      "cell_type": "markdown",
      "source": [
        "## Load Data"
      ],
      "metadata": {
        "id": "16Ud9VtRu3V6"
      }
    },
    {
      "cell_type": "code",
      "source": [
        "!gdown https://drive.google.com/u/0/uc?id=1dVrIwWlKSNSxQbD5AY-Zck01LZ7hx6hg&export=download\n",
        "!gdown https://drive.google.com/u/0/uc?id=1YSIM8YGEtEw6octHnk5XAKJdk5wmqNLn&export=download\n",
        "!gdown https://drive.google.com/u/0/uc?id=1Trz7F5aZk4rc_ghU07RrNOrSLSCpW4BR&export=download\n",
        "\n",
        "!mkdir data\n",
        "\n",
        "!mv \"hamrah_aval.csv\" \"data/hamrah_aval.csv\"\n",
        "!mv \"irancell.csv\" \"data/irancell.csv\"\n",
        "!mv \"rightel.csv\" \"data/rightel.csv\""
      ],
      "metadata": {
        "colab": {
          "base_uri": "https://localhost:8080/"
        },
        "outputId": "1fdc7cb0-0a44-4d75-ec91-88b07b362bd1",
        "id": "YWN2FUbylRG_"
      },
      "execution_count": null,
      "outputs": [
        {
          "output_type": "stream",
          "name": "stdout",
          "text": [
            "Downloading...\n",
            "From: https://drive.google.com/u/0/uc?id=1dVrIwWlKSNSxQbD5AY-Zck01LZ7hx6hg\n",
            "To: /content/hamrah_aval.csv\n",
            "100% 325k/325k [00:00<00:00, 116MB/s]\n",
            "Downloading...\n",
            "From: https://drive.google.com/u/0/uc?id=1YSIM8YGEtEw6octHnk5XAKJdk5wmqNLn\n",
            "To: /content/irancell.csv\n",
            "100% 363k/363k [00:00<00:00, 131MB/s]\n",
            "Downloading...\n",
            "From: https://drive.google.com/u/0/uc?id=1Trz7F5aZk4rc_ghU07RrNOrSLSCpW4BR\n",
            "To: /content/rightel.csv\n",
            "100% 59.1k/59.1k [00:00<00:00, 52.9MB/s]\n"
          ]
        }
      ]
    },
    {
      "cell_type": "code",
      "source": [
        "hamrah_aval = pd.read_csv(\"data/hamrah_aval.csv\", encoding='utf-8')\n",
        "irancell = pd.read_csv(\"data/irancell.csv\", encoding='utf-8')\n",
        "rightel = pd.read_csv(\"data/rightel.csv\", encoding='utf-8')"
      ],
      "metadata": {
        "id": "NWJV5fqbu3V6"
      },
      "execution_count": null,
      "outputs": []
    },
    {
      "cell_type": "code",
      "source": [
        "hir = pd.concat([hamrah_aval, irancell, rightel], ignore_index=True)\n",
        "hir = hir.drop_duplicates()\n",
        "hir = hir.reset_index()\n",
        "hir = hir.drop(columns=['index'])\n",
        "hir"
      ],
      "metadata": {
        "colab": {
          "base_uri": "https://localhost:8080/",
          "height": 424
        },
        "outputId": "e2378bf0-bc66-41b5-dfc3-8633716180af",
        "id": "0g6rRVnUu3V7"
      },
      "execution_count": null,
      "outputs": [
        {
          "output_type": "execute_result",
          "data": {
            "text/plain": [
              "             created_time              user_id  \\\n",
              "0     2022-07-19 19:18:27  1355911468902981639   \n",
              "1     2022-07-19 19:13:32            614986877   \n",
              "2     2022-07-19 19:09:10   941220112845164544   \n",
              "3     2022-07-19 19:05:41   822277959176306688   \n",
              "4     2022-07-19 19:00:44  1111363641545236480   \n",
              "...                   ...                  ...   \n",
              "2261  2022-07-10 07:35:43  1474119738490040324   \n",
              "2262  2022-07-09 20:08:21  1355434208022421504   \n",
              "2263  2022-07-09 19:29:11   967671943750184960   \n",
              "2264  2022-07-09 17:41:06  1280293767581499394   \n",
              "2265  2022-07-09 17:30:08   989783064988483584   \n",
              "\n",
              "                                                   text  is_retweet  is_quote  \\\n",
              "0                        هیچ کس تنها نیست … … همراه اول       False     False   \n",
              "1                   بلی، ایرانسل از همراه اول بدتره حتی       False     False   \n",
              "2     بسته سه ماهه همراه اول رو دو دوره یعنی شش ماه ...       False     False   \n",
              "3                                    همراه اول هم همینه       False     False   \n",
              "4     بسته‌ی سه گیگ ماهانه‌ی اینترنت همراه اول می‌خر...       False     False   \n",
              "...                                                 ...         ...       ...   \n",
              "2261  این چه سمی بود! من خیلی بچه بودم زنها تازه تاز...       False     False   \n",
              "2262  کل روز اینترنت قطع بود حتی ملت ۹۱۱ هم نمی‌تونس...        True     False   \n",
              "2263      آره باید تو خود رایتل هم شارژش کنی تا وصل شه.       False     False   \n",
              "2264                                              رایتل       False     False   \n",
              "2265                                      محمدرضا رایتل       False     False   \n",
              "\n",
              "      is_reply                         tags  \n",
              "0         True              {'hamrah_aval'}  \n",
              "1         True  {'hamrah_aval', 'irancell'}  \n",
              "2         True              {'hamrah_aval'}  \n",
              "3         True              {'hamrah_aval'}  \n",
              "4        False              {'hamrah_aval'}  \n",
              "...        ...                          ...  \n",
              "2261      True                  {'rightel'}  \n",
              "2262     False                  {'rightel'}  \n",
              "2263      True                  {'rightel'}  \n",
              "2264      True                  {'rightel'}  \n",
              "2265      True                  {'rightel'}  \n",
              "\n",
              "[2266 rows x 7 columns]"
            ],
            "text/html": [
              "\n",
              "  <div id=\"df-02942732-5ca9-47c3-99dd-caf46b77b154\">\n",
              "    <div class=\"colab-df-container\">\n",
              "      <div>\n",
              "<style scoped>\n",
              "    .dataframe tbody tr th:only-of-type {\n",
              "        vertical-align: middle;\n",
              "    }\n",
              "\n",
              "    .dataframe tbody tr th {\n",
              "        vertical-align: top;\n",
              "    }\n",
              "\n",
              "    .dataframe thead th {\n",
              "        text-align: right;\n",
              "    }\n",
              "</style>\n",
              "<table border=\"1\" class=\"dataframe\">\n",
              "  <thead>\n",
              "    <tr style=\"text-align: right;\">\n",
              "      <th></th>\n",
              "      <th>created_time</th>\n",
              "      <th>user_id</th>\n",
              "      <th>text</th>\n",
              "      <th>is_retweet</th>\n",
              "      <th>is_quote</th>\n",
              "      <th>is_reply</th>\n",
              "      <th>tags</th>\n",
              "    </tr>\n",
              "  </thead>\n",
              "  <tbody>\n",
              "    <tr>\n",
              "      <th>0</th>\n",
              "      <td>2022-07-19 19:18:27</td>\n",
              "      <td>1355911468902981639</td>\n",
              "      <td>هیچ کس تنها نیست … … همراه اول</td>\n",
              "      <td>False</td>\n",
              "      <td>False</td>\n",
              "      <td>True</td>\n",
              "      <td>{'hamrah_aval'}</td>\n",
              "    </tr>\n",
              "    <tr>\n",
              "      <th>1</th>\n",
              "      <td>2022-07-19 19:13:32</td>\n",
              "      <td>614986877</td>\n",
              "      <td>بلی، ایرانسل از همراه اول بدتره حتی</td>\n",
              "      <td>False</td>\n",
              "      <td>False</td>\n",
              "      <td>True</td>\n",
              "      <td>{'hamrah_aval', 'irancell'}</td>\n",
              "    </tr>\n",
              "    <tr>\n",
              "      <th>2</th>\n",
              "      <td>2022-07-19 19:09:10</td>\n",
              "      <td>941220112845164544</td>\n",
              "      <td>بسته سه ماهه همراه اول رو دو دوره یعنی شش ماه ...</td>\n",
              "      <td>False</td>\n",
              "      <td>False</td>\n",
              "      <td>True</td>\n",
              "      <td>{'hamrah_aval'}</td>\n",
              "    </tr>\n",
              "    <tr>\n",
              "      <th>3</th>\n",
              "      <td>2022-07-19 19:05:41</td>\n",
              "      <td>822277959176306688</td>\n",
              "      <td>همراه اول هم همینه</td>\n",
              "      <td>False</td>\n",
              "      <td>False</td>\n",
              "      <td>True</td>\n",
              "      <td>{'hamrah_aval'}</td>\n",
              "    </tr>\n",
              "    <tr>\n",
              "      <th>4</th>\n",
              "      <td>2022-07-19 19:00:44</td>\n",
              "      <td>1111363641545236480</td>\n",
              "      <td>بسته‌ی سه گیگ ماهانه‌ی اینترنت همراه اول می‌خر...</td>\n",
              "      <td>False</td>\n",
              "      <td>False</td>\n",
              "      <td>False</td>\n",
              "      <td>{'hamrah_aval'}</td>\n",
              "    </tr>\n",
              "    <tr>\n",
              "      <th>...</th>\n",
              "      <td>...</td>\n",
              "      <td>...</td>\n",
              "      <td>...</td>\n",
              "      <td>...</td>\n",
              "      <td>...</td>\n",
              "      <td>...</td>\n",
              "      <td>...</td>\n",
              "    </tr>\n",
              "    <tr>\n",
              "      <th>2261</th>\n",
              "      <td>2022-07-10 07:35:43</td>\n",
              "      <td>1474119738490040324</td>\n",
              "      <td>این چه سمی بود! من خیلی بچه بودم زنها تازه تاز...</td>\n",
              "      <td>False</td>\n",
              "      <td>False</td>\n",
              "      <td>True</td>\n",
              "      <td>{'rightel'}</td>\n",
              "    </tr>\n",
              "    <tr>\n",
              "      <th>2262</th>\n",
              "      <td>2022-07-09 20:08:21</td>\n",
              "      <td>1355434208022421504</td>\n",
              "      <td>کل روز اینترنت قطع بود حتی ملت ۹۱۱ هم نمی‌تونس...</td>\n",
              "      <td>True</td>\n",
              "      <td>False</td>\n",
              "      <td>False</td>\n",
              "      <td>{'rightel'}</td>\n",
              "    </tr>\n",
              "    <tr>\n",
              "      <th>2263</th>\n",
              "      <td>2022-07-09 19:29:11</td>\n",
              "      <td>967671943750184960</td>\n",
              "      <td>آره باید تو خود رایتل هم شارژش کنی تا وصل شه.</td>\n",
              "      <td>False</td>\n",
              "      <td>False</td>\n",
              "      <td>True</td>\n",
              "      <td>{'rightel'}</td>\n",
              "    </tr>\n",
              "    <tr>\n",
              "      <th>2264</th>\n",
              "      <td>2022-07-09 17:41:06</td>\n",
              "      <td>1280293767581499394</td>\n",
              "      <td>رایتل</td>\n",
              "      <td>False</td>\n",
              "      <td>False</td>\n",
              "      <td>True</td>\n",
              "      <td>{'rightel'}</td>\n",
              "    </tr>\n",
              "    <tr>\n",
              "      <th>2265</th>\n",
              "      <td>2022-07-09 17:30:08</td>\n",
              "      <td>989783064988483584</td>\n",
              "      <td>محمدرضا رایتل</td>\n",
              "      <td>False</td>\n",
              "      <td>False</td>\n",
              "      <td>True</td>\n",
              "      <td>{'rightel'}</td>\n",
              "    </tr>\n",
              "  </tbody>\n",
              "</table>\n",
              "<p>2266 rows × 7 columns</p>\n",
              "</div>\n",
              "      <button class=\"colab-df-convert\" onclick=\"convertToInteractive('df-02942732-5ca9-47c3-99dd-caf46b77b154')\"\n",
              "              title=\"Convert this dataframe to an interactive table.\"\n",
              "              style=\"display:none;\">\n",
              "        \n",
              "  <svg xmlns=\"http://www.w3.org/2000/svg\" height=\"24px\"viewBox=\"0 0 24 24\"\n",
              "       width=\"24px\">\n",
              "    <path d=\"M0 0h24v24H0V0z\" fill=\"none\"/>\n",
              "    <path d=\"M18.56 5.44l.94 2.06.94-2.06 2.06-.94-2.06-.94-.94-2.06-.94 2.06-2.06.94zm-11 1L8.5 8.5l.94-2.06 2.06-.94-2.06-.94L8.5 2.5l-.94 2.06-2.06.94zm10 10l.94 2.06.94-2.06 2.06-.94-2.06-.94-.94-2.06-.94 2.06-2.06.94z\"/><path d=\"M17.41 7.96l-1.37-1.37c-.4-.4-.92-.59-1.43-.59-.52 0-1.04.2-1.43.59L10.3 9.45l-7.72 7.72c-.78.78-.78 2.05 0 2.83L4 21.41c.39.39.9.59 1.41.59.51 0 1.02-.2 1.41-.59l7.78-7.78 2.81-2.81c.8-.78.8-2.07 0-2.86zM5.41 20L4 18.59l7.72-7.72 1.47 1.35L5.41 20z\"/>\n",
              "  </svg>\n",
              "      </button>\n",
              "      \n",
              "  <style>\n",
              "    .colab-df-container {\n",
              "      display:flex;\n",
              "      flex-wrap:wrap;\n",
              "      gap: 12px;\n",
              "    }\n",
              "\n",
              "    .colab-df-convert {\n",
              "      background-color: #E8F0FE;\n",
              "      border: none;\n",
              "      border-radius: 50%;\n",
              "      cursor: pointer;\n",
              "      display: none;\n",
              "      fill: #1967D2;\n",
              "      height: 32px;\n",
              "      padding: 0 0 0 0;\n",
              "      width: 32px;\n",
              "    }\n",
              "\n",
              "    .colab-df-convert:hover {\n",
              "      background-color: #E2EBFA;\n",
              "      box-shadow: 0px 1px 2px rgba(60, 64, 67, 0.3), 0px 1px 3px 1px rgba(60, 64, 67, 0.15);\n",
              "      fill: #174EA6;\n",
              "    }\n",
              "\n",
              "    [theme=dark] .colab-df-convert {\n",
              "      background-color: #3B4455;\n",
              "      fill: #D2E3FC;\n",
              "    }\n",
              "\n",
              "    [theme=dark] .colab-df-convert:hover {\n",
              "      background-color: #434B5C;\n",
              "      box-shadow: 0px 1px 3px 1px rgba(0, 0, 0, 0.15);\n",
              "      filter: drop-shadow(0px 1px 2px rgba(0, 0, 0, 0.3));\n",
              "      fill: #FFFFFF;\n",
              "    }\n",
              "  </style>\n",
              "\n",
              "      <script>\n",
              "        const buttonEl =\n",
              "          document.querySelector('#df-02942732-5ca9-47c3-99dd-caf46b77b154 button.colab-df-convert');\n",
              "        buttonEl.style.display =\n",
              "          google.colab.kernel.accessAllowed ? 'block' : 'none';\n",
              "\n",
              "        async function convertToInteractive(key) {\n",
              "          const element = document.querySelector('#df-02942732-5ca9-47c3-99dd-caf46b77b154');\n",
              "          const dataTable =\n",
              "            await google.colab.kernel.invokeFunction('convertToInteractive',\n",
              "                                                     [key], {});\n",
              "          if (!dataTable) return;\n",
              "\n",
              "          const docLinkHtml = 'Like what you see? Visit the ' +\n",
              "            '<a target=\"_blank\" href=https://colab.research.google.com/notebooks/data_table.ipynb>data table notebook</a>'\n",
              "            + ' to learn more about interactive tables.';\n",
              "          element.innerHTML = '';\n",
              "          dataTable['output_type'] = 'display_data';\n",
              "          await google.colab.output.renderOutput(dataTable, element);\n",
              "          const docLink = document.createElement('div');\n",
              "          docLink.innerHTML = docLinkHtml;\n",
              "          element.appendChild(docLink);\n",
              "        }\n",
              "      </script>\n",
              "    </div>\n",
              "  </div>\n",
              "  "
            ]
          },
          "metadata": {},
          "execution_count": 19
        }
      ]
    },
    {
      "cell_type": "code",
      "source": [
        "hir.to_csv(\"data/hir.csv\", index=None)"
      ],
      "metadata": {
        "id": "Up90JW6Ku3V7"
      },
      "execution_count": null,
      "outputs": []
    },
    {
      "cell_type": "code",
      "source": [
        "from google.colab import drive\n",
        "drive.mount('/content/gdrive')"
      ],
      "metadata": {
        "colab": {
          "base_uri": "https://localhost:8080/"
        },
        "id": "UoKVeD2uWriG",
        "outputId": "4f46ac53-6bc5-43bc-d396-582085aef65a"
      },
      "execution_count": null,
      "outputs": [
        {
          "output_type": "stream",
          "name": "stdout",
          "text": [
            "Mounted at /content/gdrive\n"
          ]
        }
      ]
    },
    {
      "cell_type": "code",
      "source": [
        "import shutil\n",
        "shutil.copy(\"data/hir.csv\", \"/content/gdrive/MyDrive/crawler/csv_files_20220719/hir.csv\")"
      ],
      "metadata": {
        "colab": {
          "base_uri": "https://localhost:8080/",
          "height": 35
        },
        "id": "83pdITKzu3V7",
        "outputId": "03922b95-00e2-4dec-b317-ac995769a059"
      },
      "execution_count": null,
      "outputs": [
        {
          "output_type": "execute_result",
          "data": {
            "text/plain": [
              "'/content/gdrive/MyDrive/crawler/csv_files_20220719/hir.csv'"
            ],
            "application/vnd.google.colaboratory.intrinsic+json": {
              "type": "string"
            }
          },
          "metadata": {},
          "execution_count": 22
        }
      ]
    },
    {
      "cell_type": "markdown",
      "source": [
        "## Sentiment Analysis Models"
      ],
      "metadata": {
        "id": "YUFNo1LGuOt4"
      }
    },
    {
      "cell_type": "markdown",
      "source": [
        "### Sentipers [-2, -1, 0, 1, 2] Model"
      ],
      "metadata": {
        "id": "F09aWtRbuZH5"
      }
    },
    {
      "cell_type": "code",
      "source": [
        "# general config\n",
        "MAX_LEN = 128\n",
        "TRAIN_BATCH_SIZE = 16\n",
        "VALID_BATCH_SIZE = 16\n",
        "TEST_BATCH_SIZE = 16\n",
        "\n",
        "EPOCHS = 10\n",
        "EEVERY_EPOCH = 1000\n",
        "LEARNING_RATE = 2e-5\n",
        "CLIP = 0.0\n",
        "\n",
        "MODEL_NAME_OR_PATH = 'HooshvareLab/bert-fa-base-uncased'\n",
        "OUTPUT_PATH = '/content/bert-fa-base-uncased-deepsentipers-sentiment-analysis/pytorch_model.bin'\n",
        "\n",
        "os.makedirs(os.path.dirname(OUTPUT_PATH), exist_ok=True)"
      ],
      "metadata": {
        "id": "bE8mM0WRydrE"
      },
      "execution_count": null,
      "outputs": []
    },
    {
      "cell_type": "code",
      "source": [
        "labels = [-2, -1, 0, 1, 2]"
      ],
      "metadata": {
        "id": "ws5i_IUDy0FU"
      },
      "execution_count": null,
      "outputs": []
    },
    {
      "cell_type": "code",
      "source": [
        "# create a key finder based on label 2 id and id to label\n",
        "\n",
        "label2id = {label: i for i, label in enumerate(labels)}\n",
        "id2label = {v: k for k, v in label2id.items()}\n",
        "\n",
        "print(f'label2id: {label2id}')\n",
        "print(f'id2label: {id2label}')"
      ],
      "metadata": {
        "colab": {
          "base_uri": "https://localhost:8080/"
        },
        "id": "-ChjdNr2yfay",
        "outputId": "bef5e0d6-5b0c-4a30-f6be-966bea84bd4f"
      },
      "execution_count": null,
      "outputs": [
        {
          "output_type": "stream",
          "name": "stdout",
          "text": [
            "label2id: {-2: 0, -1: 1, 0: 2, 1: 3, 2: 4}\n",
            "id2label: {0: -2, 1: -1, 2: 0, 3: 1, 4: 2}\n"
          ]
        }
      ]
    },
    {
      "cell_type": "code",
      "source": [
        "# setup the tokenizer and configuration\n",
        "\n",
        "tokenizer = BertTokenizer.from_pretrained(MODEL_NAME_OR_PATH)\n",
        "config = BertConfig.from_pretrained(\n",
        "    MODEL_NAME_OR_PATH, **{\n",
        "        'label2id': label2id,\n",
        "        'id2label': id2label,\n",
        "    })\n",
        "\n",
        "print(config.to_json_string())"
      ],
      "metadata": {
        "colab": {
          "base_uri": "https://localhost:8080/",
          "height": 741,
          "referenced_widgets": [
            "ed335a51575749fc937f59d697a59d71",
            "642efaab0fb843509781b464102a2dde",
            "70ef17e190874647a17af438ca7f126c",
            "28bab2e85f8148698eb8df9f6ef9fae1",
            "ae61a9d5b6ff43f498aa4b0fc2158121",
            "cc868faaeef9441ab8f221d1c6f8e88d",
            "8c2929b0669e45f988381af4b4966cc1",
            "80a05a6f748e454b8e235f3475cca99f",
            "b94d80dfad2b4b4e9d4c40dd82bd4872",
            "588efb1bf0674b53808138e1d5f2964b",
            "0b6d74bc08b243ff95071225ee49d881",
            "bc097bb2bc424f9ba180102f633d1667",
            "d19cb16344ab4b03b954184eeb7abd9e",
            "4d7bd2627a8948a0a1535f61b9f77bd1",
            "b40d0c40e4aa4ab39f0435def7c0fc1d",
            "e0ab5460d86b4a86b845dd70a1e64936",
            "1ff99a284e454c38b84df3c4e6f68070",
            "a688db4f75fe4eefba4231ec7a986f2b",
            "9520990d1f84438e8d166af060db74f2",
            "0f4dd2cadf1f46e8a271ace775776334",
            "e9b4649f809549158ff6cdc57b62389b",
            "cc8b2c7c09dc447db3feba220b0001bb"
          ]
        },
        "id": "pDNzAqYfyhBY",
        "outputId": "082fd109-fd9c-47c9-e513-2e4d8601bfff"
      },
      "execution_count": null,
      "outputs": [
        {
          "output_type": "display_data",
          "data": {
            "text/plain": [
              "Downloading:   0%|          | 0.00/1.20M [00:00<?, ?B/s]"
            ],
            "application/vnd.jupyter.widget-view+json": {
              "version_major": 2,
              "version_minor": 0,
              "model_id": "ed335a51575749fc937f59d697a59d71"
            }
          },
          "metadata": {}
        },
        {
          "output_type": "display_data",
          "data": {
            "text/plain": [
              "Downloading:   0%|          | 0.00/440 [00:00<?, ?B/s]"
            ],
            "application/vnd.jupyter.widget-view+json": {
              "version_major": 2,
              "version_minor": 0,
              "model_id": "bc097bb2bc424f9ba180102f633d1667"
            }
          },
          "metadata": {}
        },
        {
          "output_type": "stream",
          "name": "stdout",
          "text": [
            "{\n",
            "  \"architectures\": [\n",
            "    \"BertForMaskedLM\"\n",
            "  ],\n",
            "  \"attention_probs_dropout_prob\": 0.1,\n",
            "  \"classifier_dropout\": null,\n",
            "  \"hidden_act\": \"gelu\",\n",
            "  \"hidden_dropout_prob\": 0.1,\n",
            "  \"hidden_size\": 768,\n",
            "  \"id2label\": {\n",
            "    \"0\": -2,\n",
            "    \"1\": -1,\n",
            "    \"2\": 0,\n",
            "    \"3\": 1,\n",
            "    \"4\": 2\n",
            "  },\n",
            "  \"initializer_range\": 0.02,\n",
            "  \"intermediate_size\": 3072,\n",
            "  \"label2id\": {\n",
            "    \"-2\": 0,\n",
            "    \"-1\": 1,\n",
            "    \"0\": 2,\n",
            "    \"1\": 3,\n",
            "    \"2\": 4\n",
            "  },\n",
            "  \"layer_norm_eps\": 1e-12,\n",
            "  \"max_position_embeddings\": 512,\n",
            "  \"model_type\": \"bert\",\n",
            "  \"num_attention_heads\": 12,\n",
            "  \"num_hidden_layers\": 12,\n",
            "  \"pad_token_id\": 0,\n",
            "  \"position_embedding_type\": \"absolute\",\n",
            "  \"transformers_version\": \"4.22.1\",\n",
            "  \"type_vocab_size\": 2,\n",
            "  \"use_cache\": true,\n",
            "  \"vocab_size\": 100000\n",
            "}\n",
            "\n"
          ]
        }
      ]
    },
    {
      "cell_type": "markdown",
      "source": [
        "#### Load Model for Prediction"
      ],
      "metadata": {
        "id": "1hiG8CrNupnp"
      }
    },
    {
      "cell_type": "code",
      "source": [
        "from google.colab import drive\n",
        "drive.mount('/content/gdrive')"
      ],
      "metadata": {
        "colab": {
          "base_uri": "https://localhost:8080/"
        },
        "id": "JbgRXXU-za3c",
        "outputId": "783a4a20-d8b2-42e0-962a-d24aca6d9298"
      },
      "execution_count": null,
      "outputs": [
        {
          "output_type": "stream",
          "name": "stdout",
          "text": [
            "Mounted at /content/gdrive\n"
          ]
        }
      ]
    },
    {
      "cell_type": "code",
      "source": [
        "!ls /content/gdrive/MyDrive/finetuned_parsbert_sentipers_5"
      ],
      "metadata": {
        "id": "OxD16xN9g7I2",
        "colab": {
          "base_uri": "https://localhost:8080/"
        },
        "outputId": "b08840c1-27f3-4c21-ddf8-058939d3ac7c"
      },
      "execution_count": null,
      "outputs": [
        {
          "output_type": "stream",
          "name": "stdout",
          "text": [
            "finetuned_parsbert_sentipers.pt  test.csv  train.csv  valid.csv\n"
          ]
        }
      ]
    },
    {
      "cell_type": "code",
      "source": [
        "model = Model(config=config)\n",
        "model = model.to(device)\n",
        "\n",
        "print('model', type(model))"
      ],
      "metadata": {
        "colab": {
          "base_uri": "https://localhost:8080/",
          "height": 138,
          "referenced_widgets": [
            "3ce326e521684382b2d8d76d73988752",
            "8d454dc363a74bbe9b0b3ac10c700aba",
            "d1a3b55b79d54f46a78eac0581084df2",
            "74fa393d760f4a118dfe9c647685d946",
            "283b7049a8004cc1ae180c781977479b",
            "7478ace955aa48c3865b370d4ca33875",
            "5adb9c9b56db4f5396c4b5c0b7544ba8",
            "5b5b1238e99540d9b70ecdb5f213c8c9",
            "72d170c172904c9185207cc73e424b7f",
            "001328baaba54ec4a59f16d20a3399c7",
            "cad6e442f79440f581e3de45c4067020"
          ]
        },
        "id": "iKkc3vFLsrKU",
        "outputId": "8be1bd0d-4a6f-4724-bf29-44404813f9d6"
      },
      "execution_count": null,
      "outputs": [
        {
          "output_type": "display_data",
          "data": {
            "text/plain": [
              "Downloading:   0%|          | 0.00/654M [00:00<?, ?B/s]"
            ],
            "application/vnd.jupyter.widget-view+json": {
              "version_major": 2,
              "version_minor": 0,
              "model_id": "3ce326e521684382b2d8d76d73988752"
            }
          },
          "metadata": {}
        },
        {
          "output_type": "stream",
          "name": "stderr",
          "text": [
            "Some weights of the model checkpoint at HooshvareLab/bert-fa-base-uncased were not used when initializing BertModel: ['cls.predictions.decoder.bias', 'cls.seq_relationship.bias', 'cls.predictions.decoder.weight', 'cls.seq_relationship.weight', 'cls.predictions.transform.dense.bias', 'cls.predictions.transform.LayerNorm.weight', 'cls.predictions.bias', 'cls.predictions.transform.LayerNorm.bias', 'cls.predictions.transform.dense.weight']\n",
            "- This IS expected if you are initializing BertModel from the checkpoint of a model trained on another task or with another architecture (e.g. initializing a BertForSequenceClassification model from a BertForPreTraining model).\n",
            "- This IS NOT expected if you are initializing BertModel from the checkpoint of a model that you expect to be exactly identical (initializing a BertForSequenceClassification model from a BertForSequenceClassification model).\n"
          ]
        },
        {
          "output_type": "stream",
          "name": "stdout",
          "text": [
            "model <class '__main__.Model'>\n"
          ]
        }
      ]
    },
    {
      "cell_type": "code",
      "source": [
        "path = F\"/content/gdrive/MyDrive/finetuned_parsbert_sentipers_5/finetuned_parsbert_sentipers.pt\" \n",
        "model.load_state_dict(torch.load(path))"
      ],
      "metadata": {
        "colab": {
          "base_uri": "https://localhost:8080/"
        },
        "outputId": "eee48a4e-392d-4619-e25d-0ba592af62d1",
        "id": "ty8HS22SlyE8"
      },
      "execution_count": null,
      "outputs": [
        {
          "output_type": "execute_result",
          "data": {
            "text/plain": [
              "<All keys matched successfully>"
            ]
          },
          "metadata": {},
          "execution_count": 29
        }
      ]
    },
    {
      "cell_type": "markdown",
      "source": [
        "Custom input test\n",
        "\n",
        "unfortunately Hazm library doesn't fix the informal texts properly. we will test Hazm and our model on the tweet `همراه اول کامل قطعه` and it's normal form `همراه اول کامل قطع است`."
      ],
      "metadata": {
        "id": "BuhUXlot_1Kc"
      }
    },
    {
      "cell_type": "code",
      "source": [
        "import hazm\n",
        "\n",
        "informalNormalizer = hazm.InformalNormalizer()\n",
        "normalizer = hazm.Normalizer()\n",
        "stemmer = hazm.Stemmer()\n",
        "lemmatizer = hazm.Lemmatizer()"
      ],
      "metadata": {
        "id": "9qUo8qr5IThU"
      },
      "execution_count": null,
      "outputs": []
    },
    {
      "cell_type": "code",
      "source": [
        "text = 'همراه اول کامل قطعه'\n",
        "text = informalNormalizer.normalize(text)\n",
        "text"
      ],
      "metadata": {
        "colab": {
          "base_uri": "https://localhost:8080/"
        },
        "id": "OotydXZjMhIz",
        "outputId": "b88a26a3-8331-4f22-8e29-979c6bb8b07a"
      },
      "execution_count": null,
      "outputs": [
        {
          "output_type": "execute_result",
          "data": {
            "text/plain": [
              "[[['همراه'], ['اول'], ['کامل'], ['قطعه']]]"
            ]
          },
          "metadata": {},
          "execution_count": 31
        }
      ]
    },
    {
      "cell_type": "code",
      "source": [
        "text = 'همراه اول کامل قطعه'\n",
        "text = normalizer.normalize(text)\n",
        "text = stemmer.stem(text)\n",
        "text = lemmatizer.lemmatize(text)\n",
        "text"
      ],
      "metadata": {
        "colab": {
          "base_uri": "https://localhost:8080/",
          "height": 35
        },
        "id": "xNT4RsH6I1zn",
        "outputId": "e3caa2db-731d-47b7-dd7d-1ebac7f4715f"
      },
      "execution_count": null,
      "outputs": [
        {
          "output_type": "execute_result",
          "data": {
            "text/plain": [
              "'همراه اول کامل قطعه'"
            ],
            "application/vnd.google.colaboratory.intrinsic+json": {
              "type": "string"
            }
          },
          "metadata": {},
          "execution_count": 32
        }
      ]
    },
    {
      "cell_type": "code",
      "source": [
        "xtmp_test = [text]\n",
        "test_comments = np.array(xtmp_test)\n",
        "preds, probs = predict(model, test_comments, tokenizer, max_len=128)\n",
        "\n",
        "labels[preds[0]]"
      ],
      "metadata": {
        "colab": {
          "base_uri": "https://localhost:8080/",
          "height": 66,
          "referenced_widgets": [
            "de19b2ebd656476bafee23a50ff5d297",
            "06709983b2f748d392f4a184055bad3b",
            "33f9e70c4d2e4d8fac62690f6099287b",
            "9cf04c84783540a2a07cac08c7435a02",
            "c77cabe22007414e823a382f809df3e5",
            "ed42cb5044934162b4b09958befc21af",
            "4eeae95ae9fd4ce08cb0b986f4f00e8d",
            "c41ec3d20cbb4dbaa15a2e92656a0ede",
            "b29800c0b06341ea81a9ae2b29caae84",
            "4e14825ce8ff441084f4ed0b3a086e96",
            "7e9a9c19587d4a878b122d137d29ae1e"
          ]
        },
        "id": "nkbSsEB_lVkK",
        "outputId": "37e01572-64b9-4348-fe56-3581675d34d8"
      },
      "execution_count": null,
      "outputs": [
        {
          "output_type": "display_data",
          "data": {
            "text/plain": [
              "  0%|          | 0/1 [00:00<?, ?it/s]"
            ],
            "application/vnd.jupyter.widget-view+json": {
              "version_major": 2,
              "version_minor": 0,
              "model_id": "de19b2ebd656476bafee23a50ff5d297"
            }
          },
          "metadata": {}
        },
        {
          "output_type": "execute_result",
          "data": {
            "text/plain": [
              "2"
            ]
          },
          "metadata": {},
          "execution_count": 33
        }
      ]
    },
    {
      "cell_type": "code",
      "source": [
        "xtmp_test = ['همراه اول کامل قطع است']\n",
        "test_comments = np.array(xtmp_test)\n",
        "preds, probs = predict(model, test_comments, tokenizer, max_len=128)\n",
        "\n",
        "labels[preds[0]]"
      ],
      "metadata": {
        "colab": {
          "base_uri": "https://localhost:8080/",
          "height": 66,
          "referenced_widgets": [
            "a9371c2330b4437581a0c559db298ced",
            "0adfe2f26d5e4d2f96a0289a92c68972",
            "8d3b99a6eec44156a76e382f7431cd95",
            "072ff189d0fb4bd2834517f6c751250e",
            "a4ac5939de094afaa2a88bab99ba33e7",
            "4be2d2d8da354d1fb0289319e0dd18d2",
            "e91942d1386a4d03beecce297ce8861c",
            "3245f607ea16485c9b20fcf8622aaaee",
            "f0e94b316e0c494ab12214c372c0dec3",
            "5763fd9b69054e3d9982057456aae0c1",
            "80f9c8dd19a0421387a09b11d003757b"
          ]
        },
        "id": "xUCMnzp1LxsS",
        "outputId": "30a70247-c2ab-461f-aba3-93eafe33faea"
      },
      "execution_count": null,
      "outputs": [
        {
          "output_type": "display_data",
          "data": {
            "text/plain": [
              "  0%|          | 0/1 [00:00<?, ?it/s]"
            ],
            "application/vnd.jupyter.widget-view+json": {
              "version_major": 2,
              "version_minor": 0,
              "model_id": "a9371c2330b4437581a0c559db298ced"
            }
          },
          "metadata": {}
        },
        {
          "output_type": "execute_result",
          "data": {
            "text/plain": [
              "-1"
            ]
          },
          "metadata": {},
          "execution_count": 34
        }
      ]
    },
    {
      "cell_type": "markdown",
      "source": [
        "using on dataset"
      ],
      "metadata": {
        "id": "DWezVIph_3o1"
      }
    },
    {
      "cell_type": "code",
      "source": [
        "xtmp_test = list(hir[\"text\"])\n",
        "test_comments = np.array(xtmp_test)\n",
        "preds, probs = predict(model, test_comments, tokenizer, max_len=128)"
      ],
      "metadata": {
        "colab": {
          "base_uri": "https://localhost:8080/",
          "height": 49,
          "referenced_widgets": [
            "855106f1f2a146af9056c63b1c7d2f6f",
            "a1e71907162a4853a3b1bd32e7893ab1",
            "a22455bb90d74a599565f267cd28293b",
            "7bc357b64c974099bb00d0337560d4a1",
            "d2992dccfea94245a4d49ee768432db0",
            "583c95ae72ec47bdbbebc2261deb577c",
            "4df6c91d98804e8781792054afdfd929",
            "5016fc56964848968f8fb290473ae619",
            "5465e1fd610b431291bd02085d89c272",
            "d6cab8546c884a1ba058f36c50d20d5f",
            "4aac7f918d9a4b45973c57f16adc2053"
          ]
        },
        "id": "tpGrkkvy55nL",
        "outputId": "5132bb68-9583-4b82-e457-a112c355d8f4"
      },
      "execution_count": null,
      "outputs": [
        {
          "output_type": "display_data",
          "data": {
            "text/plain": [
              "  0%|          | 0/71 [00:00<?, ?it/s]"
            ],
            "application/vnd.jupyter.widget-view+json": {
              "version_major": 2,
              "version_minor": 0,
              "model_id": "855106f1f2a146af9056c63b1c7d2f6f"
            }
          },
          "metadata": {}
        }
      ]
    },
    {
      "cell_type": "markdown",
      "source": [
        "#### Save processed dataset to drive"
      ],
      "metadata": {
        "id": "pkmTdQ6t__-2"
      }
    },
    {
      "cell_type": "code",
      "source": [
        "scores = [labels[pred] for pred in preds]\n",
        "hir[\"sentiment_scores\"] = scores\n",
        "hir"
      ],
      "metadata": {
        "colab": {
          "base_uri": "https://localhost:8080/",
          "height": 424
        },
        "id": "Qtmtbuxs57NP",
        "outputId": "db95f282-0ad4-4575-a45e-197370019103"
      },
      "execution_count": null,
      "outputs": [
        {
          "output_type": "execute_result",
          "data": {
            "text/plain": [
              "             created_time              user_id  \\\n",
              "0     2022-07-19 19:18:27  1355911468902981639   \n",
              "1     2022-07-19 19:13:32            614986877   \n",
              "2     2022-07-19 19:09:10   941220112845164544   \n",
              "3     2022-07-19 19:05:41   822277959176306688   \n",
              "4     2022-07-19 19:00:44  1111363641545236480   \n",
              "...                   ...                  ...   \n",
              "2261  2022-07-10 07:35:43  1474119738490040324   \n",
              "2262  2022-07-09 20:08:21  1355434208022421504   \n",
              "2263  2022-07-09 19:29:11   967671943750184960   \n",
              "2264  2022-07-09 17:41:06  1280293767581499394   \n",
              "2265  2022-07-09 17:30:08   989783064988483584   \n",
              "\n",
              "                                                   text  is_retweet  is_quote  \\\n",
              "0                        هیچ کس تنها نیست … … همراه اول       False     False   \n",
              "1                   بلی، ایرانسل از همراه اول بدتره حتی       False     False   \n",
              "2     بسته سه ماهه همراه اول رو دو دوره یعنی شش ماه ...       False     False   \n",
              "3                                    همراه اول هم همینه       False     False   \n",
              "4     بسته‌ی سه گیگ ماهانه‌ی اینترنت همراه اول می‌خر...       False     False   \n",
              "...                                                 ...         ...       ...   \n",
              "2261  این چه سمی بود! من خیلی بچه بودم زنها تازه تاز...       False     False   \n",
              "2262  کل روز اینترنت قطع بود حتی ملت ۹۱۱ هم نمی‌تونس...        True     False   \n",
              "2263      آره باید تو خود رایتل هم شارژش کنی تا وصل شه.       False     False   \n",
              "2264                                              رایتل       False     False   \n",
              "2265                                      محمدرضا رایتل       False     False   \n",
              "\n",
              "      is_reply                         tags  sentiment_scores  \n",
              "0         True              {'hamrah_aval'}                 1  \n",
              "1         True  {'hamrah_aval', 'irancell'}                -1  \n",
              "2         True              {'hamrah_aval'}                 0  \n",
              "3         True              {'hamrah_aval'}                 1  \n",
              "4        False              {'hamrah_aval'}                -1  \n",
              "...        ...                          ...               ...  \n",
              "2261      True                  {'rightel'}                -1  \n",
              "2262     False                  {'rightel'}                -1  \n",
              "2263      True                  {'rightel'}                 0  \n",
              "2264      True                  {'rightel'}                 1  \n",
              "2265      True                  {'rightel'}                 0  \n",
              "\n",
              "[2266 rows x 8 columns]"
            ],
            "text/html": [
              "\n",
              "  <div id=\"df-804d2ada-fd2e-4b3b-a048-3c51b0eccf2d\">\n",
              "    <div class=\"colab-df-container\">\n",
              "      <div>\n",
              "<style scoped>\n",
              "    .dataframe tbody tr th:only-of-type {\n",
              "        vertical-align: middle;\n",
              "    }\n",
              "\n",
              "    .dataframe tbody tr th {\n",
              "        vertical-align: top;\n",
              "    }\n",
              "\n",
              "    .dataframe thead th {\n",
              "        text-align: right;\n",
              "    }\n",
              "</style>\n",
              "<table border=\"1\" class=\"dataframe\">\n",
              "  <thead>\n",
              "    <tr style=\"text-align: right;\">\n",
              "      <th></th>\n",
              "      <th>created_time</th>\n",
              "      <th>user_id</th>\n",
              "      <th>text</th>\n",
              "      <th>is_retweet</th>\n",
              "      <th>is_quote</th>\n",
              "      <th>is_reply</th>\n",
              "      <th>tags</th>\n",
              "      <th>sentiment_scores</th>\n",
              "    </tr>\n",
              "  </thead>\n",
              "  <tbody>\n",
              "    <tr>\n",
              "      <th>0</th>\n",
              "      <td>2022-07-19 19:18:27</td>\n",
              "      <td>1355911468902981639</td>\n",
              "      <td>هیچ کس تنها نیست … … همراه اول</td>\n",
              "      <td>False</td>\n",
              "      <td>False</td>\n",
              "      <td>True</td>\n",
              "      <td>{'hamrah_aval'}</td>\n",
              "      <td>1</td>\n",
              "    </tr>\n",
              "    <tr>\n",
              "      <th>1</th>\n",
              "      <td>2022-07-19 19:13:32</td>\n",
              "      <td>614986877</td>\n",
              "      <td>بلی، ایرانسل از همراه اول بدتره حتی</td>\n",
              "      <td>False</td>\n",
              "      <td>False</td>\n",
              "      <td>True</td>\n",
              "      <td>{'hamrah_aval', 'irancell'}</td>\n",
              "      <td>-1</td>\n",
              "    </tr>\n",
              "    <tr>\n",
              "      <th>2</th>\n",
              "      <td>2022-07-19 19:09:10</td>\n",
              "      <td>941220112845164544</td>\n",
              "      <td>بسته سه ماهه همراه اول رو دو دوره یعنی شش ماه ...</td>\n",
              "      <td>False</td>\n",
              "      <td>False</td>\n",
              "      <td>True</td>\n",
              "      <td>{'hamrah_aval'}</td>\n",
              "      <td>0</td>\n",
              "    </tr>\n",
              "    <tr>\n",
              "      <th>3</th>\n",
              "      <td>2022-07-19 19:05:41</td>\n",
              "      <td>822277959176306688</td>\n",
              "      <td>همراه اول هم همینه</td>\n",
              "      <td>False</td>\n",
              "      <td>False</td>\n",
              "      <td>True</td>\n",
              "      <td>{'hamrah_aval'}</td>\n",
              "      <td>1</td>\n",
              "    </tr>\n",
              "    <tr>\n",
              "      <th>4</th>\n",
              "      <td>2022-07-19 19:00:44</td>\n",
              "      <td>1111363641545236480</td>\n",
              "      <td>بسته‌ی سه گیگ ماهانه‌ی اینترنت همراه اول می‌خر...</td>\n",
              "      <td>False</td>\n",
              "      <td>False</td>\n",
              "      <td>False</td>\n",
              "      <td>{'hamrah_aval'}</td>\n",
              "      <td>-1</td>\n",
              "    </tr>\n",
              "    <tr>\n",
              "      <th>...</th>\n",
              "      <td>...</td>\n",
              "      <td>...</td>\n",
              "      <td>...</td>\n",
              "      <td>...</td>\n",
              "      <td>...</td>\n",
              "      <td>...</td>\n",
              "      <td>...</td>\n",
              "      <td>...</td>\n",
              "    </tr>\n",
              "    <tr>\n",
              "      <th>2261</th>\n",
              "      <td>2022-07-10 07:35:43</td>\n",
              "      <td>1474119738490040324</td>\n",
              "      <td>این چه سمی بود! من خیلی بچه بودم زنها تازه تاز...</td>\n",
              "      <td>False</td>\n",
              "      <td>False</td>\n",
              "      <td>True</td>\n",
              "      <td>{'rightel'}</td>\n",
              "      <td>-1</td>\n",
              "    </tr>\n",
              "    <tr>\n",
              "      <th>2262</th>\n",
              "      <td>2022-07-09 20:08:21</td>\n",
              "      <td>1355434208022421504</td>\n",
              "      <td>کل روز اینترنت قطع بود حتی ملت ۹۱۱ هم نمی‌تونس...</td>\n",
              "      <td>True</td>\n",
              "      <td>False</td>\n",
              "      <td>False</td>\n",
              "      <td>{'rightel'}</td>\n",
              "      <td>-1</td>\n",
              "    </tr>\n",
              "    <tr>\n",
              "      <th>2263</th>\n",
              "      <td>2022-07-09 19:29:11</td>\n",
              "      <td>967671943750184960</td>\n",
              "      <td>آره باید تو خود رایتل هم شارژش کنی تا وصل شه.</td>\n",
              "      <td>False</td>\n",
              "      <td>False</td>\n",
              "      <td>True</td>\n",
              "      <td>{'rightel'}</td>\n",
              "      <td>0</td>\n",
              "    </tr>\n",
              "    <tr>\n",
              "      <th>2264</th>\n",
              "      <td>2022-07-09 17:41:06</td>\n",
              "      <td>1280293767581499394</td>\n",
              "      <td>رایتل</td>\n",
              "      <td>False</td>\n",
              "      <td>False</td>\n",
              "      <td>True</td>\n",
              "      <td>{'rightel'}</td>\n",
              "      <td>1</td>\n",
              "    </tr>\n",
              "    <tr>\n",
              "      <th>2265</th>\n",
              "      <td>2022-07-09 17:30:08</td>\n",
              "      <td>989783064988483584</td>\n",
              "      <td>محمدرضا رایتل</td>\n",
              "      <td>False</td>\n",
              "      <td>False</td>\n",
              "      <td>True</td>\n",
              "      <td>{'rightel'}</td>\n",
              "      <td>0</td>\n",
              "    </tr>\n",
              "  </tbody>\n",
              "</table>\n",
              "<p>2266 rows × 8 columns</p>\n",
              "</div>\n",
              "      <button class=\"colab-df-convert\" onclick=\"convertToInteractive('df-804d2ada-fd2e-4b3b-a048-3c51b0eccf2d')\"\n",
              "              title=\"Convert this dataframe to an interactive table.\"\n",
              "              style=\"display:none;\">\n",
              "        \n",
              "  <svg xmlns=\"http://www.w3.org/2000/svg\" height=\"24px\"viewBox=\"0 0 24 24\"\n",
              "       width=\"24px\">\n",
              "    <path d=\"M0 0h24v24H0V0z\" fill=\"none\"/>\n",
              "    <path d=\"M18.56 5.44l.94 2.06.94-2.06 2.06-.94-2.06-.94-.94-2.06-.94 2.06-2.06.94zm-11 1L8.5 8.5l.94-2.06 2.06-.94-2.06-.94L8.5 2.5l-.94 2.06-2.06.94zm10 10l.94 2.06.94-2.06 2.06-.94-2.06-.94-.94-2.06-.94 2.06-2.06.94z\"/><path d=\"M17.41 7.96l-1.37-1.37c-.4-.4-.92-.59-1.43-.59-.52 0-1.04.2-1.43.59L10.3 9.45l-7.72 7.72c-.78.78-.78 2.05 0 2.83L4 21.41c.39.39.9.59 1.41.59.51 0 1.02-.2 1.41-.59l7.78-7.78 2.81-2.81c.8-.78.8-2.07 0-2.86zM5.41 20L4 18.59l7.72-7.72 1.47 1.35L5.41 20z\"/>\n",
              "  </svg>\n",
              "      </button>\n",
              "      \n",
              "  <style>\n",
              "    .colab-df-container {\n",
              "      display:flex;\n",
              "      flex-wrap:wrap;\n",
              "      gap: 12px;\n",
              "    }\n",
              "\n",
              "    .colab-df-convert {\n",
              "      background-color: #E8F0FE;\n",
              "      border: none;\n",
              "      border-radius: 50%;\n",
              "      cursor: pointer;\n",
              "      display: none;\n",
              "      fill: #1967D2;\n",
              "      height: 32px;\n",
              "      padding: 0 0 0 0;\n",
              "      width: 32px;\n",
              "    }\n",
              "\n",
              "    .colab-df-convert:hover {\n",
              "      background-color: #E2EBFA;\n",
              "      box-shadow: 0px 1px 2px rgba(60, 64, 67, 0.3), 0px 1px 3px 1px rgba(60, 64, 67, 0.15);\n",
              "      fill: #174EA6;\n",
              "    }\n",
              "\n",
              "    [theme=dark] .colab-df-convert {\n",
              "      background-color: #3B4455;\n",
              "      fill: #D2E3FC;\n",
              "    }\n",
              "\n",
              "    [theme=dark] .colab-df-convert:hover {\n",
              "      background-color: #434B5C;\n",
              "      box-shadow: 0px 1px 3px 1px rgba(0, 0, 0, 0.15);\n",
              "      filter: drop-shadow(0px 1px 2px rgba(0, 0, 0, 0.3));\n",
              "      fill: #FFFFFF;\n",
              "    }\n",
              "  </style>\n",
              "\n",
              "      <script>\n",
              "        const buttonEl =\n",
              "          document.querySelector('#df-804d2ada-fd2e-4b3b-a048-3c51b0eccf2d button.colab-df-convert');\n",
              "        buttonEl.style.display =\n",
              "          google.colab.kernel.accessAllowed ? 'block' : 'none';\n",
              "\n",
              "        async function convertToInteractive(key) {\n",
              "          const element = document.querySelector('#df-804d2ada-fd2e-4b3b-a048-3c51b0eccf2d');\n",
              "          const dataTable =\n",
              "            await google.colab.kernel.invokeFunction('convertToInteractive',\n",
              "                                                     [key], {});\n",
              "          if (!dataTable) return;\n",
              "\n",
              "          const docLinkHtml = 'Like what you see? Visit the ' +\n",
              "            '<a target=\"_blank\" href=https://colab.research.google.com/notebooks/data_table.ipynb>data table notebook</a>'\n",
              "            + ' to learn more about interactive tables.';\n",
              "          element.innerHTML = '';\n",
              "          dataTable['output_type'] = 'display_data';\n",
              "          await google.colab.output.renderOutput(dataTable, element);\n",
              "          const docLink = document.createElement('div');\n",
              "          docLink.innerHTML = docLinkHtml;\n",
              "          element.appendChild(docLink);\n",
              "        }\n",
              "      </script>\n",
              "    </div>\n",
              "  </div>\n",
              "  "
            ]
          },
          "metadata": {},
          "execution_count": 36
        }
      ]
    },
    {
      "cell_type": "code",
      "source": [
        "hir.to_csv(\"data/sentiHir.csv\", index=None)"
      ],
      "metadata": {
        "id": "dSgOV5Se-nw7"
      },
      "execution_count": null,
      "outputs": []
    },
    {
      "cell_type": "code",
      "source": [
        "shutil.copy(\"data/sentiHir.csv\", \"/content/gdrive/MyDrive/crawler/csv_files_20220719/sentiHir.csv\")"
      ],
      "metadata": {
        "colab": {
          "base_uri": "https://localhost:8080/",
          "height": 35
        },
        "id": "lp1wHStX9KTN",
        "outputId": "2ad5f7ed-a14f-49b7-e743-183edf89ef52"
      },
      "execution_count": null,
      "outputs": [
        {
          "output_type": "execute_result",
          "data": {
            "text/plain": [
              "'/content/gdrive/MyDrive/crawler/csv_files_20220719/sentiHir.csv'"
            ],
            "application/vnd.google.colaboratory.intrinsic+json": {
              "type": "string"
            }
          },
          "metadata": {},
          "execution_count": 38
        }
      ]
    },
    {
      "cell_type": "markdown",
      "source": [
        "## Fake detector models"
      ],
      "metadata": {
        "id": "_zHlII_w_VhL"
      }
    },
    {
      "cell_type": "markdown",
      "source": [
        "### Load sentiHir.csv"
      ],
      "metadata": {
        "id": "FZUf_rIQwAuI"
      }
    },
    {
      "cell_type": "code",
      "source": [
        "!gdown https://drive.google.com/u/0/uc?id=1-0ruqjg5XgLeholNVW1UDGN4wCGZLvMB&export=download\n",
        "\n",
        "!mv \"sentiHir.csv\" \"data/sentiHir.csv\""
      ],
      "metadata": {
        "id": "gx2Q852cwAuJ"
      },
      "execution_count": null,
      "outputs": []
    },
    {
      "cell_type": "code",
      "source": [
        "sentiHir = pd.read_csv(\"data/sentiHir.csv\", encoding=\"utf-8\")"
      ],
      "metadata": {
        "id": "EJgobqJSmqqf"
      },
      "execution_count": null,
      "outputs": []
    },
    {
      "cell_type": "markdown",
      "source": [
        "### fake-revie-dataset by Joni Salminen [CG, OR] Model"
      ],
      "metadata": {
        "id": "8-5XdXUotPDf"
      }
    },
    {
      "cell_type": "code",
      "source": [
        "# general config\n",
        "MAX_LEN = 128\n",
        "TRAIN_BATCH_SIZE = 16\n",
        "VALID_BATCH_SIZE = 16\n",
        "TEST_BATCH_SIZE = 16\n",
        "\n",
        "EPOCHS = 10\n",
        "EEVERY_EPOCH = 1000\n",
        "LEARNING_RATE = 2e-5\n",
        "CLIP = 0.0\n",
        "\n",
        "MODEL_NAME_OR_PATH = 'HooshvareLab/bert-fa-base-uncased'\n",
        "OUTPUT_PATH = '/content/bert-fa-base-uncased-cg-or-fake-review-detection/pytorch_model.bin'\n",
        "\n",
        "os.makedirs(os.path.dirname(OUTPUT_PATH), exist_ok=True)"
      ],
      "metadata": {
        "id": "25oi_CcStnKu"
      },
      "execution_count": null,
      "outputs": []
    },
    {
      "cell_type": "code",
      "source": [
        "labels = [\"CG\", \"OR\"]"
      ],
      "metadata": {
        "id": "BRwOomHv_uve"
      },
      "execution_count": null,
      "outputs": []
    },
    {
      "cell_type": "code",
      "source": [
        "# create a key finder based on label 2 id and id to label\n",
        "\n",
        "label2id = {label: i for i, label in enumerate(labels)}\n",
        "id2label = {v: k for k, v in label2id.items()}\n",
        "\n",
        "print(f'label2id: {label2id}')\n",
        "print(f'id2label: {id2label}')"
      ],
      "metadata": {
        "colab": {
          "base_uri": "https://localhost:8080/"
        },
        "outputId": "5389db38-5aff-43c3-e2f3-a09cf7e957a7",
        "id": "yPROqxg0_uvm"
      },
      "execution_count": null,
      "outputs": [
        {
          "output_type": "stream",
          "name": "stdout",
          "text": [
            "label2id: {'CG': 0, 'OR': 1}\n",
            "id2label: {0: 'CG', 1: 'OR'}\n"
          ]
        }
      ]
    },
    {
      "cell_type": "code",
      "source": [
        "# setup the tokenizer and configuration\n",
        "\n",
        "tokenizer = BertTokenizer.from_pretrained(MODEL_NAME_OR_PATH)\n",
        "config = BertConfig.from_pretrained(\n",
        "    MODEL_NAME_OR_PATH, **{\n",
        "        'label2id': label2id,\n",
        "        'id2label': id2label,\n",
        "    })\n",
        "\n",
        "print(config.to_json_string())"
      ],
      "metadata": {
        "colab": {
          "base_uri": "https://localhost:8080/"
        },
        "outputId": "94cdf0d4-7144-4565-e3a3-38c784a5759a",
        "id": "WaXQ5ziN_uvn"
      },
      "execution_count": null,
      "outputs": [
        {
          "output_type": "stream",
          "name": "stdout",
          "text": [
            "{\n",
            "  \"architectures\": [\n",
            "    \"BertForMaskedLM\"\n",
            "  ],\n",
            "  \"attention_probs_dropout_prob\": 0.1,\n",
            "  \"classifier_dropout\": null,\n",
            "  \"hidden_act\": \"gelu\",\n",
            "  \"hidden_dropout_prob\": 0.1,\n",
            "  \"hidden_size\": 768,\n",
            "  \"id2label\": {\n",
            "    \"0\": \"CG\",\n",
            "    \"1\": \"OR\"\n",
            "  },\n",
            "  \"initializer_range\": 0.02,\n",
            "  \"intermediate_size\": 3072,\n",
            "  \"label2id\": {\n",
            "    \"CG\": 0,\n",
            "    \"OR\": 1\n",
            "  },\n",
            "  \"layer_norm_eps\": 1e-12,\n",
            "  \"max_position_embeddings\": 512,\n",
            "  \"model_type\": \"bert\",\n",
            "  \"num_attention_heads\": 12,\n",
            "  \"num_hidden_layers\": 12,\n",
            "  \"pad_token_id\": 0,\n",
            "  \"position_embedding_type\": \"absolute\",\n",
            "  \"transformers_version\": \"4.22.1\",\n",
            "  \"type_vocab_size\": 2,\n",
            "  \"use_cache\": true,\n",
            "  \"vocab_size\": 100000\n",
            "}\n",
            "\n"
          ]
        }
      ]
    },
    {
      "cell_type": "markdown",
      "source": [
        "#### Load Model for Prediction"
      ],
      "metadata": {
        "id": "GJ_H402pwaVo"
      }
    },
    {
      "cell_type": "code",
      "source": [
        "from google.colab import drive\n",
        "drive.mount('/content/gdrive')"
      ],
      "metadata": {
        "colab": {
          "base_uri": "https://localhost:8080/"
        },
        "outputId": "dd2529e4-da01-4074-d491-3ef3e2aee61b",
        "id": "4Ocn1dcgwcgF"
      },
      "execution_count": null,
      "outputs": [
        {
          "output_type": "stream",
          "name": "stdout",
          "text": [
            "Mounted at /content/gdrive\n"
          ]
        }
      ]
    },
    {
      "cell_type": "code",
      "source": [
        "!ls /content/gdrive/MyDrive/finetuned_parsbert_fake_reveiws_dataset/"
      ],
      "metadata": {
        "colab": {
          "base_uri": "https://localhost:8080/"
        },
        "outputId": "c33d7336-2ac3-42cd-9d51-aeba937cbc7d",
        "id": "phRdom0HwcgF"
      },
      "execution_count": null,
      "outputs": [
        {
          "output_type": "stream",
          "name": "stdout",
          "text": [
            "finetuned_parsbert_fake_reveiws_dataset.pt  test.csv  train.csv  valid.csv\n"
          ]
        }
      ]
    },
    {
      "cell_type": "code",
      "source": [
        "model = Model(config=config)\n",
        "model = model.to(device)\n",
        "\n",
        "print('model', type(model))"
      ],
      "metadata": {
        "colab": {
          "base_uri": "https://localhost:8080/"
        },
        "outputId": "54f342f8-266a-468d-84b6-a0fcb94f4969",
        "id": "IgitD7oEwcgG"
      },
      "execution_count": null,
      "outputs": [
        {
          "output_type": "stream",
          "name": "stderr",
          "text": [
            "Some weights of the model checkpoint at HooshvareLab/bert-fa-base-uncased were not used when initializing BertModel: ['cls.predictions.decoder.bias', 'cls.seq_relationship.bias', 'cls.predictions.decoder.weight', 'cls.seq_relationship.weight', 'cls.predictions.transform.dense.bias', 'cls.predictions.transform.LayerNorm.weight', 'cls.predictions.bias', 'cls.predictions.transform.LayerNorm.bias', 'cls.predictions.transform.dense.weight']\n",
            "- This IS expected if you are initializing BertModel from the checkpoint of a model trained on another task or with another architecture (e.g. initializing a BertForSequenceClassification model from a BertForPreTraining model).\n",
            "- This IS NOT expected if you are initializing BertModel from the checkpoint of a model that you expect to be exactly identical (initializing a BertForSequenceClassification model from a BertForSequenceClassification model).\n"
          ]
        },
        {
          "output_type": "stream",
          "name": "stdout",
          "text": [
            "model <class '__main__.Model'>\n"
          ]
        }
      ]
    },
    {
      "cell_type": "code",
      "source": [
        "path = F\"/content/gdrive/MyDrive/finetuned_parsbert_fake_reveiws_dataset/finetuned_parsbert_fake_reveiws_dataset.pt\" \n",
        "model.load_state_dict(torch.load(path))"
      ],
      "metadata": {
        "colab": {
          "base_uri": "https://localhost:8080/"
        },
        "outputId": "c7918215-d1a0-4b54-c57e-58be8e13f05c",
        "id": "JWOQ9nkwm4hU"
      },
      "execution_count": null,
      "outputs": [
        {
          "output_type": "execute_result",
          "data": {
            "text/plain": [
              "<All keys matched successfully>"
            ]
          },
          "metadata": {},
          "execution_count": 46
        }
      ]
    },
    {
      "cell_type": "markdown",
      "source": [
        "Custom input test"
      ],
      "metadata": {
        "id": "e_HJOVS_AOjU"
      }
    },
    {
      "cell_type": "code",
      "source": [
        "xtmp_test = ['خوب نبود']\n",
        "test_comments = np.array(xtmp_test)\n",
        "preds, probs = predict(model, test_comments, tokenizer, max_len=128)\n",
        "\n",
        "labels[preds[0]]"
      ],
      "metadata": {
        "colab": {
          "base_uri": "https://localhost:8080/",
          "height": 67,
          "referenced_widgets": [
            "8522276cc733400a8d8beaada1ecc2e9",
            "72b0f4faf21f43938d919a4c15e23d2b",
            "9950fcd541044305ade1b575c6aac47d",
            "ae24cf609fff429da0ad0dada344ccb0",
            "21ca44d6bb60414498e440d13b3f1e17",
            "6798c3e0af7044cf82e936d58fdaf52b",
            "660fff1d72fe4e14b1e8f1a8fc73ea7e",
            "4f3da9b067554080b816da277e8e1f03",
            "98362e79c95a416ba68835a5562c7ad0",
            "75e0ea373c524932adae81c511b93fd6",
            "93b65cb1ef1b4418ae5182aeadfae60d"
          ]
        },
        "outputId": "e96a302b-d3b7-4fc4-f938-497fdc7a348e",
        "id": "1B1oWAfdwcgG"
      },
      "execution_count": null,
      "outputs": [
        {
          "output_type": "display_data",
          "data": {
            "text/plain": [
              "  0%|          | 0/1 [00:00<?, ?it/s]"
            ],
            "application/vnd.jupyter.widget-view+json": {
              "version_major": 2,
              "version_minor": 0,
              "model_id": "8522276cc733400a8d8beaada1ecc2e9"
            }
          },
          "metadata": {}
        },
        {
          "output_type": "execute_result",
          "data": {
            "text/plain": [
              "'OR'"
            ],
            "application/vnd.google.colaboratory.intrinsic+json": {
              "type": "string"
            }
          },
          "metadata": {},
          "execution_count": 47
        }
      ]
    },
    {
      "cell_type": "markdown",
      "source": [
        "using on dataset"
      ],
      "metadata": {
        "id": "HAt1dwslAPXm"
      }
    },
    {
      "cell_type": "code",
      "source": [
        "xtmp_test = list(sentiHir[\"text\"])\n",
        "test_comments = np.array(xtmp_test)\n",
        "preds, probs = predict(model, test_comments, tokenizer, max_len=128)"
      ],
      "metadata": {
        "colab": {
          "base_uri": "https://localhost:8080/",
          "height": 49,
          "referenced_widgets": [
            "272d842cc9a14d6baf9d282b0a2a1e04",
            "17d5db8d21fb4a4983781ebbe7c3fb60",
            "d85fefcbdfeb4ad5bdbe4bac89b9c909",
            "ee6c2f1494884e509df8ae0ca9f3edaa",
            "617c92c824e14f479bcaf86282b3967b",
            "dd8917acf48a42489c02bd70e25b8181",
            "6ecdb21c581d462f824c87f1d4fbd9d4",
            "26f2b55cb1a94f4e802960df7276b42b",
            "92e3e36b326747ed9707f7be955c40f3",
            "e1c9c6c8209e4772a0122bbf58e6106f",
            "51d8aed1c6ff4ec8a833b340ad5f3347"
          ]
        },
        "outputId": "584b9841-477e-4db7-8817-a066d05c0ffa",
        "id": "aoa0C0M-wcgG"
      },
      "execution_count": null,
      "outputs": [
        {
          "output_type": "display_data",
          "data": {
            "text/plain": [
              "  0%|          | 0/71 [00:00<?, ?it/s]"
            ],
            "application/vnd.jupyter.widget-view+json": {
              "version_major": 2,
              "version_minor": 0,
              "model_id": "272d842cc9a14d6baf9d282b0a2a1e04"
            }
          },
          "metadata": {}
        }
      ]
    },
    {
      "cell_type": "markdown",
      "source": [
        "#### Save processed dataset to drive"
      ],
      "metadata": {
        "id": "_FUKFzrPAS5O"
      }
    },
    {
      "cell_type": "code",
      "source": [
        "sentiHir[\"is_real\"] = preds\n",
        "sentiHir"
      ],
      "metadata": {
        "colab": {
          "base_uri": "https://localhost:8080/",
          "height": 424
        },
        "outputId": "45bde23d-354c-4c85-c9a3-55f70b05c17c",
        "id": "6ZjzpNjAwcgG"
      },
      "execution_count": null,
      "outputs": [
        {
          "output_type": "execute_result",
          "data": {
            "text/plain": [
              "             created_time              user_id  \\\n",
              "0     2022-07-19 19:18:27  1355911468902981639   \n",
              "1     2022-07-19 19:13:32            614986877   \n",
              "2     2022-07-19 19:09:10   941220112845164544   \n",
              "3     2022-07-19 19:05:41   822277959176306688   \n",
              "4     2022-07-19 19:00:44  1111363641545236480   \n",
              "...                   ...                  ...   \n",
              "2261  2022-07-10 07:35:43  1474119738490040324   \n",
              "2262  2022-07-09 20:08:21  1355434208022421504   \n",
              "2263  2022-07-09 19:29:11   967671943750184960   \n",
              "2264  2022-07-09 17:41:06  1280293767581499394   \n",
              "2265  2022-07-09 17:30:08   989783064988483584   \n",
              "\n",
              "                                                   text  is_retweet  is_quote  \\\n",
              "0                        هیچ کس تنها نیست … … همراه اول       False     False   \n",
              "1                   بلی، ایرانسل از همراه اول بدتره حتی       False     False   \n",
              "2     بسته سه ماهه همراه اول رو دو دوره یعنی شش ماه ...       False     False   \n",
              "3                                    همراه اول هم همینه       False     False   \n",
              "4     بسته‌ی سه گیگ ماهانه‌ی اینترنت همراه اول می‌خر...       False     False   \n",
              "...                                                 ...         ...       ...   \n",
              "2261  این چه سمی بود! من خیلی بچه بودم زنها تازه تاز...       False     False   \n",
              "2262  کل روز اینترنت قطع بود حتی ملت ۹۱۱ هم نمی‌تونس...        True     False   \n",
              "2263      آره باید تو خود رایتل هم شارژش کنی تا وصل شه.       False     False   \n",
              "2264                                              رایتل       False     False   \n",
              "2265                                      محمدرضا رایتل       False     False   \n",
              "\n",
              "      is_reply                         tags  sentiment_scores  is_real  \n",
              "0         True              {'hamrah_aval'}                 1        1  \n",
              "1         True  {'hamrah_aval', 'irancell'}                -1        1  \n",
              "2         True              {'hamrah_aval'}                 0        1  \n",
              "3         True              {'hamrah_aval'}                 1        1  \n",
              "4        False              {'hamrah_aval'}                -1        1  \n",
              "...        ...                          ...               ...      ...  \n",
              "2261      True                  {'rightel'}                -1        1  \n",
              "2262     False                  {'rightel'}                -1        1  \n",
              "2263      True                  {'rightel'}                 0        1  \n",
              "2264      True                  {'rightel'}                 1        1  \n",
              "2265      True                  {'rightel'}                 0        1  \n",
              "\n",
              "[2266 rows x 9 columns]"
            ],
            "text/html": [
              "\n",
              "  <div id=\"df-16f1d9c2-79d6-4b6b-83f7-2e4e8241fb7a\">\n",
              "    <div class=\"colab-df-container\">\n",
              "      <div>\n",
              "<style scoped>\n",
              "    .dataframe tbody tr th:only-of-type {\n",
              "        vertical-align: middle;\n",
              "    }\n",
              "\n",
              "    .dataframe tbody tr th {\n",
              "        vertical-align: top;\n",
              "    }\n",
              "\n",
              "    .dataframe thead th {\n",
              "        text-align: right;\n",
              "    }\n",
              "</style>\n",
              "<table border=\"1\" class=\"dataframe\">\n",
              "  <thead>\n",
              "    <tr style=\"text-align: right;\">\n",
              "      <th></th>\n",
              "      <th>created_time</th>\n",
              "      <th>user_id</th>\n",
              "      <th>text</th>\n",
              "      <th>is_retweet</th>\n",
              "      <th>is_quote</th>\n",
              "      <th>is_reply</th>\n",
              "      <th>tags</th>\n",
              "      <th>sentiment_scores</th>\n",
              "      <th>is_real</th>\n",
              "    </tr>\n",
              "  </thead>\n",
              "  <tbody>\n",
              "    <tr>\n",
              "      <th>0</th>\n",
              "      <td>2022-07-19 19:18:27</td>\n",
              "      <td>1355911468902981639</td>\n",
              "      <td>هیچ کس تنها نیست … … همراه اول</td>\n",
              "      <td>False</td>\n",
              "      <td>False</td>\n",
              "      <td>True</td>\n",
              "      <td>{'hamrah_aval'}</td>\n",
              "      <td>1</td>\n",
              "      <td>1</td>\n",
              "    </tr>\n",
              "    <tr>\n",
              "      <th>1</th>\n",
              "      <td>2022-07-19 19:13:32</td>\n",
              "      <td>614986877</td>\n",
              "      <td>بلی، ایرانسل از همراه اول بدتره حتی</td>\n",
              "      <td>False</td>\n",
              "      <td>False</td>\n",
              "      <td>True</td>\n",
              "      <td>{'hamrah_aval', 'irancell'}</td>\n",
              "      <td>-1</td>\n",
              "      <td>1</td>\n",
              "    </tr>\n",
              "    <tr>\n",
              "      <th>2</th>\n",
              "      <td>2022-07-19 19:09:10</td>\n",
              "      <td>941220112845164544</td>\n",
              "      <td>بسته سه ماهه همراه اول رو دو دوره یعنی شش ماه ...</td>\n",
              "      <td>False</td>\n",
              "      <td>False</td>\n",
              "      <td>True</td>\n",
              "      <td>{'hamrah_aval'}</td>\n",
              "      <td>0</td>\n",
              "      <td>1</td>\n",
              "    </tr>\n",
              "    <tr>\n",
              "      <th>3</th>\n",
              "      <td>2022-07-19 19:05:41</td>\n",
              "      <td>822277959176306688</td>\n",
              "      <td>همراه اول هم همینه</td>\n",
              "      <td>False</td>\n",
              "      <td>False</td>\n",
              "      <td>True</td>\n",
              "      <td>{'hamrah_aval'}</td>\n",
              "      <td>1</td>\n",
              "      <td>1</td>\n",
              "    </tr>\n",
              "    <tr>\n",
              "      <th>4</th>\n",
              "      <td>2022-07-19 19:00:44</td>\n",
              "      <td>1111363641545236480</td>\n",
              "      <td>بسته‌ی سه گیگ ماهانه‌ی اینترنت همراه اول می‌خر...</td>\n",
              "      <td>False</td>\n",
              "      <td>False</td>\n",
              "      <td>False</td>\n",
              "      <td>{'hamrah_aval'}</td>\n",
              "      <td>-1</td>\n",
              "      <td>1</td>\n",
              "    </tr>\n",
              "    <tr>\n",
              "      <th>...</th>\n",
              "      <td>...</td>\n",
              "      <td>...</td>\n",
              "      <td>...</td>\n",
              "      <td>...</td>\n",
              "      <td>...</td>\n",
              "      <td>...</td>\n",
              "      <td>...</td>\n",
              "      <td>...</td>\n",
              "      <td>...</td>\n",
              "    </tr>\n",
              "    <tr>\n",
              "      <th>2261</th>\n",
              "      <td>2022-07-10 07:35:43</td>\n",
              "      <td>1474119738490040324</td>\n",
              "      <td>این چه سمی بود! من خیلی بچه بودم زنها تازه تاز...</td>\n",
              "      <td>False</td>\n",
              "      <td>False</td>\n",
              "      <td>True</td>\n",
              "      <td>{'rightel'}</td>\n",
              "      <td>-1</td>\n",
              "      <td>1</td>\n",
              "    </tr>\n",
              "    <tr>\n",
              "      <th>2262</th>\n",
              "      <td>2022-07-09 20:08:21</td>\n",
              "      <td>1355434208022421504</td>\n",
              "      <td>کل روز اینترنت قطع بود حتی ملت ۹۱۱ هم نمی‌تونس...</td>\n",
              "      <td>True</td>\n",
              "      <td>False</td>\n",
              "      <td>False</td>\n",
              "      <td>{'rightel'}</td>\n",
              "      <td>-1</td>\n",
              "      <td>1</td>\n",
              "    </tr>\n",
              "    <tr>\n",
              "      <th>2263</th>\n",
              "      <td>2022-07-09 19:29:11</td>\n",
              "      <td>967671943750184960</td>\n",
              "      <td>آره باید تو خود رایتل هم شارژش کنی تا وصل شه.</td>\n",
              "      <td>False</td>\n",
              "      <td>False</td>\n",
              "      <td>True</td>\n",
              "      <td>{'rightel'}</td>\n",
              "      <td>0</td>\n",
              "      <td>1</td>\n",
              "    </tr>\n",
              "    <tr>\n",
              "      <th>2264</th>\n",
              "      <td>2022-07-09 17:41:06</td>\n",
              "      <td>1280293767581499394</td>\n",
              "      <td>رایتل</td>\n",
              "      <td>False</td>\n",
              "      <td>False</td>\n",
              "      <td>True</td>\n",
              "      <td>{'rightel'}</td>\n",
              "      <td>1</td>\n",
              "      <td>1</td>\n",
              "    </tr>\n",
              "    <tr>\n",
              "      <th>2265</th>\n",
              "      <td>2022-07-09 17:30:08</td>\n",
              "      <td>989783064988483584</td>\n",
              "      <td>محمدرضا رایتل</td>\n",
              "      <td>False</td>\n",
              "      <td>False</td>\n",
              "      <td>True</td>\n",
              "      <td>{'rightel'}</td>\n",
              "      <td>0</td>\n",
              "      <td>1</td>\n",
              "    </tr>\n",
              "  </tbody>\n",
              "</table>\n",
              "<p>2266 rows × 9 columns</p>\n",
              "</div>\n",
              "      <button class=\"colab-df-convert\" onclick=\"convertToInteractive('df-16f1d9c2-79d6-4b6b-83f7-2e4e8241fb7a')\"\n",
              "              title=\"Convert this dataframe to an interactive table.\"\n",
              "              style=\"display:none;\">\n",
              "        \n",
              "  <svg xmlns=\"http://www.w3.org/2000/svg\" height=\"24px\"viewBox=\"0 0 24 24\"\n",
              "       width=\"24px\">\n",
              "    <path d=\"M0 0h24v24H0V0z\" fill=\"none\"/>\n",
              "    <path d=\"M18.56 5.44l.94 2.06.94-2.06 2.06-.94-2.06-.94-.94-2.06-.94 2.06-2.06.94zm-11 1L8.5 8.5l.94-2.06 2.06-.94-2.06-.94L8.5 2.5l-.94 2.06-2.06.94zm10 10l.94 2.06.94-2.06 2.06-.94-2.06-.94-.94-2.06-.94 2.06-2.06.94z\"/><path d=\"M17.41 7.96l-1.37-1.37c-.4-.4-.92-.59-1.43-.59-.52 0-1.04.2-1.43.59L10.3 9.45l-7.72 7.72c-.78.78-.78 2.05 0 2.83L4 21.41c.39.39.9.59 1.41.59.51 0 1.02-.2 1.41-.59l7.78-7.78 2.81-2.81c.8-.78.8-2.07 0-2.86zM5.41 20L4 18.59l7.72-7.72 1.47 1.35L5.41 20z\"/>\n",
              "  </svg>\n",
              "      </button>\n",
              "      \n",
              "  <style>\n",
              "    .colab-df-container {\n",
              "      display:flex;\n",
              "      flex-wrap:wrap;\n",
              "      gap: 12px;\n",
              "    }\n",
              "\n",
              "    .colab-df-convert {\n",
              "      background-color: #E8F0FE;\n",
              "      border: none;\n",
              "      border-radius: 50%;\n",
              "      cursor: pointer;\n",
              "      display: none;\n",
              "      fill: #1967D2;\n",
              "      height: 32px;\n",
              "      padding: 0 0 0 0;\n",
              "      width: 32px;\n",
              "    }\n",
              "\n",
              "    .colab-df-convert:hover {\n",
              "      background-color: #E2EBFA;\n",
              "      box-shadow: 0px 1px 2px rgba(60, 64, 67, 0.3), 0px 1px 3px 1px rgba(60, 64, 67, 0.15);\n",
              "      fill: #174EA6;\n",
              "    }\n",
              "\n",
              "    [theme=dark] .colab-df-convert {\n",
              "      background-color: #3B4455;\n",
              "      fill: #D2E3FC;\n",
              "    }\n",
              "\n",
              "    [theme=dark] .colab-df-convert:hover {\n",
              "      background-color: #434B5C;\n",
              "      box-shadow: 0px 1px 3px 1px rgba(0, 0, 0, 0.15);\n",
              "      filter: drop-shadow(0px 1px 2px rgba(0, 0, 0, 0.3));\n",
              "      fill: #FFFFFF;\n",
              "    }\n",
              "  </style>\n",
              "\n",
              "      <script>\n",
              "        const buttonEl =\n",
              "          document.querySelector('#df-16f1d9c2-79d6-4b6b-83f7-2e4e8241fb7a button.colab-df-convert');\n",
              "        buttonEl.style.display =\n",
              "          google.colab.kernel.accessAllowed ? 'block' : 'none';\n",
              "\n",
              "        async function convertToInteractive(key) {\n",
              "          const element = document.querySelector('#df-16f1d9c2-79d6-4b6b-83f7-2e4e8241fb7a');\n",
              "          const dataTable =\n",
              "            await google.colab.kernel.invokeFunction('convertToInteractive',\n",
              "                                                     [key], {});\n",
              "          if (!dataTable) return;\n",
              "\n",
              "          const docLinkHtml = 'Like what you see? Visit the ' +\n",
              "            '<a target=\"_blank\" href=https://colab.research.google.com/notebooks/data_table.ipynb>data table notebook</a>'\n",
              "            + ' to learn more about interactive tables.';\n",
              "          element.innerHTML = '';\n",
              "          dataTable['output_type'] = 'display_data';\n",
              "          await google.colab.output.renderOutput(dataTable, element);\n",
              "          const docLink = document.createElement('div');\n",
              "          docLink.innerHTML = docLinkHtml;\n",
              "          element.appendChild(docLink);\n",
              "        }\n",
              "      </script>\n",
              "    </div>\n",
              "  </div>\n",
              "  "
            ]
          },
          "metadata": {},
          "execution_count": 49
        }
      ]
    },
    {
      "cell_type": "code",
      "source": [
        "sentiHir.to_csv(\"data/fake_sentiHir.csv\", index=None)"
      ],
      "metadata": {
        "id": "p02VJk0N4U9g"
      },
      "execution_count": null,
      "outputs": []
    },
    {
      "cell_type": "code",
      "source": [
        "shutil.copy(\"data/fake_sentiHir.csv\", \"/content/gdrive/MyDrive/crawler/csv_files_20220719/fake_sentiHir.csv\")"
      ],
      "metadata": {
        "colab": {
          "base_uri": "https://localhost:8080/",
          "height": 35
        },
        "outputId": "59de907c-f551-43a0-e7b6-adcbb74e4bd1",
        "id": "EGaH08nm4U9g"
      },
      "execution_count": null,
      "outputs": [
        {
          "output_type": "execute_result",
          "data": {
            "text/plain": [
              "'/content/gdrive/MyDrive/crawler/csv_files_20220719/fake_sentiHir.csv'"
            ],
            "application/vnd.google.colaboratory.intrinsic+json": {
              "type": "string"
            }
          },
          "metadata": {},
          "execution_count": 51
        }
      ]
    },
    {
      "cell_type": "markdown",
      "source": [
        "### Digikala [verified, rejected] Model"
      ],
      "metadata": {
        "id": "b4IQ_xVstTdJ"
      }
    },
    {
      "cell_type": "code",
      "source": [
        "# general config\n",
        "MAX_LEN = 512\n",
        "TRAIN_BATCH_SIZE = 16\n",
        "VALID_BATCH_SIZE = 16\n",
        "TEST_BATCH_SIZE = 16\n",
        "\n",
        "EPOCHS = 10\n",
        "EEVERY_EPOCH = 1000\n",
        "LEARNING_RATE = 2e-5\n",
        "CLIP = 0.0\n",
        "\n",
        "MODEL_NAME_OR_PATH = 'HooshvareLab/bert-fa-zwnj-base'\n",
        "OUTPUT_PATH = '/content/bert-fa-zwnj-base-digikala-fake-review-detection/pytorch_model.bin'\n",
        "\n",
        "os.makedirs(os.path.dirname(OUTPUT_PATH), exist_ok=True)"
      ],
      "metadata": {
        "id": "msQhetZitLvJ"
      },
      "execution_count": null,
      "outputs": []
    },
    {
      "cell_type": "code",
      "source": [
        "labels = [0, 1]"
      ],
      "metadata": {
        "id": "Zuut1OYztLvJ"
      },
      "execution_count": null,
      "outputs": []
    },
    {
      "cell_type": "code",
      "source": [
        "# create a key finder based on label 2 id and id to label\n",
        "\n",
        "label2id = {label: i for i, label in enumerate(labels)}\n",
        "id2label = {v: k for k, v in label2id.items()}\n",
        "\n",
        "print(f'label2id: {label2id}')\n",
        "print(f'id2label: {id2label}')"
      ],
      "metadata": {
        "colab": {
          "base_uri": "https://localhost:8080/"
        },
        "outputId": "8f2d714c-b091-468f-f2ea-49e24fd5dd13",
        "id": "PVGte7hxtLvK"
      },
      "execution_count": null,
      "outputs": [
        {
          "output_type": "stream",
          "name": "stdout",
          "text": [
            "label2id: {0: 0, 1: 1}\n",
            "id2label: {0: 0, 1: 1}\n"
          ]
        }
      ]
    },
    {
      "cell_type": "code",
      "source": [
        "# setup the tokenizer and configuration\n",
        "\n",
        "tokenizer = BertTokenizer.from_pretrained(MODEL_NAME_OR_PATH)\n",
        "config = BertConfig.from_pretrained(\n",
        "    MODEL_NAME_OR_PATH, **{\n",
        "        'label2id': label2id,\n",
        "        'id2label': id2label,\n",
        "    })\n",
        "\n",
        "print(config.to_json_string())"
      ],
      "metadata": {
        "colab": {
          "base_uri": "https://localhost:8080/",
          "height": 718,
          "referenced_widgets": [
            "dd13e8e0aeec4805b23593c3c500bfa1",
            "95438885d9ad4d6c972629538e6d5df8",
            "49e6e145e0d34ef8ab9b00c757a8e008",
            "46b562c8cacf4a3b9b14740d11bc2c34",
            "b0a8fecf20ca4d6eb4535eacc7d92749",
            "1f8c34e30c4f4e1090fc49bfcc766edd",
            "042e0ef9a77e45e982adbad848c6d815",
            "7e3c7e41f3cf4aa590b4bd4920f1fecc",
            "21b9a44de75544cca51c7b21f2df1d32",
            "0818f173702741f884a3a5e3bab32946",
            "4fa0aa2af9fd421eb76f6381c654ca9a",
            "822cad0e9f5146dfae7807fa11e5ced4",
            "a480bd2850ea4dc0a76f31ba2aa52d6d",
            "d5b5748478df425386177b888b70dad6",
            "0ea26913e13a462e8d9e719be43cf290",
            "ec21948f3b8c4eeca9c0b2325c6084f1",
            "dd03806e636d47f4b95d5934596a63de",
            "76715383b936479083d483a79d108db7",
            "3bf906a7344846b1ace7a125ee0884f3",
            "0cbc5c90741d43b284c4b99e6934f9d3",
            "c326db8c445e4fdda3c2e3b9f4820457",
            "446f6086f7b945858f431b4b3c03b731",
            "0b263d115a8a445f8d8a20f7e90001ca",
            "2b68583878664ac68f01bfc16a44ee0b",
            "b0e8e167453e44ffa3a504bc2457b612",
            "8e58a02ea8d847dc9118c4704a7638b1",
            "29f4a1abfd9a46b9aac92c8865890908",
            "3b4832a3131a48bcabf04237f17f6ccf",
            "cfb64511d0844d51921f60bb3c691ac2",
            "8df27eb8ef504fa0aae15b746148408e",
            "3afe0af1167f4d59bb69da11af080d63",
            "ee4fcdc4c3384412acd5af7d892fdf30",
            "fd479d327f6f4d1f9a542d0f9677af6b",
            "ed2acaafae334ca4a5d9c49c2bedc01d",
            "9ea902df6e6e4b2f9452dc8fc15913e3",
            "3c96427b424745069752948384645777",
            "2234345e20fb45adb47394017f807f2f",
            "f4819949991c4ade81c1f3a360bb752b",
            "235c71b81a154db3b7b33984c1ea47b5",
            "6a926bd6d02945caabc4c3f3b8667c88",
            "60b9fa2feaa14dd2b29fa2abee39d7f9",
            "3b67b07066c4466ebc47fc7bab0ec594",
            "b240c674c29941f0a4e9ff6560fd5b4c",
            "c36943dbaf474bc4908683152b32c464"
          ]
        },
        "outputId": "49e8944a-b59a-47fd-d6c3-0c6540d5a955",
        "id": "wCGxKxmXtLvK"
      },
      "execution_count": null,
      "outputs": [
        {
          "output_type": "display_data",
          "data": {
            "text/plain": [
              "Downloading:   0%|          | 0.00/426k [00:00<?, ?B/s]"
            ],
            "application/vnd.jupyter.widget-view+json": {
              "version_major": 2,
              "version_minor": 0,
              "model_id": "dd13e8e0aeec4805b23593c3c500bfa1"
            }
          },
          "metadata": {}
        },
        {
          "output_type": "display_data",
          "data": {
            "text/plain": [
              "Downloading:   0%|          | 0.00/134 [00:00<?, ?B/s]"
            ],
            "application/vnd.jupyter.widget-view+json": {
              "version_major": 2,
              "version_minor": 0,
              "model_id": "822cad0e9f5146dfae7807fa11e5ced4"
            }
          },
          "metadata": {}
        },
        {
          "output_type": "display_data",
          "data": {
            "text/plain": [
              "Downloading:   0%|          | 0.00/292 [00:00<?, ?B/s]"
            ],
            "application/vnd.jupyter.widget-view+json": {
              "version_major": 2,
              "version_minor": 0,
              "model_id": "0b263d115a8a445f8d8a20f7e90001ca"
            }
          },
          "metadata": {}
        },
        {
          "output_type": "display_data",
          "data": {
            "text/plain": [
              "Downloading:   0%|          | 0.00/565 [00:00<?, ?B/s]"
            ],
            "application/vnd.jupyter.widget-view+json": {
              "version_major": 2,
              "version_minor": 0,
              "model_id": "ed2acaafae334ca4a5d9c49c2bedc01d"
            }
          },
          "metadata": {}
        },
        {
          "output_type": "stream",
          "name": "stdout",
          "text": [
            "{\n",
            "  \"architectures\": [\n",
            "    \"BertForMaskedLM\"\n",
            "  ],\n",
            "  \"attention_probs_dropout_prob\": 0.1,\n",
            "  \"classifier_dropout\": null,\n",
            "  \"gradient_checkpointing\": false,\n",
            "  \"hidden_act\": \"gelu\",\n",
            "  \"hidden_dropout_prob\": 0.1,\n",
            "  \"hidden_size\": 768,\n",
            "  \"id2label\": {\n",
            "    \"0\": 0,\n",
            "    \"1\": 1\n",
            "  },\n",
            "  \"initializer_range\": 0.02,\n",
            "  \"intermediate_size\": 3072,\n",
            "  \"label2id\": {\n",
            "    \"0\": 0,\n",
            "    \"1\": 1\n",
            "  },\n",
            "  \"layer_norm_eps\": 1e-12,\n",
            "  \"max_position_embeddings\": 512,\n",
            "  \"model_type\": \"bert\",\n",
            "  \"num_attention_heads\": 12,\n",
            "  \"num_hidden_layers\": 12,\n",
            "  \"pad_token_id\": 0,\n",
            "  \"position_embedding_type\": \"absolute\",\n",
            "  \"transformers_version\": \"4.22.1\",\n",
            "  \"type_vocab_size\": 2,\n",
            "  \"use_cache\": true,\n",
            "  \"vocab_size\": 42000\n",
            "}\n",
            "\n"
          ]
        }
      ]
    },
    {
      "cell_type": "markdown",
      "source": [
        "#### Load Model for Prediction"
      ],
      "metadata": {
        "id": "z7WOgNG8ws8p"
      }
    },
    {
      "cell_type": "code",
      "source": [
        "from google.colab import drive\n",
        "drive.mount('/content/gdrive')"
      ],
      "metadata": {
        "colab": {
          "base_uri": "https://localhost:8080/"
        },
        "outputId": "dd2529e4-da01-4074-d491-3ef3e2aee61b",
        "id": "3UwZnWRTws8p"
      },
      "execution_count": null,
      "outputs": [
        {
          "output_type": "stream",
          "name": "stdout",
          "text": [
            "Mounted at /content/gdrive\n"
          ]
        }
      ]
    },
    {
      "cell_type": "code",
      "source": [
        "!ls /content/gdrive/MyDrive/finetuned_parsbert_fake_reveiws_digikala_2Xverifeid/"
      ],
      "metadata": {
        "colab": {
          "base_uri": "https://localhost:8080/"
        },
        "outputId": "31c09feb-aee4-48eb-a750-46e4c3a473a5",
        "id": "5e1s7z1Hws8p"
      },
      "execution_count": null,
      "outputs": [
        {
          "output_type": "stream",
          "name": "stdout",
          "text": [
            "finetuned_parsbert_fake_reveiws_digikala_2Xverifeid.bin  train.csv\n",
            "test.csv\t\t\t\t\t\t valid.csv\n"
          ]
        }
      ]
    },
    {
      "cell_type": "code",
      "source": [
        "model = Model(config=config)\n",
        "model = model.to(device)\n",
        "\n",
        "print('model', type(model))"
      ],
      "metadata": {
        "id": "Nw1rsPcOws8q"
      },
      "execution_count": null,
      "outputs": []
    },
    {
      "cell_type": "code",
      "source": [
        "path = F\"/content/gdrive/MyDrive/finetuned_parsbert_fake_reveiws_digikala_2Xverifeid/finetuned_parsbert_fake_reveiws_digikala_2Xverifeid.bin\" \n",
        "model.load_state_dict(torch.load(path))"
      ],
      "metadata": {
        "colab": {
          "base_uri": "https://localhost:8080/"
        },
        "outputId": "740f70c4-7e36-4290-bc7c-1f632f8809c8",
        "id": "L3zu3OTbws8q"
      },
      "execution_count": null,
      "outputs": [
        {
          "output_type": "execute_result",
          "data": {
            "text/plain": [
              "<All keys matched successfully>"
            ]
          },
          "metadata": {},
          "execution_count": 34
        }
      ]
    },
    {
      "cell_type": "markdown",
      "source": [
        "Custom input test"
      ],
      "metadata": {
        "id": "O8sJNNAFA5zs"
      }
    },
    {
      "cell_type": "code",
      "source": [
        "xtmp_test = ['خوب نبود']\n",
        "test_comments = np.array(xtmp_test)\n",
        "preds, probs = predict(model, test_comments, tokenizer, max_len=512)\n",
        "\n",
        "labels[preds[0]]"
      ],
      "metadata": {
        "colab": {
          "base_uri": "https://localhost:8080/",
          "height": 66,
          "referenced_widgets": [
            "5eff7e29deb642e89b4f9b3dca0e9b42",
            "027f46a520344fc7a30c1bfeb4b1bb61",
            "a8fb68e5029a47f3b9ea6e311b875efd",
            "24c3ae46fd0b472d86b9986f56930ae4",
            "70679258dd404a2185b03fe810fc68f5",
            "ca2bbd8a3fae44989b8e74ed218b98b1",
            "8e719796b8104d889b01661460c244ad",
            "94acdd3e9e9d45eeb4c0b1a723395058",
            "9b7627e542484572b73ae5bcea90c597",
            "ad46ef6134db4b8d8c5a162406981c34",
            "567eafe215054e5d851062f6a31a365c"
          ]
        },
        "outputId": "f8744b2c-2187-4f10-86ad-a56eb4d6ff13",
        "id": "A0RJYBQRws8q"
      },
      "execution_count": null,
      "outputs": [
        {
          "output_type": "display_data",
          "data": {
            "text/plain": [
              "  0%|          | 0/1 [00:00<?, ?it/s]"
            ],
            "application/vnd.jupyter.widget-view+json": {
              "version_major": 2,
              "version_minor": 0,
              "model_id": "5eff7e29deb642e89b4f9b3dca0e9b42"
            }
          },
          "metadata": {}
        },
        {
          "output_type": "execute_result",
          "data": {
            "text/plain": [
              "1"
            ]
          },
          "metadata": {},
          "execution_count": 35
        }
      ]
    },
    {
      "cell_type": "markdown",
      "source": [
        "using on dataset"
      ],
      "metadata": {
        "id": "BxysYPQ0A8P5"
      }
    },
    {
      "cell_type": "code",
      "source": [
        "xtmp_test = list(sentiHir[\"text\"])\n",
        "test_comments = np.array(xtmp_test)\n",
        "preds, probs = predict(model, test_comments, tokenizer, max_len=512)"
      ],
      "metadata": {
        "colab": {
          "base_uri": "https://localhost:8080/",
          "height": 49,
          "referenced_widgets": [
            "35fa7a073b60434f9d82e90f546ce945",
            "c6d314aedeaf4b3b8325d03e7b8ea893",
            "188a0347b0bf4716bb6c7926cfbbad9e",
            "845eb2059c54418cb864ee2198627270",
            "7adecaa7e06045ffa3785a536e10c205",
            "38dadd220d2c4cb986987f10f7ee57ff",
            "2a6e9f560a2f4b12bc6dd875dbd6b230",
            "66d17dbb5edb4c328e9c54d4be55e6d2",
            "ddcef2769fd34d5495dda716b74ab486",
            "3fadd1b3b64e479b8d3039d4abbfa487",
            "45ca6065df49434aa505879e8cc367c3"
          ]
        },
        "outputId": "27cf6a33-a039-4c47-8cfc-ab9a20d9b69a",
        "id": "yBlAqO9bws8q"
      },
      "execution_count": null,
      "outputs": [
        {
          "output_type": "display_data",
          "data": {
            "text/plain": [
              "  0%|          | 0/54 [00:00<?, ?it/s]"
            ],
            "application/vnd.jupyter.widget-view+json": {
              "version_major": 2,
              "version_minor": 0,
              "model_id": "35fa7a073b60434f9d82e90f546ce945"
            }
          },
          "metadata": {}
        }
      ]
    },
    {
      "cell_type": "markdown",
      "source": [
        "#### Save processed dataset to drive"
      ],
      "metadata": {
        "id": "3PnGo1oYA_3C"
      }
    },
    {
      "cell_type": "code",
      "source": [
        "sentiHir[\"is_real\"] = preds\n",
        "sentiHir"
      ],
      "metadata": {
        "colab": {
          "base_uri": "https://localhost:8080/",
          "height": 641
        },
        "outputId": "b16654d9-7ffb-45aa-a1f2-5472af28b226",
        "id": "SyJYQx4Cws8q"
      },
      "execution_count": null,
      "outputs": [
        {
          "output_type": "execute_result",
          "data": {
            "text/plain": [
              "             created_time              user_id  \\\n",
              "0     2022-09-16 13:26:59  1275726195745796097   \n",
              "1     2022-09-16 13:26:49  1275726195745796097   \n",
              "2     2022-09-16 13:26:24             51343107   \n",
              "3     2022-09-16 13:02:34  1251217170681323520   \n",
              "4     2022-09-16 12:31:10  1042096474656591872   \n",
              "...                   ...                  ...   \n",
              "1704  2022-09-07 17:16:30   885589212136972290   \n",
              "1705  2022-09-07 15:29:16  1429803427631095810   \n",
              "1706  2022-09-07 15:23:49   871961013805076480   \n",
              "1707  2022-09-07 13:52:26  1459908116779343872   \n",
              "1708  2022-09-07 12:35:29            554625899   \n",
              "\n",
              "                                                   text  is_retweet  is_quote  \\\n",
              "0     حضور دارند. در صورت بروز هر گونه مشکل در خصوص ...       False     False   \n",
              "1     مشترک گرامی، سلام ضمن عرض پوزش از شما برای مشک...       False     False   \n",
              "2     برنامه شب‌های #آسمان_شب_برای_همه در کنار مردم ...       False     False   \n",
              "3                         همراه اول به زین هم وصل می‌شد       False     False   \n",
              "4                نداریم نت نداریم ن همراه اول ن ایرانسل       False     False   \n",
              "...                                                 ...         ...       ...   \n",
              "1704                    ریدن! رایتل گویا بهتره که ندارم       False     False   \n",
              "1705  اطلس با همه خط‌ها خوبه برای خط همراه اول Vpnif...       False     False   \n",
              "1706  برای رایتل هم باید معرفی‌نامه از شرکت می‌بردیم...        True     False   \n",
              "1707  کلا بندر نت ایرانسل موجیه. اگه مودم دارید، سیم...       False     False   \n",
              "1708  شاید خیلی‌ها یادشون نیاد. یه سری راه افتاده بو...        True     False   \n",
              "\n",
              "      is_reply                                    tags  sentiment_scores  \\\n",
              "0         True                         {'hamrah_aval'}                 0   \n",
              "1         True                         {'hamrah_aval'}                 0   \n",
              "2         True                         {'hamrah_aval'}                 1   \n",
              "3         True                         {'hamrah_aval'}                 0   \n",
              "4         True             {'hamrah_aval', 'irancell'}                 0   \n",
              "...        ...                                     ...               ...   \n",
              "1704      True                             {'rightel'}                 1   \n",
              "1705      True                             {'rightel'}                 1   \n",
              "1706     False                             {'rightel'}                 0   \n",
              "1707      True  {'hamrah_aval', 'irancell', 'rightel'}                -1   \n",
              "1708     False                             {'rightel'}                 0   \n",
              "\n",
              "      is_real  \n",
              "0           0  \n",
              "1           0  \n",
              "2           0  \n",
              "3           1  \n",
              "4           0  \n",
              "...       ...  \n",
              "1704        0  \n",
              "1705        1  \n",
              "1706        0  \n",
              "1707        0  \n",
              "1708        0  \n",
              "\n",
              "[1709 rows x 9 columns]"
            ],
            "text/html": [
              "\n",
              "  <div id=\"df-6e107854-fada-4956-b921-135634870c96\">\n",
              "    <div class=\"colab-df-container\">\n",
              "      <div>\n",
              "<style scoped>\n",
              "    .dataframe tbody tr th:only-of-type {\n",
              "        vertical-align: middle;\n",
              "    }\n",
              "\n",
              "    .dataframe tbody tr th {\n",
              "        vertical-align: top;\n",
              "    }\n",
              "\n",
              "    .dataframe thead th {\n",
              "        text-align: right;\n",
              "    }\n",
              "</style>\n",
              "<table border=\"1\" class=\"dataframe\">\n",
              "  <thead>\n",
              "    <tr style=\"text-align: right;\">\n",
              "      <th></th>\n",
              "      <th>created_time</th>\n",
              "      <th>user_id</th>\n",
              "      <th>text</th>\n",
              "      <th>is_retweet</th>\n",
              "      <th>is_quote</th>\n",
              "      <th>is_reply</th>\n",
              "      <th>tags</th>\n",
              "      <th>sentiment_scores</th>\n",
              "      <th>is_real</th>\n",
              "    </tr>\n",
              "  </thead>\n",
              "  <tbody>\n",
              "    <tr>\n",
              "      <th>0</th>\n",
              "      <td>2022-09-16 13:26:59</td>\n",
              "      <td>1275726195745796097</td>\n",
              "      <td>حضور دارند. در صورت بروز هر گونه مشکل در خصوص ...</td>\n",
              "      <td>False</td>\n",
              "      <td>False</td>\n",
              "      <td>True</td>\n",
              "      <td>{'hamrah_aval'}</td>\n",
              "      <td>0</td>\n",
              "      <td>0</td>\n",
              "    </tr>\n",
              "    <tr>\n",
              "      <th>1</th>\n",
              "      <td>2022-09-16 13:26:49</td>\n",
              "      <td>1275726195745796097</td>\n",
              "      <td>مشترک گرامی، سلام ضمن عرض پوزش از شما برای مشک...</td>\n",
              "      <td>False</td>\n",
              "      <td>False</td>\n",
              "      <td>True</td>\n",
              "      <td>{'hamrah_aval'}</td>\n",
              "      <td>0</td>\n",
              "      <td>0</td>\n",
              "    </tr>\n",
              "    <tr>\n",
              "      <th>2</th>\n",
              "      <td>2022-09-16 13:26:24</td>\n",
              "      <td>51343107</td>\n",
              "      <td>برنامه شب‌های #آسمان_شب_برای_همه در کنار مردم ...</td>\n",
              "      <td>False</td>\n",
              "      <td>False</td>\n",
              "      <td>True</td>\n",
              "      <td>{'hamrah_aval'}</td>\n",
              "      <td>1</td>\n",
              "      <td>0</td>\n",
              "    </tr>\n",
              "    <tr>\n",
              "      <th>3</th>\n",
              "      <td>2022-09-16 13:02:34</td>\n",
              "      <td>1251217170681323520</td>\n",
              "      <td>همراه اول به زین هم وصل می‌شد</td>\n",
              "      <td>False</td>\n",
              "      <td>False</td>\n",
              "      <td>True</td>\n",
              "      <td>{'hamrah_aval'}</td>\n",
              "      <td>0</td>\n",
              "      <td>1</td>\n",
              "    </tr>\n",
              "    <tr>\n",
              "      <th>4</th>\n",
              "      <td>2022-09-16 12:31:10</td>\n",
              "      <td>1042096474656591872</td>\n",
              "      <td>نداریم نت نداریم ن همراه اول ن ایرانسل</td>\n",
              "      <td>False</td>\n",
              "      <td>False</td>\n",
              "      <td>True</td>\n",
              "      <td>{'hamrah_aval', 'irancell'}</td>\n",
              "      <td>0</td>\n",
              "      <td>0</td>\n",
              "    </tr>\n",
              "    <tr>\n",
              "      <th>...</th>\n",
              "      <td>...</td>\n",
              "      <td>...</td>\n",
              "      <td>...</td>\n",
              "      <td>...</td>\n",
              "      <td>...</td>\n",
              "      <td>...</td>\n",
              "      <td>...</td>\n",
              "      <td>...</td>\n",
              "      <td>...</td>\n",
              "    </tr>\n",
              "    <tr>\n",
              "      <th>1704</th>\n",
              "      <td>2022-09-07 17:16:30</td>\n",
              "      <td>885589212136972290</td>\n",
              "      <td>ریدن! رایتل گویا بهتره که ندارم</td>\n",
              "      <td>False</td>\n",
              "      <td>False</td>\n",
              "      <td>True</td>\n",
              "      <td>{'rightel'}</td>\n",
              "      <td>1</td>\n",
              "      <td>0</td>\n",
              "    </tr>\n",
              "    <tr>\n",
              "      <th>1705</th>\n",
              "      <td>2022-09-07 15:29:16</td>\n",
              "      <td>1429803427631095810</td>\n",
              "      <td>اطلس با همه خط‌ها خوبه برای خط همراه اول Vpnif...</td>\n",
              "      <td>False</td>\n",
              "      <td>False</td>\n",
              "      <td>True</td>\n",
              "      <td>{'rightel'}</td>\n",
              "      <td>1</td>\n",
              "      <td>1</td>\n",
              "    </tr>\n",
              "    <tr>\n",
              "      <th>1706</th>\n",
              "      <td>2022-09-07 15:23:49</td>\n",
              "      <td>871961013805076480</td>\n",
              "      <td>برای رایتل هم باید معرفی‌نامه از شرکت می‌بردیم...</td>\n",
              "      <td>True</td>\n",
              "      <td>False</td>\n",
              "      <td>False</td>\n",
              "      <td>{'rightel'}</td>\n",
              "      <td>0</td>\n",
              "      <td>0</td>\n",
              "    </tr>\n",
              "    <tr>\n",
              "      <th>1707</th>\n",
              "      <td>2022-09-07 13:52:26</td>\n",
              "      <td>1459908116779343872</td>\n",
              "      <td>کلا بندر نت ایرانسل موجیه. اگه مودم دارید، سیم...</td>\n",
              "      <td>False</td>\n",
              "      <td>False</td>\n",
              "      <td>True</td>\n",
              "      <td>{'hamrah_aval', 'irancell', 'rightel'}</td>\n",
              "      <td>-1</td>\n",
              "      <td>0</td>\n",
              "    </tr>\n",
              "    <tr>\n",
              "      <th>1708</th>\n",
              "      <td>2022-09-07 12:35:29</td>\n",
              "      <td>554625899</td>\n",
              "      <td>شاید خیلی‌ها یادشون نیاد. یه سری راه افتاده بو...</td>\n",
              "      <td>True</td>\n",
              "      <td>False</td>\n",
              "      <td>False</td>\n",
              "      <td>{'rightel'}</td>\n",
              "      <td>0</td>\n",
              "      <td>0</td>\n",
              "    </tr>\n",
              "  </tbody>\n",
              "</table>\n",
              "<p>1709 rows × 9 columns</p>\n",
              "</div>\n",
              "      <button class=\"colab-df-convert\" onclick=\"convertToInteractive('df-6e107854-fada-4956-b921-135634870c96')\"\n",
              "              title=\"Convert this dataframe to an interactive table.\"\n",
              "              style=\"display:none;\">\n",
              "        \n",
              "  <svg xmlns=\"http://www.w3.org/2000/svg\" height=\"24px\"viewBox=\"0 0 24 24\"\n",
              "       width=\"24px\">\n",
              "    <path d=\"M0 0h24v24H0V0z\" fill=\"none\"/>\n",
              "    <path d=\"M18.56 5.44l.94 2.06.94-2.06 2.06-.94-2.06-.94-.94-2.06-.94 2.06-2.06.94zm-11 1L8.5 8.5l.94-2.06 2.06-.94-2.06-.94L8.5 2.5l-.94 2.06-2.06.94zm10 10l.94 2.06.94-2.06 2.06-.94-2.06-.94-.94-2.06-.94 2.06-2.06.94z\"/><path d=\"M17.41 7.96l-1.37-1.37c-.4-.4-.92-.59-1.43-.59-.52 0-1.04.2-1.43.59L10.3 9.45l-7.72 7.72c-.78.78-.78 2.05 0 2.83L4 21.41c.39.39.9.59 1.41.59.51 0 1.02-.2 1.41-.59l7.78-7.78 2.81-2.81c.8-.78.8-2.07 0-2.86zM5.41 20L4 18.59l7.72-7.72 1.47 1.35L5.41 20z\"/>\n",
              "  </svg>\n",
              "      </button>\n",
              "      \n",
              "  <style>\n",
              "    .colab-df-container {\n",
              "      display:flex;\n",
              "      flex-wrap:wrap;\n",
              "      gap: 12px;\n",
              "    }\n",
              "\n",
              "    .colab-df-convert {\n",
              "      background-color: #E8F0FE;\n",
              "      border: none;\n",
              "      border-radius: 50%;\n",
              "      cursor: pointer;\n",
              "      display: none;\n",
              "      fill: #1967D2;\n",
              "      height: 32px;\n",
              "      padding: 0 0 0 0;\n",
              "      width: 32px;\n",
              "    }\n",
              "\n",
              "    .colab-df-convert:hover {\n",
              "      background-color: #E2EBFA;\n",
              "      box-shadow: 0px 1px 2px rgba(60, 64, 67, 0.3), 0px 1px 3px 1px rgba(60, 64, 67, 0.15);\n",
              "      fill: #174EA6;\n",
              "    }\n",
              "\n",
              "    [theme=dark] .colab-df-convert {\n",
              "      background-color: #3B4455;\n",
              "      fill: #D2E3FC;\n",
              "    }\n",
              "\n",
              "    [theme=dark] .colab-df-convert:hover {\n",
              "      background-color: #434B5C;\n",
              "      box-shadow: 0px 1px 3px 1px rgba(0, 0, 0, 0.15);\n",
              "      filter: drop-shadow(0px 1px 2px rgba(0, 0, 0, 0.3));\n",
              "      fill: #FFFFFF;\n",
              "    }\n",
              "  </style>\n",
              "\n",
              "      <script>\n",
              "        const buttonEl =\n",
              "          document.querySelector('#df-6e107854-fada-4956-b921-135634870c96 button.colab-df-convert');\n",
              "        buttonEl.style.display =\n",
              "          google.colab.kernel.accessAllowed ? 'block' : 'none';\n",
              "\n",
              "        async function convertToInteractive(key) {\n",
              "          const element = document.querySelector('#df-6e107854-fada-4956-b921-135634870c96');\n",
              "          const dataTable =\n",
              "            await google.colab.kernel.invokeFunction('convertToInteractive',\n",
              "                                                     [key], {});\n",
              "          if (!dataTable) return;\n",
              "\n",
              "          const docLinkHtml = 'Like what you see? Visit the ' +\n",
              "            '<a target=\"_blank\" href=https://colab.research.google.com/notebooks/data_table.ipynb>data table notebook</a>'\n",
              "            + ' to learn more about interactive tables.';\n",
              "          element.innerHTML = '';\n",
              "          dataTable['output_type'] = 'display_data';\n",
              "          await google.colab.output.renderOutput(dataTable, element);\n",
              "          const docLink = document.createElement('div');\n",
              "          docLink.innerHTML = docLinkHtml;\n",
              "          element.appendChild(docLink);\n",
              "        }\n",
              "      </script>\n",
              "    </div>\n",
              "  </div>\n",
              "  "
            ]
          },
          "metadata": {},
          "execution_count": 38
        }
      ]
    },
    {
      "cell_type": "code",
      "source": [
        "sentiHir.to_csv(\"data/fake_sentiHir.csv\", index=None)"
      ],
      "metadata": {
        "id": "ikG5ClLm4SQQ"
      },
      "execution_count": null,
      "outputs": []
    },
    {
      "cell_type": "code",
      "source": [
        "shutil.copy(\"data/fake_sentiHir.csv\", \"/content/gdrive/MyDrive/crawler/csv_files/fake_sentiHir_digikala_fake_detection.csv\")"
      ],
      "metadata": {
        "colab": {
          "base_uri": "https://localhost:8080/",
          "height": 35
        },
        "outputId": "7865f4d4-7c12-4c8d-a189-0da242c09df7",
        "id": "h1QaKT8g4SQR"
      },
      "execution_count": null,
      "outputs": [
        {
          "output_type": "execute_result",
          "data": {
            "text/plain": [
              "'/content/gdrive/MyDrive/crawler/csv_files/fake_sentiHir_digikala_fake_detection.csv'"
            ],
            "application/vnd.google.colaboratory.intrinsic+json": {
              "type": "string"
            }
          },
          "metadata": {},
          "execution_count": 40
        }
      ]
    },
    {
      "cell_type": "markdown",
      "source": [
        "## Review"
      ],
      "metadata": {
        "id": "9DO0OL1ww1_8"
      }
    },
    {
      "cell_type": "code",
      "source": [
        "sentiHir[sentiHir[\"sentiment_scores\"]==2]"
      ],
      "metadata": {
        "colab": {
          "base_uri": "https://localhost:8080/",
          "height": 457
        },
        "id": "---nxDpiDBhj",
        "outputId": "c01bf62f-bf73-4a7a-9098-07cf962292ff"
      },
      "execution_count": null,
      "outputs": [
        {
          "output_type": "execute_result",
          "data": {
            "text/plain": [
              "             created_time              user_id  \\\n",
              "136   2022-07-18 10:23:08  1430389746681925634   \n",
              "207   2022-07-17 16:20:27  1525550371879280641   \n",
              "240   2022-07-17 11:24:01  1472674346590248961   \n",
              "251   2022-07-17 07:23:08  1283324161574817793   \n",
              "339   2022-07-16 02:54:26  1544977381076701188   \n",
              "341   2022-07-15 22:58:38  1394744720388153348   \n",
              "522   2022-07-13 20:15:04  1386609761773293573   \n",
              "804   2022-07-12 12:52:08             39644707   \n",
              "1064  2022-07-10 08:21:28  1544381852907175937   \n",
              "1293  2022-07-17 16:12:02  1279040029382377478   \n",
              "1320  2022-07-17 12:10:21           2297901659   \n",
              "1450  2022-07-15 18:14:08  1498927277035470853   \n",
              "2021  2022-07-10 10:06:14   976573719849111554   \n",
              "\n",
              "                                                   text  is_retweet  is_quote  \\\n",
              "136                     هیچکس تنها نیست هلیا، همراه اول       False     False   \n",
              "207                       دا هیچکس تنها نیست، همراه اول       False     False   \n",
              "240                                همراه اول خیلی ممنون       False     False   \n",
              "251   عید #غدیر عالی امسال با کار خوب همراه اول #کهک...       False     False   \n",
              "339   منم سه روز پیش به اسم هدیه اینترنت همراه اول ب...       False     False   \n",
              "341                  سرعت اینترنت همراه اول. حرفی ندارم       False     False   \n",
              "522   من الان ۶ماهی هست رایتلم و جدا نسبت به همراه ا...       False     False   \n",
              "804   خدا رو شکر دمشون گرم واقعا برای بچه‌ها داستان ...       False     False   \n",
              "1064                        من همراه اول دارم خیلی خوبه       False     False   \n",
              "1293          وای چه عالی چراغ اول روشن شد ایرانسل لطفا       False     False   \n",
              "1320                شارژ ۵۰ هزار تومنی ایرانسل هم عالیه       False     False   \n",
              "1450                               واقعاااا ناجوان مردن       False     False   \n",
              "2021  عالی بود من هنوز چیزایی که ازش خریدم رو ایران ...       False     False   \n",
              "\n",
              "      is_reply                                    tags  sentiment_scores  \\\n",
              "136       True                         {'hamrah_aval'}                 2   \n",
              "207       True                         {'hamrah_aval'}                 2   \n",
              "240       True                         {'hamrah_aval'}                 2   \n",
              "251      False                         {'hamrah_aval'}                 2   \n",
              "339       True                         {'hamrah_aval'}                 2   \n",
              "341      False                         {'hamrah_aval'}                 2   \n",
              "522       True  {'hamrah_aval', 'rightel', 'irancell'}                 2   \n",
              "804       True                         {'hamrah_aval'}                 2   \n",
              "1064      True                         {'hamrah_aval'}                 2   \n",
              "1293      True                            {'irancell'}                 2   \n",
              "1320      True                            {'irancell'}                 2   \n",
              "1450      True                            {'irancell'}                 2   \n",
              "2021      True                            {'irancell'}                 2   \n",
              "\n",
              "      is_real  \n",
              "136         1  \n",
              "207         1  \n",
              "240         1  \n",
              "251         1  \n",
              "339         1  \n",
              "341         1  \n",
              "522         1  \n",
              "804         1  \n",
              "1064        1  \n",
              "1293        1  \n",
              "1320        1  \n",
              "1450        1  \n",
              "2021        1  "
            ],
            "text/html": [
              "\n",
              "  <div id=\"df-6a915e42-88a4-4420-b14a-173dd5caddc6\">\n",
              "    <div class=\"colab-df-container\">\n",
              "      <div>\n",
              "<style scoped>\n",
              "    .dataframe tbody tr th:only-of-type {\n",
              "        vertical-align: middle;\n",
              "    }\n",
              "\n",
              "    .dataframe tbody tr th {\n",
              "        vertical-align: top;\n",
              "    }\n",
              "\n",
              "    .dataframe thead th {\n",
              "        text-align: right;\n",
              "    }\n",
              "</style>\n",
              "<table border=\"1\" class=\"dataframe\">\n",
              "  <thead>\n",
              "    <tr style=\"text-align: right;\">\n",
              "      <th></th>\n",
              "      <th>created_time</th>\n",
              "      <th>user_id</th>\n",
              "      <th>text</th>\n",
              "      <th>is_retweet</th>\n",
              "      <th>is_quote</th>\n",
              "      <th>is_reply</th>\n",
              "      <th>tags</th>\n",
              "      <th>sentiment_scores</th>\n",
              "      <th>is_real</th>\n",
              "    </tr>\n",
              "  </thead>\n",
              "  <tbody>\n",
              "    <tr>\n",
              "      <th>136</th>\n",
              "      <td>2022-07-18 10:23:08</td>\n",
              "      <td>1430389746681925634</td>\n",
              "      <td>هیچکس تنها نیست هلیا، همراه اول</td>\n",
              "      <td>False</td>\n",
              "      <td>False</td>\n",
              "      <td>True</td>\n",
              "      <td>{'hamrah_aval'}</td>\n",
              "      <td>2</td>\n",
              "      <td>1</td>\n",
              "    </tr>\n",
              "    <tr>\n",
              "      <th>207</th>\n",
              "      <td>2022-07-17 16:20:27</td>\n",
              "      <td>1525550371879280641</td>\n",
              "      <td>دا هیچکس تنها نیست، همراه اول</td>\n",
              "      <td>False</td>\n",
              "      <td>False</td>\n",
              "      <td>True</td>\n",
              "      <td>{'hamrah_aval'}</td>\n",
              "      <td>2</td>\n",
              "      <td>1</td>\n",
              "    </tr>\n",
              "    <tr>\n",
              "      <th>240</th>\n",
              "      <td>2022-07-17 11:24:01</td>\n",
              "      <td>1472674346590248961</td>\n",
              "      <td>همراه اول خیلی ممنون</td>\n",
              "      <td>False</td>\n",
              "      <td>False</td>\n",
              "      <td>True</td>\n",
              "      <td>{'hamrah_aval'}</td>\n",
              "      <td>2</td>\n",
              "      <td>1</td>\n",
              "    </tr>\n",
              "    <tr>\n",
              "      <th>251</th>\n",
              "      <td>2022-07-17 07:23:08</td>\n",
              "      <td>1283324161574817793</td>\n",
              "      <td>عید #غدیر عالی امسال با کار خوب همراه اول #کهک...</td>\n",
              "      <td>False</td>\n",
              "      <td>False</td>\n",
              "      <td>False</td>\n",
              "      <td>{'hamrah_aval'}</td>\n",
              "      <td>2</td>\n",
              "      <td>1</td>\n",
              "    </tr>\n",
              "    <tr>\n",
              "      <th>339</th>\n",
              "      <td>2022-07-16 02:54:26</td>\n",
              "      <td>1544977381076701188</td>\n",
              "      <td>منم سه روز پیش به اسم هدیه اینترنت همراه اول ب...</td>\n",
              "      <td>False</td>\n",
              "      <td>False</td>\n",
              "      <td>True</td>\n",
              "      <td>{'hamrah_aval'}</td>\n",
              "      <td>2</td>\n",
              "      <td>1</td>\n",
              "    </tr>\n",
              "    <tr>\n",
              "      <th>341</th>\n",
              "      <td>2022-07-15 22:58:38</td>\n",
              "      <td>1394744720388153348</td>\n",
              "      <td>سرعت اینترنت همراه اول. حرفی ندارم</td>\n",
              "      <td>False</td>\n",
              "      <td>False</td>\n",
              "      <td>False</td>\n",
              "      <td>{'hamrah_aval'}</td>\n",
              "      <td>2</td>\n",
              "      <td>1</td>\n",
              "    </tr>\n",
              "    <tr>\n",
              "      <th>522</th>\n",
              "      <td>2022-07-13 20:15:04</td>\n",
              "      <td>1386609761773293573</td>\n",
              "      <td>من الان ۶ماهی هست رایتلم و جدا نسبت به همراه ا...</td>\n",
              "      <td>False</td>\n",
              "      <td>False</td>\n",
              "      <td>True</td>\n",
              "      <td>{'hamrah_aval', 'rightel', 'irancell'}</td>\n",
              "      <td>2</td>\n",
              "      <td>1</td>\n",
              "    </tr>\n",
              "    <tr>\n",
              "      <th>804</th>\n",
              "      <td>2022-07-12 12:52:08</td>\n",
              "      <td>39644707</td>\n",
              "      <td>خدا رو شکر دمشون گرم واقعا برای بچه‌ها داستان ...</td>\n",
              "      <td>False</td>\n",
              "      <td>False</td>\n",
              "      <td>True</td>\n",
              "      <td>{'hamrah_aval'}</td>\n",
              "      <td>2</td>\n",
              "      <td>1</td>\n",
              "    </tr>\n",
              "    <tr>\n",
              "      <th>1064</th>\n",
              "      <td>2022-07-10 08:21:28</td>\n",
              "      <td>1544381852907175937</td>\n",
              "      <td>من همراه اول دارم خیلی خوبه</td>\n",
              "      <td>False</td>\n",
              "      <td>False</td>\n",
              "      <td>True</td>\n",
              "      <td>{'hamrah_aval'}</td>\n",
              "      <td>2</td>\n",
              "      <td>1</td>\n",
              "    </tr>\n",
              "    <tr>\n",
              "      <th>1293</th>\n",
              "      <td>2022-07-17 16:12:02</td>\n",
              "      <td>1279040029382377478</td>\n",
              "      <td>وای چه عالی چراغ اول روشن شد ایرانسل لطفا</td>\n",
              "      <td>False</td>\n",
              "      <td>False</td>\n",
              "      <td>True</td>\n",
              "      <td>{'irancell'}</td>\n",
              "      <td>2</td>\n",
              "      <td>1</td>\n",
              "    </tr>\n",
              "    <tr>\n",
              "      <th>1320</th>\n",
              "      <td>2022-07-17 12:10:21</td>\n",
              "      <td>2297901659</td>\n",
              "      <td>شارژ ۵۰ هزار تومنی ایرانسل هم عالیه</td>\n",
              "      <td>False</td>\n",
              "      <td>False</td>\n",
              "      <td>True</td>\n",
              "      <td>{'irancell'}</td>\n",
              "      <td>2</td>\n",
              "      <td>1</td>\n",
              "    </tr>\n",
              "    <tr>\n",
              "      <th>1450</th>\n",
              "      <td>2022-07-15 18:14:08</td>\n",
              "      <td>1498927277035470853</td>\n",
              "      <td>واقعاااا ناجوان مردن</td>\n",
              "      <td>False</td>\n",
              "      <td>False</td>\n",
              "      <td>True</td>\n",
              "      <td>{'irancell'}</td>\n",
              "      <td>2</td>\n",
              "      <td>1</td>\n",
              "    </tr>\n",
              "    <tr>\n",
              "      <th>2021</th>\n",
              "      <td>2022-07-10 10:06:14</td>\n",
              "      <td>976573719849111554</td>\n",
              "      <td>عالی بود من هنوز چیزایی که ازش خریدم رو ایران ...</td>\n",
              "      <td>False</td>\n",
              "      <td>False</td>\n",
              "      <td>True</td>\n",
              "      <td>{'irancell'}</td>\n",
              "      <td>2</td>\n",
              "      <td>1</td>\n",
              "    </tr>\n",
              "  </tbody>\n",
              "</table>\n",
              "</div>\n",
              "      <button class=\"colab-df-convert\" onclick=\"convertToInteractive('df-6a915e42-88a4-4420-b14a-173dd5caddc6')\"\n",
              "              title=\"Convert this dataframe to an interactive table.\"\n",
              "              style=\"display:none;\">\n",
              "        \n",
              "  <svg xmlns=\"http://www.w3.org/2000/svg\" height=\"24px\"viewBox=\"0 0 24 24\"\n",
              "       width=\"24px\">\n",
              "    <path d=\"M0 0h24v24H0V0z\" fill=\"none\"/>\n",
              "    <path d=\"M18.56 5.44l.94 2.06.94-2.06 2.06-.94-2.06-.94-.94-2.06-.94 2.06-2.06.94zm-11 1L8.5 8.5l.94-2.06 2.06-.94-2.06-.94L8.5 2.5l-.94 2.06-2.06.94zm10 10l.94 2.06.94-2.06 2.06-.94-2.06-.94-.94-2.06-.94 2.06-2.06.94z\"/><path d=\"M17.41 7.96l-1.37-1.37c-.4-.4-.92-.59-1.43-.59-.52 0-1.04.2-1.43.59L10.3 9.45l-7.72 7.72c-.78.78-.78 2.05 0 2.83L4 21.41c.39.39.9.59 1.41.59.51 0 1.02-.2 1.41-.59l7.78-7.78 2.81-2.81c.8-.78.8-2.07 0-2.86zM5.41 20L4 18.59l7.72-7.72 1.47 1.35L5.41 20z\"/>\n",
              "  </svg>\n",
              "      </button>\n",
              "      \n",
              "  <style>\n",
              "    .colab-df-container {\n",
              "      display:flex;\n",
              "      flex-wrap:wrap;\n",
              "      gap: 12px;\n",
              "    }\n",
              "\n",
              "    .colab-df-convert {\n",
              "      background-color: #E8F0FE;\n",
              "      border: none;\n",
              "      border-radius: 50%;\n",
              "      cursor: pointer;\n",
              "      display: none;\n",
              "      fill: #1967D2;\n",
              "      height: 32px;\n",
              "      padding: 0 0 0 0;\n",
              "      width: 32px;\n",
              "    }\n",
              "\n",
              "    .colab-df-convert:hover {\n",
              "      background-color: #E2EBFA;\n",
              "      box-shadow: 0px 1px 2px rgba(60, 64, 67, 0.3), 0px 1px 3px 1px rgba(60, 64, 67, 0.15);\n",
              "      fill: #174EA6;\n",
              "    }\n",
              "\n",
              "    [theme=dark] .colab-df-convert {\n",
              "      background-color: #3B4455;\n",
              "      fill: #D2E3FC;\n",
              "    }\n",
              "\n",
              "    [theme=dark] .colab-df-convert:hover {\n",
              "      background-color: #434B5C;\n",
              "      box-shadow: 0px 1px 3px 1px rgba(0, 0, 0, 0.15);\n",
              "      filter: drop-shadow(0px 1px 2px rgba(0, 0, 0, 0.3));\n",
              "      fill: #FFFFFF;\n",
              "    }\n",
              "  </style>\n",
              "\n",
              "      <script>\n",
              "        const buttonEl =\n",
              "          document.querySelector('#df-6a915e42-88a4-4420-b14a-173dd5caddc6 button.colab-df-convert');\n",
              "        buttonEl.style.display =\n",
              "          google.colab.kernel.accessAllowed ? 'block' : 'none';\n",
              "\n",
              "        async function convertToInteractive(key) {\n",
              "          const element = document.querySelector('#df-6a915e42-88a4-4420-b14a-173dd5caddc6');\n",
              "          const dataTable =\n",
              "            await google.colab.kernel.invokeFunction('convertToInteractive',\n",
              "                                                     [key], {});\n",
              "          if (!dataTable) return;\n",
              "\n",
              "          const docLinkHtml = 'Like what you see? Visit the ' +\n",
              "            '<a target=\"_blank\" href=https://colab.research.google.com/notebooks/data_table.ipynb>data table notebook</a>'\n",
              "            + ' to learn more about interactive tables.';\n",
              "          element.innerHTML = '';\n",
              "          dataTable['output_type'] = 'display_data';\n",
              "          await google.colab.output.renderOutput(dataTable, element);\n",
              "          const docLink = document.createElement('div');\n",
              "          docLink.innerHTML = docLinkHtml;\n",
              "          element.appendChild(docLink);\n",
              "        }\n",
              "      </script>\n",
              "    </div>\n",
              "  </div>\n",
              "  "
            ]
          },
          "metadata": {},
          "execution_count": 52
        }
      ]
    },
    {
      "cell_type": "code",
      "source": [
        "sentiHir[sentiHir[\"is_real\"]==0]"
      ],
      "metadata": {
        "colab": {
          "base_uri": "https://localhost:8080/",
          "height": 424
        },
        "id": "GvJwrboGDG_T",
        "outputId": "4a2a389b-b2d0-4c47-dbd7-50c8ea8818da"
      },
      "execution_count": null,
      "outputs": [
        {
          "output_type": "execute_result",
          "data": {
            "text/plain": [
              "             created_time              user_id  \\\n",
              "33    2022-07-19 11:25:56  1259601174346547200   \n",
              "50    2022-07-19 06:10:56            477566968   \n",
              "86    2022-07-18 19:40:41  1333657131451551744   \n",
              "89    2022-07-18 19:00:37   808229128512081920   \n",
              "121   2022-07-18 12:11:26  1354449851002445824   \n",
              "...                   ...                  ...   \n",
              "2198  2022-07-13 06:55:59  1457053462689161221   \n",
              "2217  2022-07-12 14:12:10            395275311   \n",
              "2230  2022-07-11 22:49:47   930561831659335680   \n",
              "2237  2022-07-11 05:34:44   896599607798640644   \n",
              "2259  2022-07-10 08:11:52  1276783612541767680   \n",
              "\n",
              "                                                   text  is_retweet  is_quote  \\\n",
              "33    ۲۰ گیگ شصت هزار تومن، ۳۰ گیگ نود هزار تومن. هم...       False     False   \n",
              "50    I'm at Avval Hamrahe Tower | برج همراه اول in ...       False     False   \n",
              "86    نفری یکی بزنید تا بقیه هم بتونن بزنن کد‌های شا...       False      True   \n",
              "89                    شارژ بفرستم؟ همراه اول یا ایرانسل       False     False   \n",
              "121                                        ھمراہ اول (:       False     False   \n",
              "...                                                 ...         ...       ...   \n",
              "2198                                       همچنین رایتل       False     False   \n",
              "2217                                            و رایتل       False     False   \n",
              "2230  #رایتل و دست اندرکاران اون از صدر تا ذیل #تنظی...       False     False   \n",
              "2237  فراخوان رایتل پیرامون شناسایی تأمین‌کنندگان فع...       False     False   \n",
              "2259  ۵ گیگ اینترنت رایگان رایتل ویژه قربان #کدتخفیف...       False     False   \n",
              "\n",
              "      is_reply                         tags  sentiment_scores  is_real  \n",
              "33       False              {'hamrah_aval'}                 0        0  \n",
              "50       False              {'hamrah_aval'}                 0        0  \n",
              "86       False  {'hamrah_aval', 'irancell'}                 0        0  \n",
              "89        True  {'hamrah_aval', 'irancell'}                 0        0  \n",
              "121       True              {'hamrah_aval'}                 0        0  \n",
              "...        ...                          ...               ...      ...  \n",
              "2198      True                  {'rightel'}                 0        0  \n",
              "2217      True                  {'rightel'}                 0        0  \n",
              "2230     False                  {'rightel'}                 0        0  \n",
              "2237     False                  {'rightel'}                 0        0  \n",
              "2259     False                  {'rightel'}                 0        0  \n",
              "\n",
              "[115 rows x 9 columns]"
            ],
            "text/html": [
              "\n",
              "  <div id=\"df-0499198b-3663-41d9-8672-3206bb3958fd\">\n",
              "    <div class=\"colab-df-container\">\n",
              "      <div>\n",
              "<style scoped>\n",
              "    .dataframe tbody tr th:only-of-type {\n",
              "        vertical-align: middle;\n",
              "    }\n",
              "\n",
              "    .dataframe tbody tr th {\n",
              "        vertical-align: top;\n",
              "    }\n",
              "\n",
              "    .dataframe thead th {\n",
              "        text-align: right;\n",
              "    }\n",
              "</style>\n",
              "<table border=\"1\" class=\"dataframe\">\n",
              "  <thead>\n",
              "    <tr style=\"text-align: right;\">\n",
              "      <th></th>\n",
              "      <th>created_time</th>\n",
              "      <th>user_id</th>\n",
              "      <th>text</th>\n",
              "      <th>is_retweet</th>\n",
              "      <th>is_quote</th>\n",
              "      <th>is_reply</th>\n",
              "      <th>tags</th>\n",
              "      <th>sentiment_scores</th>\n",
              "      <th>is_real</th>\n",
              "    </tr>\n",
              "  </thead>\n",
              "  <tbody>\n",
              "    <tr>\n",
              "      <th>33</th>\n",
              "      <td>2022-07-19 11:25:56</td>\n",
              "      <td>1259601174346547200</td>\n",
              "      <td>۲۰ گیگ شصت هزار تومن، ۳۰ گیگ نود هزار تومن. هم...</td>\n",
              "      <td>False</td>\n",
              "      <td>False</td>\n",
              "      <td>False</td>\n",
              "      <td>{'hamrah_aval'}</td>\n",
              "      <td>0</td>\n",
              "      <td>0</td>\n",
              "    </tr>\n",
              "    <tr>\n",
              "      <th>50</th>\n",
              "      <td>2022-07-19 06:10:56</td>\n",
              "      <td>477566968</td>\n",
              "      <td>I'm at Avval Hamrahe Tower | برج همراه اول in ...</td>\n",
              "      <td>False</td>\n",
              "      <td>False</td>\n",
              "      <td>False</td>\n",
              "      <td>{'hamrah_aval'}</td>\n",
              "      <td>0</td>\n",
              "      <td>0</td>\n",
              "    </tr>\n",
              "    <tr>\n",
              "      <th>86</th>\n",
              "      <td>2022-07-18 19:40:41</td>\n",
              "      <td>1333657131451551744</td>\n",
              "      <td>نفری یکی بزنید تا بقیه هم بتونن بزنن کد‌های شا...</td>\n",
              "      <td>False</td>\n",
              "      <td>True</td>\n",
              "      <td>False</td>\n",
              "      <td>{'hamrah_aval', 'irancell'}</td>\n",
              "      <td>0</td>\n",
              "      <td>0</td>\n",
              "    </tr>\n",
              "    <tr>\n",
              "      <th>89</th>\n",
              "      <td>2022-07-18 19:00:37</td>\n",
              "      <td>808229128512081920</td>\n",
              "      <td>شارژ بفرستم؟ همراه اول یا ایرانسل</td>\n",
              "      <td>False</td>\n",
              "      <td>False</td>\n",
              "      <td>True</td>\n",
              "      <td>{'hamrah_aval', 'irancell'}</td>\n",
              "      <td>0</td>\n",
              "      <td>0</td>\n",
              "    </tr>\n",
              "    <tr>\n",
              "      <th>121</th>\n",
              "      <td>2022-07-18 12:11:26</td>\n",
              "      <td>1354449851002445824</td>\n",
              "      <td>ھمراہ اول (:</td>\n",
              "      <td>False</td>\n",
              "      <td>False</td>\n",
              "      <td>True</td>\n",
              "      <td>{'hamrah_aval'}</td>\n",
              "      <td>0</td>\n",
              "      <td>0</td>\n",
              "    </tr>\n",
              "    <tr>\n",
              "      <th>...</th>\n",
              "      <td>...</td>\n",
              "      <td>...</td>\n",
              "      <td>...</td>\n",
              "      <td>...</td>\n",
              "      <td>...</td>\n",
              "      <td>...</td>\n",
              "      <td>...</td>\n",
              "      <td>...</td>\n",
              "      <td>...</td>\n",
              "    </tr>\n",
              "    <tr>\n",
              "      <th>2198</th>\n",
              "      <td>2022-07-13 06:55:59</td>\n",
              "      <td>1457053462689161221</td>\n",
              "      <td>همچنین رایتل</td>\n",
              "      <td>False</td>\n",
              "      <td>False</td>\n",
              "      <td>True</td>\n",
              "      <td>{'rightel'}</td>\n",
              "      <td>0</td>\n",
              "      <td>0</td>\n",
              "    </tr>\n",
              "    <tr>\n",
              "      <th>2217</th>\n",
              "      <td>2022-07-12 14:12:10</td>\n",
              "      <td>395275311</td>\n",
              "      <td>و رایتل</td>\n",
              "      <td>False</td>\n",
              "      <td>False</td>\n",
              "      <td>True</td>\n",
              "      <td>{'rightel'}</td>\n",
              "      <td>0</td>\n",
              "      <td>0</td>\n",
              "    </tr>\n",
              "    <tr>\n",
              "      <th>2230</th>\n",
              "      <td>2022-07-11 22:49:47</td>\n",
              "      <td>930561831659335680</td>\n",
              "      <td>#رایتل و دست اندرکاران اون از صدر تا ذیل #تنظی...</td>\n",
              "      <td>False</td>\n",
              "      <td>False</td>\n",
              "      <td>False</td>\n",
              "      <td>{'rightel'}</td>\n",
              "      <td>0</td>\n",
              "      <td>0</td>\n",
              "    </tr>\n",
              "    <tr>\n",
              "      <th>2237</th>\n",
              "      <td>2022-07-11 05:34:44</td>\n",
              "      <td>896599607798640644</td>\n",
              "      <td>فراخوان رایتل پیرامون شناسایی تأمین‌کنندگان فع...</td>\n",
              "      <td>False</td>\n",
              "      <td>False</td>\n",
              "      <td>False</td>\n",
              "      <td>{'rightel'}</td>\n",
              "      <td>0</td>\n",
              "      <td>0</td>\n",
              "    </tr>\n",
              "    <tr>\n",
              "      <th>2259</th>\n",
              "      <td>2022-07-10 08:11:52</td>\n",
              "      <td>1276783612541767680</td>\n",
              "      <td>۵ گیگ اینترنت رایگان رایتل ویژه قربان #کدتخفیف...</td>\n",
              "      <td>False</td>\n",
              "      <td>False</td>\n",
              "      <td>False</td>\n",
              "      <td>{'rightel'}</td>\n",
              "      <td>0</td>\n",
              "      <td>0</td>\n",
              "    </tr>\n",
              "  </tbody>\n",
              "</table>\n",
              "<p>115 rows × 9 columns</p>\n",
              "</div>\n",
              "      <button class=\"colab-df-convert\" onclick=\"convertToInteractive('df-0499198b-3663-41d9-8672-3206bb3958fd')\"\n",
              "              title=\"Convert this dataframe to an interactive table.\"\n",
              "              style=\"display:none;\">\n",
              "        \n",
              "  <svg xmlns=\"http://www.w3.org/2000/svg\" height=\"24px\"viewBox=\"0 0 24 24\"\n",
              "       width=\"24px\">\n",
              "    <path d=\"M0 0h24v24H0V0z\" fill=\"none\"/>\n",
              "    <path d=\"M18.56 5.44l.94 2.06.94-2.06 2.06-.94-2.06-.94-.94-2.06-.94 2.06-2.06.94zm-11 1L8.5 8.5l.94-2.06 2.06-.94-2.06-.94L8.5 2.5l-.94 2.06-2.06.94zm10 10l.94 2.06.94-2.06 2.06-.94-2.06-.94-.94-2.06-.94 2.06-2.06.94z\"/><path d=\"M17.41 7.96l-1.37-1.37c-.4-.4-.92-.59-1.43-.59-.52 0-1.04.2-1.43.59L10.3 9.45l-7.72 7.72c-.78.78-.78 2.05 0 2.83L4 21.41c.39.39.9.59 1.41.59.51 0 1.02-.2 1.41-.59l7.78-7.78 2.81-2.81c.8-.78.8-2.07 0-2.86zM5.41 20L4 18.59l7.72-7.72 1.47 1.35L5.41 20z\"/>\n",
              "  </svg>\n",
              "      </button>\n",
              "      \n",
              "  <style>\n",
              "    .colab-df-container {\n",
              "      display:flex;\n",
              "      flex-wrap:wrap;\n",
              "      gap: 12px;\n",
              "    }\n",
              "\n",
              "    .colab-df-convert {\n",
              "      background-color: #E8F0FE;\n",
              "      border: none;\n",
              "      border-radius: 50%;\n",
              "      cursor: pointer;\n",
              "      display: none;\n",
              "      fill: #1967D2;\n",
              "      height: 32px;\n",
              "      padding: 0 0 0 0;\n",
              "      width: 32px;\n",
              "    }\n",
              "\n",
              "    .colab-df-convert:hover {\n",
              "      background-color: #E2EBFA;\n",
              "      box-shadow: 0px 1px 2px rgba(60, 64, 67, 0.3), 0px 1px 3px 1px rgba(60, 64, 67, 0.15);\n",
              "      fill: #174EA6;\n",
              "    }\n",
              "\n",
              "    [theme=dark] .colab-df-convert {\n",
              "      background-color: #3B4455;\n",
              "      fill: #D2E3FC;\n",
              "    }\n",
              "\n",
              "    [theme=dark] .colab-df-convert:hover {\n",
              "      background-color: #434B5C;\n",
              "      box-shadow: 0px 1px 3px 1px rgba(0, 0, 0, 0.15);\n",
              "      filter: drop-shadow(0px 1px 2px rgba(0, 0, 0, 0.3));\n",
              "      fill: #FFFFFF;\n",
              "    }\n",
              "  </style>\n",
              "\n",
              "      <script>\n",
              "        const buttonEl =\n",
              "          document.querySelector('#df-0499198b-3663-41d9-8672-3206bb3958fd button.colab-df-convert');\n",
              "        buttonEl.style.display =\n",
              "          google.colab.kernel.accessAllowed ? 'block' : 'none';\n",
              "\n",
              "        async function convertToInteractive(key) {\n",
              "          const element = document.querySelector('#df-0499198b-3663-41d9-8672-3206bb3958fd');\n",
              "          const dataTable =\n",
              "            await google.colab.kernel.invokeFunction('convertToInteractive',\n",
              "                                                     [key], {});\n",
              "          if (!dataTable) return;\n",
              "\n",
              "          const docLinkHtml = 'Like what you see? Visit the ' +\n",
              "            '<a target=\"_blank\" href=https://colab.research.google.com/notebooks/data_table.ipynb>data table notebook</a>'\n",
              "            + ' to learn more about interactive tables.';\n",
              "          element.innerHTML = '';\n",
              "          dataTable['output_type'] = 'display_data';\n",
              "          await google.colab.output.renderOutput(dataTable, element);\n",
              "          const docLink = document.createElement('div');\n",
              "          docLink.innerHTML = docLinkHtml;\n",
              "          element.appendChild(docLink);\n",
              "        }\n",
              "      </script>\n",
              "    </div>\n",
              "  </div>\n",
              "  "
            ]
          },
          "metadata": {},
          "execution_count": 53
        }
      ]
    }
  ]
}